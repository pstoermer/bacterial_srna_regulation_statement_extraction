{
 "cells": [
  {
   "cell_type": "code",
   "execution_count": null,
   "id": "ebb31784-b676-4469-b5c0-69f1ff545b86",
   "metadata": {},
   "outputs": [],
   "source": [
    "import os\n",
    "import json\n",
    "\n",
    "from sklearn.metrics import confusion_matrix, ConfusionMatrixDisplay\n",
    "import spacy\n",
    "\n",
    "from transformers import AutoModelForTokenClassification, AutoTokenizer\n",
    "\n",
    "import matplotlib.pyplot as plt"
   ]
  },
  {
   "cell_type": "code",
   "execution_count": null,
   "id": "99f582d8-1649-4dcc-a6d1-3827f2899758",
   "metadata": {},
   "outputs": [],
   "source": [
    "from training_utils import load_data, read_entity_dict, spacy_to_biobert_input, compute_ner_metrics"
   ]
  },
  {
   "cell_type": "code",
   "execution_count": null,
   "id": "2be3e176-e88c-47f0-bdcb-1942b4453829",
   "metadata": {},
   "outputs": [],
   "source": [
    "from extraction_utils import *"
   ]
  },
  {
   "cell_type": "markdown",
   "id": "fa5c690d-20ff-4dd7-9cb8-d6a9e45ba47f",
   "metadata": {},
   "source": [
    "## Constants\n",
    "*Defining constants upfront for easy configuration and maintenance.*"
   ]
  },
  {
   "cell_type": "code",
   "execution_count": null,
   "id": "a6f00fb6-b3fe-4e33-b879-4efb81877987",
   "metadata": {},
   "outputs": [],
   "source": [
    "DATA_PATH = '/data/02_training_data/'\n",
    "SCISPACY_MODEL_NAME = \"/data/03_models/finetuned/scispacy/finetuned_scispacy_ner/\"\n",
    "BIOBERT_MODEL_NAME = \"/data/03_models/finetuned/biobert/finetuned_biobert_ner/\""
   ]
  },
  {
   "cell_type": "markdown",
   "id": "0349d18e-4274-4c06-af8b-a5b54e4627e9",
   "metadata": {},
   "source": [
    "## Dataset Preparation\n",
    "### Load Data"
   ]
  },
  {
   "cell_type": "code",
   "execution_count": null,
   "id": "e7d80573-3ae4-4710-9f7a-ff648e546a9b",
   "metadata": {},
   "outputs": [],
   "source": [
    "try:\n",
    "    test = load_data(os.path.join(DATA_PATH,'temp_test_NER.pickle'))\n",
    "except FileNotFoundError as e:\n",
    "    print(e)"
   ]
  },
  {
   "cell_type": "markdown",
   "id": "c1f829e9-5543-4202-9df5-ac3f60071c80",
   "metadata": {},
   "source": [
    "### Load Label Mappings"
   ]
  },
  {
   "cell_type": "code",
   "execution_count": null,
   "id": "895b19c9-474d-4327-9203-799d5c4f7a45",
   "metadata": {},
   "outputs": [],
   "source": [
    "# Loading label_to_id from a JSON file\n",
    "with open(os.path.join(DATA_PATH, 'label_to_id.json'), 'r') as file:\n",
    "    label_to_id = json.load(file)\n",
    "\n",
    "# Loading id_to_label from a JSON file\n",
    "with open(os.path.join(DATA_PATH, 'id_to_label.json'), 'r') as file:\n",
    "    id_to_label = json.load(file)\n",
    "id_to_label = {int(k): v for k, v in id_to_label.items()}"
   ]
  },
  {
   "cell_type": "code",
   "execution_count": null,
   "id": "cbb1632a-5d3c-400e-982c-257140c162b4",
   "metadata": {},
   "outputs": [],
   "source": [
    "label_to_id"
   ]
  },
  {
   "cell_type": "code",
   "execution_count": null,
   "id": "82476640-3966-4837-ad1e-0ea97f9be1f0",
   "metadata": {},
   "outputs": [],
   "source": [
    "id_to_label"
   ]
  },
  {
   "cell_type": "code",
   "execution_count": null,
   "id": "d04bc81c-e307-4e29-8085-90d60fc14239",
   "metadata": {},
   "outputs": [],
   "source": [
    "bert_tokenizer = AutoTokenizer.from_pretrained(BIOBERT_MODEL_NAME)"
   ]
  },
  {
   "cell_type": "markdown",
   "id": "6584b36f-626e-4646-abf9-cb62b7cf1b0f",
   "metadata": {},
   "source": [
    "### Translate Spacy Docs to BioBert input format"
   ]
  },
  {
   "cell_type": "code",
   "execution_count": null,
   "id": "3c7e841f-3bb7-4db5-be07-4e60de330cc7",
   "metadata": {},
   "outputs": [],
   "source": [
    "test_data_biobert = spacy_to_biobert_input(test, bert_tokenizer, label_to_id)"
   ]
  },
  {
   "cell_type": "markdown",
   "id": "3b18d1d7-82f2-4507-b97d-527e90f77f1c",
   "metadata": {},
   "source": [
    "# Load Models"
   ]
  },
  {
   "cell_type": "code",
   "execution_count": null,
   "id": "3f242f46-c895-492c-babc-b98b0073391d",
   "metadata": {},
   "outputs": [],
   "source": [
    "bert_model = AutoModelForTokenClassification.from_pretrained(BIOBERT_MODEL_NAME)"
   ]
  },
  {
   "cell_type": "code",
   "execution_count": null,
   "id": "27cb380b-8b81-4cff-a3cc-1f9beb2304c9",
   "metadata": {},
   "outputs": [],
   "source": [
    "nlp = spacy.load(SCISPACY_MODEL_NAME)  # Choose the appropriate SciSpacy model"
   ]
  },
  {
   "cell_type": "markdown",
   "id": "73ae1197-d7fe-4057-8ecd-0e60f00d28a2",
   "metadata": {},
   "source": [
    "### Make predictions with both models"
   ]
  },
  {
   "cell_type": "code",
   "execution_count": null,
   "id": "00db8dbd-1589-4ce5-b562-1a058e7125d8",
   "metadata": {},
   "outputs": [],
   "source": [
    "biobert_preds = [biobert_entity_predict_conditional_window(t.text, model=bert_model, tokenizer=bert_tokenizer, id_to_label=id_to_label) for t in test]\n",
    "scispacy_preds = [scispacy_predict(t.text, nlp=nlp) for t in test]"
   ]
  },
  {
   "cell_type": "code",
   "execution_count": null,
   "id": "1fe5099a-40d7-4c39-aebd-7294b2aac5ff",
   "metadata": {},
   "outputs": [],
   "source": [
    "combined_preds = merge_predictions_with_sciSpacy_priority(biobert_preds, scispacy_preds)"
   ]
  },
  {
   "cell_type": "markdown",
   "id": "f0e9155c-9aa2-42cc-bce2-180e97a33956",
   "metadata": {},
   "source": [
    "### Combine Predictions"
   ]
  },
  {
   "cell_type": "markdown",
   "id": "329494f3-5b63-4c45-b083-69bcca10943c",
   "metadata": {},
   "source": [
    "## Evaluation\n",
    "### Normalize entity tags"
   ]
  },
  {
   "cell_type": "code",
   "execution_count": null,
   "id": "f0f8b5fb-7081-4c39-990d-6eeaacb9b6e4",
   "metadata": {},
   "outputs": [],
   "source": [
    "test_labels = [[(e.start_char, e.end_char, e, e.label_) for e in t.ents] for t in test]"
   ]
  },
  {
   "cell_type": "code",
   "execution_count": null,
   "id": "55a92289-e828-4e07-8c57-aad8b7bfedf5",
   "metadata": {},
   "outputs": [],
   "source": [
    "combined_preds = [predictions_to_tags(test[i], doc_preds) for i, doc_preds in enumerate(combined_preds)]\n",
    "test_labels = [predictions_to_tags(test[i], doc_labels) for i, doc_labels in enumerate(test_labels)]"
   ]
  },
  {
   "cell_type": "code",
   "execution_count": null,
   "id": "35c221d6-963d-4b95-932e-f78951e65bcc",
   "metadata": {},
   "outputs": [],
   "source": [
    "metrics = compute_ner_metrics([pred for doc in combined_preds for pred in doc], [pred for doc in test_labels for pred in doc])\n",
    "\n",
    "print(\"Precision:\", metrics[\"precision\"])\n",
    "print(\"Recall:\", metrics[\"recall\"])\n",
    "print(\"F1-Score:\", metrics[\"f1\"])\n",
    "print(\"\\nClassification Report:\\n\", metrics[\"classification_report\"])"
   ]
  },
  {
   "cell_type": "code",
   "execution_count": null,
   "id": "20c2711f-6a3b-416f-9965-ea8a597ff6dd",
   "metadata": {},
   "outputs": [],
   "source": [
    "# Generate the confusion matrix\n",
    "cm = confusion_matrix([pred for doc in combined_preds for pred in doc],  [pred for doc in test_labels for pred in doc], labels=['O', 'TARGETGENE', 'SRNA'])\n",
    "# Plotting the confusion matrix\n",
    "fig, ax = plt.subplots(figsize=(10, 8))\n",
    "plt.xlabel('Predicted Labels')\n",
    "plt.ylabel('Ground Truth Labels')\n",
    "plt.title('Ensemble NER Label-level Confusion Matrix')\n",
    "disp = ConfusionMatrixDisplay(confusion_matrix=cm, display_labels=['O', 'TARGETGENE', 'SRNA'])\n",
    "disp.plot(cmap=plt.cm.Blues, ax=ax)\n",
    "plt.show()"
   ]
  },
  {
   "cell_type": "code",
   "execution_count": null,
   "id": "c472cb9b-629a-4c5d-9430-6ada5284bd1f",
   "metadata": {},
   "outputs": [],
   "source": []
  }
 ],
 "metadata": {
  "kernelspec": {
   "display_name": "Python 3 (ipykernel)",
   "language": "python",
   "name": "python3"
  },
  "language_info": {
   "codemirror_mode": {
    "name": "ipython",
    "version": 3
   },
   "file_extension": ".py",
   "mimetype": "text/x-python",
   "name": "python",
   "nbconvert_exporter": "python",
   "pygments_lexer": "ipython3",
   "version": "3.10.12"
  }
 },
 "nbformat": 4,
 "nbformat_minor": 5
}