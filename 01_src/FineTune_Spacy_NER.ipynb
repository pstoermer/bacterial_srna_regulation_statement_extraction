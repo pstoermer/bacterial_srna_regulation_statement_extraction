{
 "cells": [
  {
   "cell_type": "code",
   "execution_count": 3,
   "id": "a0f4c4b7-b30c-49b1-919e-6452b47a91a3",
   "metadata": {},
   "outputs": [
    {
     "name": "stderr",
     "output_type": "stream",
     "text": [
      "2024-03-16 13:35:44.824295: E external/local_xla/xla/stream_executor/cuda/cuda_dnn.cc:9261] Unable to register cuDNN factory: Attempting to register factory for plugin cuDNN when one has already been registered\n",
      "2024-03-16 13:35:44.824347: E external/local_xla/xla/stream_executor/cuda/cuda_fft.cc:607] Unable to register cuFFT factory: Attempting to register factory for plugin cuFFT when one has already been registered\n",
      "2024-03-16 13:35:44.825183: E external/local_xla/xla/stream_executor/cuda/cuda_blas.cc:1515] Unable to register cuBLAS factory: Attempting to register factory for plugin cuBLAS when one has already been registered\n",
      "2024-03-16 13:35:44.831546: I tensorflow/core/platform/cpu_feature_guard.cc:182] This TensorFlow binary is optimized to use available CPU instructions in performance-critical operations.\n",
      "To enable the following instructions: AVX2 FMA, in other operations, rebuild TensorFlow with the appropriate compiler flags.\n",
      "2024-03-16 13:35:45.707909: W tensorflow/compiler/tf2tensorrt/utils/py_utils.cc:38] TF-TRT Warning: Could not find TensorRT\n",
      "2024-03-16 13:35:46.314380: I external/local_xla/xla/stream_executor/cuda/cuda_executor.cc:901] successful NUMA node read from SysFS had negative value (-1), but there must be at least one NUMA node, so returning NUMA node zero. See more at https://github.com/torvalds/linux/blob/v6.0/Documentation/ABI/testing/sysfs-bus-pci#L344-L355\n",
      "2024-03-16 13:35:46.347357: I external/local_xla/xla/stream_executor/cuda/cuda_executor.cc:901] successful NUMA node read from SysFS had negative value (-1), but there must be at least one NUMA node, so returning NUMA node zero. See more at https://github.com/torvalds/linux/blob/v6.0/Documentation/ABI/testing/sysfs-bus-pci#L344-L355\n",
      "2024-03-16 13:35:46.351026: I external/local_xla/xla/stream_executor/cuda/cuda_executor.cc:901] successful NUMA node read from SysFS had negative value (-1), but there must be at least one NUMA node, so returning NUMA node zero. See more at https://github.com/torvalds/linux/blob/v6.0/Documentation/ABI/testing/sysfs-bus-pci#L344-L355\n"
     ]
    }
   ],
   "source": [
    "import os\n",
    "import json\n",
    "\n",
    "import numpy as np\n",
    "\n",
    "import pickle \n",
    "from datetime import datetime as dt\n",
    "\n",
    "from sklearn.metrics import confusion_matrix, ConfusionMatrixDisplay\n",
    "import seaborn as sns\n",
    "import matplotlib.pyplot as plt\n",
    "import pandas as pd\n",
    "\n",
    "import spacy\n",
    "from spacy.tokens import DocBin\n",
    "from spacy.training import Example\n",
    "import random"
   ]
  },
  {
   "cell_type": "code",
   "execution_count": 4,
   "id": "ba409ad2-743d-414c-89af-2b4f1c868d65",
   "metadata": {},
   "outputs": [],
   "source": [
    "from training_utils import load_data, evaluate_spacy, extract_tokens_and_labels, compute_ner_metrics"
   ]
  },
  {
   "cell_type": "markdown",
   "id": "cee9aef7-dcbe-416f-b1f2-016824c7d308",
   "metadata": {},
   "source": [
    "## Constants\n",
    "*Defining constants upfront for easy configuration and maintenance.*"
   ]
  },
  {
   "cell_type": "code",
   "execution_count": 5,
   "id": "83f9c255-8733-414c-a697-7ae7aaa30945",
   "metadata": {},
   "outputs": [],
   "source": [
    "DATA_PATH = '/data/02_training_data/'\n",
    "MODEL_NAME = \"en_core_sci_sm\"\n",
    "OUTPUT_DIR = '/data/03_models/finetuned/scispacy/temp' + dt.now().strftime('%d%m%Y_%H-%M-%S')"
   ]
  },
  {
   "cell_type": "markdown",
   "id": "b6c82ae1-3e11-40dd-b017-aec5a3ff5e60",
   "metadata": {},
   "source": [
    "## Dataset Preparation"
   ]
  },
  {
   "cell_type": "markdown",
   "id": "57232629-61ee-47ae-b711-e51a64560a63",
   "metadata": {},
   "source": [
    "### Load the Dataset"
   ]
  },
  {
   "cell_type": "code",
   "execution_count": 6,
   "id": "7609b34a-2c65-4835-8ada-c45cc026e879",
   "metadata": {},
   "outputs": [],
   "source": [
    "try:\n",
    "    train = load_data(os.path.join(DATA_PATH,'temp_train_NER.pickle'))\n",
    "    test = load_data(os.path.join(DATA_PATH,'temp_test_NER.pickle'))\n",
    "except FileNotFoundError as e:\n",
    "    print(e)"
   ]
  },
  {
   "cell_type": "markdown",
   "id": "c5446019-6e72-4c19-b503-bae8be6b5490",
   "metadata": {},
   "source": [
    "## Finetune SciSpacy\n",
    "### Load Spacy Model"
   ]
  },
  {
   "cell_type": "code",
   "execution_count": 7,
   "id": "bbb4d049-fd10-420e-a556-82f0ffd76985",
   "metadata": {},
   "outputs": [
    {
     "name": "stderr",
     "output_type": "stream",
     "text": [
      "/home/bernards/sRNA_extraction/srna_venv/lib/python3.10/site-packages/spacy/language.py:2141: FutureWarning: Possible set union at position 6328\n",
      "  deserializers[\"tokenizer\"] = lambda p: self.tokenizer.from_disk(  # type: ignore[union-attr]\n"
     ]
    }
   ],
   "source": [
    "# Load the spaCy model (choose an appropriate SciSpacy model)\n",
    "nlp = spacy.load(MODEL_NAME)"
   ]
  },
  {
   "cell_type": "markdown",
   "id": "760140b8-9ef1-42f0-b220-f9f810562ba0",
   "metadata": {},
   "source": [
    "### Define `OUTPUT_PATH` for saving model weights"
   ]
  },
  {
   "cell_type": "code",
   "execution_count": 8,
   "id": "16330617-45e7-4cbe-9f0f-8b5f7f7a6ad6",
   "metadata": {},
   "outputs": [
    {
     "name": "stdout",
     "output_type": "stream",
     "text": [
      "Output Directory was created: /data/03_models/finetuned/scispacy/temp16032024_13-35-46\n"
     ]
    }
   ],
   "source": [
    "if not os.path.exists(OUTPUT_DIR):\n",
    "    os.mkdir(OUTPUT_DIR)\n",
    "    print(f'Output Directory was created: {OUTPUT_DIR}')\n",
    "else:\n",
    "    print(f'Output Directory already exists: {OUTPUT_DIR}')"
   ]
  },
  {
   "cell_type": "code",
   "execution_count": 9,
   "id": "625aa7ab-472f-4eb0-8cdc-89e93324586e",
   "metadata": {},
   "outputs": [
    {
     "name": "stdout",
     "output_type": "stream",
     "text": [
      "Iteration 1/50 - Losses: {'ner': 261.3531472854969}\n",
      "Iteration 2/50 - Losses: {'ner': 140.7252432396317}\n",
      "Iteration 3/50 - Losses: {'ner': 95.02176773748033}\n",
      "Iteration 4/50 - Losses: {'ner': 65.97454302346796}\n",
      "Iteration 5/50 - Losses: {'ner': 43.0626168343215}\n",
      "Iteration 6/50 - Losses: {'ner': 23.437921768257016}\n",
      "Iteration 7/50 - Losses: {'ner': 10.061792325726746}\n",
      "Iteration 8/50 - Losses: {'ner': 5.199140714985662}\n",
      "Iteration 9/50 - Losses: {'ner': 0.881143697604981}\n",
      "Iteration 10/50 - Losses: {'ner': 0.5015821279300581}\n",
      "Iteration 11/50 - Losses: {'ner': 0.7355819332674007}\n",
      "Iteration 12/50 - Losses: {'ner': 2.3918663200489814}\n",
      "Iteration 13/50 - Losses: {'ner': 0.01157729097152262}\n",
      "Iteration 14/50 - Losses: {'ner': 0.0015321251246366687}\n",
      "Iteration 15/50 - Losses: {'ner': 0.018901391637993897}\n",
      "Iteration 16/50 - Losses: {'ner': 0.00046029576612943707}\n",
      "Iteration 17/50 - Losses: {'ner': 0.00027021882838726657}\n",
      "Iteration 18/50 - Losses: {'ner': 0.3614975805016767}\n",
      "Iteration 19/50 - Losses: {'ner': 6.333723889022086e-05}\n",
      "Iteration 20/50 - Losses: {'ner': 3.2233570797125434e-05}\n",
      "Iteration 21/50 - Losses: {'ner': 2.08683884279853e-05}\n",
      "Iteration 22/50 - Losses: {'ner': 0.0004781476072374004}\n",
      "Iteration 23/50 - Losses: {'ner': 0.013061131411566966}\n",
      "Iteration 24/50 - Losses: {'ner': 2.8542970007329275e-06}\n",
      "Iteration 25/50 - Losses: {'ner': 0.000209248104137721}\n",
      "Iteration 26/50 - Losses: {'ner': 0.00037368513099620895}\n",
      "Iteration 27/50 - Losses: {'ner': 0.0004036124181462477}\n",
      "Iteration 28/50 - Losses: {'ner': 0.00031232785450164543}\n",
      "Iteration 29/50 - Losses: {'ner': 2.582836667901086e-05}\n",
      "Iteration 30/50 - Losses: {'ner': 3.6971633296642865e-05}\n",
      "Iteration 31/50 - Losses: {'ner': 3.458725041142341e-09}\n",
      "Iteration 32/50 - Losses: {'ner': 7.029588801169816e-07}\n",
      "Iteration 33/50 - Losses: {'ner': 2.695229686825421e-05}\n",
      "Iteration 34/50 - Losses: {'ner': 0.00414545589307104}\n",
      "Iteration 35/50 - Losses: {'ner': 4.3961110870173636e-07}\n",
      "Iteration 36/50 - Losses: {'ner': 0.00020891931512397516}\n",
      "Iteration 37/50 - Losses: {'ner': 6.925757095417645e-05}\n",
      "Iteration 38/50 - Losses: {'ner': 2.623835936014053e-05}\n",
      "Iteration 39/50 - Losses: {'ner': 9.455400898049128e-07}\n",
      "Iteration 40/50 - Losses: {'ner': 2.0656784769529146e-05}\n",
      "Iteration 41/50 - Losses: {'ner': 0.0003059095494384746}\n",
      "Iteration 42/50 - Losses: {'ner': 4.415026885537596e-07}\n",
      "Iteration 43/50 - Losses: {'ner': 0.571771406488929}\n",
      "Iteration 44/50 - Losses: {'ner': 0.21565121884308608}\n",
      "Iteration 45/50 - Losses: {'ner': 0.13647108717721684}\n",
      "Iteration 46/50 - Losses: {'ner': 0.47387519397069744}\n",
      "Iteration 47/50 - Losses: {'ner': 1.7891818164623757e-05}\n",
      "Iteration 48/50 - Losses: {'ner': 1.1089709232973771e-06}\n",
      "Iteration 49/50 - Losses: {'ner': 1.052044009830079e-05}\n",
      "Iteration 50/50 - Losses: {'ner': 0.35420232627495624}\n"
     ]
    }
   ],
   "source": [
    "other_pipes = [pipe for pipe in nlp.pipe_names if pipe != \"ner\"]\n",
    "\n",
    "num_iterations = 50\n",
    "dropout_rate = 0.2\n",
    "\n",
    "\n",
    "# Training with Validation\n",
    "with nlp.disable_pipes(*other_pipes):  # Only train NER\n",
    "    optimizer = nlp.resume_training()\n",
    "    for iteration in range(num_iterations):  # Adjust the number of iterations as needed\n",
    "        random.shuffle(train)\n",
    "        losses = {}\n",
    "\n",
    "        # Training loop\n",
    "        for batch in spacy.util.minibatch(train, size=5):\n",
    "            examples = []\n",
    "            for doc in batch:\n",
    "                examples.append(Example.from_dict(doc, {\"entities\": [(ent.start_char, ent.end_char, ent.label_) for ent in doc.ents]}))\n",
    "            nlp.update(examples, drop=dropout_rate, losses=losses, sgd=optimizer)  # Adjust the dropout rate as needed\n",
    "        print(f\"Iteration {iteration+1}/{num_iterations} - Losses: {losses}\")\n",
    "\n",
    "# Save the trained model\n",
    "nlp.to_disk(OUTPUT_DIR)"
   ]
  },
  {
   "cell_type": "markdown",
   "id": "05d477aa-a951-49d6-8842-97ad058cb5e5",
   "metadata": {},
   "source": [
    "## Evaluate the model on the test dataset"
   ]
  },
  {
   "cell_type": "code",
   "execution_count": 10,
   "id": "f04412a7-ff7f-45e9-9a77-fb1250ea8612",
   "metadata": {},
   "outputs": [
    {
     "name": "stdout",
     "output_type": "stream",
     "text": [
      "Precision: 0.7727272727272727\n",
      "Recall: 1.0\n",
      "F1-score: 0.8717948717948718\n"
     ]
    }
   ],
   "source": [
    "evaluation_results = evaluate_spacy(nlp, test)\n",
    "\n",
    "# Print the evaluation results\n",
    "print(\"Precision:\", evaluation_results[\"ents_p\"])\n",
    "print(\"Recall:\", evaluation_results[\"ents_r\"])\n",
    "print(\"F1-score:\", evaluation_results[\"ents_f\"])"
   ]
  },
  {
   "cell_type": "code",
   "execution_count": 11,
   "id": "f4a3d788-253f-4840-a3a3-678354b3f602",
   "metadata": {},
   "outputs": [],
   "source": [
    "ground_truth_tokens, ground_truth_labels = extract_tokens_and_labels(test)\n",
    "predicted_tokens, predicted_labels = extract_tokens_and_labels([nlp(t.text) for t in test])"
   ]
  },
  {
   "cell_type": "code",
   "execution_count": 12,
   "id": "c43ed163-b46c-40ad-9dfc-dcaf382bd827",
   "metadata": {},
   "outputs": [],
   "source": [
    "# Get unique tokens and labels to define the confusion matrix\n",
    "unique_tokens = np.unique(ground_truth_tokens + predicted_tokens)\n",
    "unique_labels = np.unique(ground_truth_labels + predicted_labels)"
   ]
  },
  {
   "cell_type": "code",
   "execution_count": 13,
   "id": "fd8116e6-8cd8-4c73-986f-db2a43b9b585",
   "metadata": {},
   "outputs": [
    {
     "name": "stdout",
     "output_type": "stream",
     "text": [
      "Precision: 0.9372454585357857\n",
      "Recall: 0.9288256227758007\n",
      "F1-Score: 0.9320200293255708\n",
      "\n",
      "Classification Report:\n",
      "               precision    recall  f1-score   support\n",
      "\n",
      "           O       0.97      0.96      0.96       246\n",
      "        SRNA       0.94      0.79      0.86        19\n",
      "  TARGETGENE       0.48      0.62      0.54        16\n",
      "\n",
      "    accuracy                           0.93       281\n",
      "   macro avg       0.79      0.79      0.79       281\n",
      "weighted avg       0.94      0.93      0.93       281\n",
      "\n"
     ]
    }
   ],
   "source": [
    "metrics = compute_ner_metrics(predicted_labels, ground_truth_labels)\n",
    "\n",
    "print(\"Precision:\", metrics[\"precision\"])\n",
    "print(\"Recall:\", metrics[\"recall\"])\n",
    "print(\"F1-Score:\", metrics[\"f1\"])\n",
    "print(\"\\nClassification Report:\\n\", metrics[\"classification_report\"])"
   ]
  },
  {
   "cell_type": "code",
   "execution_count": 14,
   "id": "d492c590-b016-44a5-8d7d-0bed68f4f569",
   "metadata": {},
   "outputs": [],
   "source": [
    "# Compute the confusion matrix for tokens and labels\n",
    "cm = confusion_matrix(ground_truth_labels, predicted_labels, labels=[\"O\", \"TARGETGENE\", \"SRNA\"])"
   ]
  },
  {
   "cell_type": "code",
   "execution_count": 15,
   "id": "80ce4fe3-fa58-47c2-a774-0259a2aea9ee",
   "metadata": {},
   "outputs": [
    {
     "data": {
      "image/png": "[encoded data removed]",
      "text/plain": [
       "<Figure size 1000x800 with 2 Axes>"
      ]
     },
     "metadata": {},
     "output_type": "display_data"
    },
    {
     "data": {
      "text/plain": [
       "<Figure size 640x480 with 0 Axes>"
      ]
     },
     "metadata": {},
     "output_type": "display_data"
    }
   ],
   "source": [
    "# Plot the confusion matrix\n",
    "fig, ax = plt.subplots(figsize=(10, 8))\n",
    "plt.xlabel('Predicted Labels')\n",
    "plt.ylabel('Ground Truth Labels')\n",
    "plt.title('SciSpacy NER Label-level Confusion Matrix')\n",
    "disp = ConfusionMatrixDisplay(confusion_matrix=cm, display_labels=[\"O\", \"TARGETGENE\", \"SRNA\"])\n",
    "disp.plot(cmap=plt.cm.Blues, ax=ax)\n",
    "plt.show()\n",
    "\n",
    "\n",
    "plt.tight_layout()"
   ]
  },
  {
   "cell_type": "code",
   "execution_count": 16,
   "id": "dd3f6e64-6435-48e4-86dd-ffeb4390ef5e",
   "metadata": {},
   "outputs": [
    {
     "data": {
      "text/plain": [
       "array([[236,   9,   1],\n",
       "       [  6,  10,   0],\n",
       "       [  2,   2,  15]])"
      ]
     },
     "execution_count": 16,
     "metadata": {},
     "output_type": "execute_result"
    }
   ],
   "source": [
    "cm"
   ]
  },
  {
   "cell_type": "code",
   "execution_count": null,
   "id": "9721af3e-a7ff-450a-9738-142181305b3e",
   "metadata": {},
   "outputs": [],
   "source": []
  }
 ],
 "metadata": {
  "kernelspec": {
   "display_name": "Python 3 (ipykernel)",
   "language": "python",
   "name": "python3"
  },
  "language_info": {
   "codemirror_mode": {
    "name": "ipython",
    "version": 3
   },
   "file_extension": ".py",
   "mimetype": "text/x-python",
   "name": "python",
   "nbconvert_exporter": "python",
   "pygments_lexer": "ipython3",
   "version": "3.10.12"
  }
 },
 "nbformat": 4,
 "nbformat_minor": 5
}
