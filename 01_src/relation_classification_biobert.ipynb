{
 "cells": [
  {
   "cell_type": "code",
   "execution_count": 244,
   "id": "e07a8b7f-ec2b-4d67-bae4-380d417eb941",
   "metadata": {},
   "outputs": [],
   "source": [
    "import os\n",
    "import joblib\n",
    "\n",
    "import pandas as pd\n",
    "import numpy as np\n",
    "\n",
    "import re \n",
    "\n",
    "from sklearn.base import BaseEstimator, TransformerMixin\n",
    "from sklearn.metrics import classification_report, confusion_matrix, ConfusionMatrixDisplay\n",
    "from sklearn.model_selection import train_test_split\n",
    "from sklearn.preprocessing import LabelEncoder\n",
    "from sklearn.feature_extraction.text import TfidfVectorizer\n",
    "\n",
    "from nltk.corpus import stopwords\n",
    "\n",
    "import matplotlib.pyplot as plt\n",
    "\n",
    "import torch\n",
    "from torch.utils.data import TensorDataset, DataLoader, RandomSampler, SequentialSampler\n",
    "from torch.nn import CrossEntropyLoss\n",
    "import torch.nn.functional as F\n",
    "from transformers import BertTokenizerFast, BertForSequenceClassification, AdamW\n",
    "from transformers import BertTokenizer, BertForSequenceClassification, Trainer, TrainingArguments"
   ]
  },
  {
   "cell_type": "code",
   "execution_count": 245,
   "id": "6caeb289-80e5-457b-8293-aa6d019f9f36",
   "metadata": {},
   "outputs": [],
   "source": [
    "from preprocessing_utils import preprocess_texts"
   ]
  },
  {
   "cell_type": "code",
   "execution_count": 246,
   "id": "06f048e5-ba59-4473-9d02-bd5a2314065e",
   "metadata": {},
   "outputs": [],
   "source": [
    "DATA_PATH = '/data/02_training_data/'\n",
    "MODEL_OUT_PATH = '/data/03_models/relation_classifier/'"
   ]
  },
  {
   "cell_type": "markdown",
   "id": "11d265ef-6b8c-459d-bbdb-bb951d2383c6",
   "metadata": {},
   "source": [
    "### Load Data"
   ]
  },
  {
   "cell_type": "code",
   "execution_count": 247,
   "id": "ee294fea-ceb1-424c-afa7-47eb356f4460",
   "metadata": {},
   "outputs": [],
   "source": [
    "try:\n",
    "    train_df = pd.read_parquet(os.path.join(DATA_PATH,'temp_train_df.pq'))\n",
    "    test_df = pd.read_parquet(os.path.join(DATA_PATH,'temp_test_df.pq'))\n",
    "except FileNotFoundError as e:\n",
    "    print(e)"
   ]
  },
  {
   "cell_type": "code",
   "execution_count": 248,
   "id": "31182935-ab1d-4cce-94c0-2f26f65663f1",
   "metadata": {},
   "outputs": [
    {
     "name": "stdout",
     "output_type": "stream",
     "text": [
      "(72, 14)\n",
      "type_of_regulation\n",
      "antisense inhibitor of           51\n",
      "regulates (molecular biology)    15\n",
      "activator of                      6\n",
      "Name: count, dtype: int64\n"
     ]
    },
    {
     "data": {
      "text/html": [
       "<div>\n",
       "<style scoped>\n",
       "    .dataframe tbody tr th:only-of-type {\n",
       "        vertical-align: middle;\n",
       "    }\n",
       "\n",
       "    .dataframe tbody tr th {\n",
       "        vertical-align: top;\n",
       "    }\n",
       "\n",
       "    .dataframe thead th {\n",
       "        text-align: right;\n",
       "    }\n",
       "</style>\n",
       "<table border=\"1\" class=\"dataframe\">\n",
       "  <thead>\n",
       "    <tr style=\"text-align: right;\">\n",
       "      <th></th>\n",
       "      <th>srna</th>\n",
       "      <th>srna_synonyms</th>\n",
       "      <th>type_of_regulation</th>\n",
       "      <th>target_gene</th>\n",
       "      <th>quote</th>\n",
       "      <th>quote_from</th>\n",
       "      <th>pmcid</th>\n",
       "      <th>wikidata</th>\n",
       "      <th>srna_name</th>\n",
       "      <th>text_prep</th>\n",
       "      <th>target_gene_id</th>\n",
       "      <th>gene_synonyms</th>\n",
       "      <th>srna_name_mentioned</th>\n",
       "      <th>gene_name_mentioned</th>\n",
       "    </tr>\n",
       "  </thead>\n",
       "  <tbody>\n",
       "    <tr>\n",
       "      <th>0</th>\n",
       "      <td>sRNA encoded by micF</td>\n",
       "      <td>stc, b4439, ECK2208, IS113, JWR0043, micF</td>\n",
       "      <td>antisense inhibitor of</td>\n",
       "      <td>outer membrane porin F b0929</td>\n",
       "      <td>we suggest that an increased expression of the...</td>\n",
       "      <td>/Article_Viewer%2Ehtml?pmcid=PMC213846&amp;quote=w...</td>\n",
       "      <td>213846</td>\n",
       "      <td>http://www.wikidata.org/entity/Q50418533</td>\n",
       "      <td>micF</td>\n",
       "      <td>we suggest that an increased expression of the...</td>\n",
       "      <td>b0929</td>\n",
       "      <td>cmlB, cry, ECK0920, nfxB, tolF, ompF</td>\n",
       "      <td>micF</td>\n",
       "      <td>ompF</td>\n",
       "    </tr>\n",
       "    <tr>\n",
       "      <th>1</th>\n",
       "      <td>sRNA encoded by ryhB</td>\n",
       "      <td>b4451, ECK3426, IS176, JWR0219, psrA18, ryhB, ...</td>\n",
       "      <td>antisense inhibitor of</td>\n",
       "      <td>aconitate hydratase 1 b1276</td>\n",
       "      <td>The genes regulated by RyhB include some encod...</td>\n",
       "      <td>/Article_Viewer%2Ehtml?pmcid=PMC1251601&amp;quote=...</td>\n",
       "      <td>1251601</td>\n",
       "      <td>http://www.wikidata.org/entity/Q50419794</td>\n",
       "      <td>ryhB</td>\n",
       "      <td>The genes regulated by RyhB include some encod...</td>\n",
       "      <td>b1276</td>\n",
       "      <td>acn, ECK1271, acnA</td>\n",
       "      <td>RyhB</td>\n",
       "      <td>acnA, acn</td>\n",
       "    </tr>\n",
       "  </tbody>\n",
       "</table>\n",
       "</div>"
      ],
      "text/plain": [
       "                   srna                                      srna_synonyms  \\\n",
       "0  sRNA encoded by micF          stc, b4439, ECK2208, IS113, JWR0043, micF   \n",
       "1  sRNA encoded by ryhB  b4451, ECK3426, IS176, JWR0219, psrA18, ryhB, ...   \n",
       "\n",
       "       type_of_regulation                   target_gene  \\\n",
       "0  antisense inhibitor of  outer membrane porin F b0929   \n",
       "1  antisense inhibitor of   aconitate hydratase 1 b1276   \n",
       "\n",
       "                                               quote  \\\n",
       "0  we suggest that an increased expression of the...   \n",
       "1  The genes regulated by RyhB include some encod...   \n",
       "\n",
       "                                          quote_from    pmcid  \\\n",
       "0  /Article_Viewer%2Ehtml?pmcid=PMC213846&quote=w...   213846   \n",
       "1  /Article_Viewer%2Ehtml?pmcid=PMC1251601&quote=...  1251601   \n",
       "\n",
       "                                   wikidata srna_name  \\\n",
       "0  http://www.wikidata.org/entity/Q50418533      micF   \n",
       "1  http://www.wikidata.org/entity/Q50419794      ryhB   \n",
       "\n",
       "                                           text_prep target_gene_id  \\\n",
       "0  we suggest that an increased expression of the...          b0929   \n",
       "1  The genes regulated by RyhB include some encod...          b1276   \n",
       "\n",
       "                          gene_synonyms srna_name_mentioned  \\\n",
       "0  cmlB, cry, ECK0920, nfxB, tolF, ompF                micF   \n",
       "1                    acn, ECK1271, acnA                RyhB   \n",
       "\n",
       "  gene_name_mentioned  \n",
       "0                ompF  \n",
       "1           acnA, acn  "
      ]
     },
     "execution_count": 248,
     "metadata": {},
     "output_type": "execute_result"
    }
   ],
   "source": [
    "print(train_df.shape)\n",
    "print(train_df.type_of_regulation.value_counts())\n",
    "train_df.head(2)"
   ]
  },
  {
   "cell_type": "code",
   "execution_count": 249,
   "id": "e4e79153-117c-4956-b2c4-08501fb7340c",
   "metadata": {},
   "outputs": [
    {
     "name": "stdout",
     "output_type": "stream",
     "text": [
      "(27, 14)\n",
      "type_of_regulation\n",
      "antisense inhibitor of           17\n",
      "regulates (molecular biology)     9\n",
      "activator of                      1\n",
      "Name: count, dtype: int64\n"
     ]
    },
    {
     "data": {
      "text/html": [
       "<div>\n",
       "<style scoped>\n",
       "    .dataframe tbody tr th:only-of-type {\n",
       "        vertical-align: middle;\n",
       "    }\n",
       "\n",
       "    .dataframe tbody tr th {\n",
       "        vertical-align: top;\n",
       "    }\n",
       "\n",
       "    .dataframe thead th {\n",
       "        text-align: right;\n",
       "    }\n",
       "</style>\n",
       "<table border=\"1\" class=\"dataframe\">\n",
       "  <thead>\n",
       "    <tr style=\"text-align: right;\">\n",
       "      <th></th>\n",
       "      <th>srna</th>\n",
       "      <th>srna_synonyms</th>\n",
       "      <th>type_of_regulation</th>\n",
       "      <th>target_gene</th>\n",
       "      <th>quote</th>\n",
       "      <th>quote_from</th>\n",
       "      <th>pmcid</th>\n",
       "      <th>wikidata</th>\n",
       "      <th>srna_name</th>\n",
       "      <th>text_prep</th>\n",
       "      <th>target_gene_id</th>\n",
       "      <th>gene_synonyms</th>\n",
       "      <th>srna_name_mentioned</th>\n",
       "      <th>gene_name_mentioned</th>\n",
       "    </tr>\n",
       "  </thead>\n",
       "  <tbody>\n",
       "    <tr>\n",
       "      <th>0</th>\n",
       "      <td>sRNA encoded by omrB</td>\n",
       "      <td>t59, b4445, ECK2834, JWR0249, omrB, PAIR2b, rygB</td>\n",
       "      <td>antisense inhibitor of</td>\n",
       "      <td>ferric dihyroxybenzoylserine outer membrane tr...</td>\n",
       "      <td>Therefore, the first 10 nt of both OmrA and Om...</td>\n",
       "      <td>/Article_Viewer%2Ehtml?pmcid=PMC2588501&amp;quote=...</td>\n",
       "      <td>2588501</td>\n",
       "      <td>http://www.wikidata.org/entity/Q50419398</td>\n",
       "      <td>omrB</td>\n",
       "      <td>Therefore the first 10 nt of both OmrA and Omr...</td>\n",
       "      <td>b2155</td>\n",
       "      <td>cir, ECK2148, feuA, cirA</td>\n",
       "      <td>OmrB</td>\n",
       "      <td>cir, cirA</td>\n",
       "    </tr>\n",
       "    <tr>\n",
       "      <th>1</th>\n",
       "      <td>sRNA encoded by omrA</td>\n",
       "      <td>b4444, ECK2833, JWR0248, omrA, PAIR2a, psrA12,...</td>\n",
       "      <td>antisense inhibitor of</td>\n",
       "      <td>outer membrane protease VII (outer membrane pr...</td>\n",
       "      <td>Therefore, the first 10 nt of both OmrA and Om...</td>\n",
       "      <td>/Article_Viewer%2Ehtml?pmcid=PMC2588501&amp;quote=...</td>\n",
       "      <td>2588501</td>\n",
       "      <td>http://www.wikidata.org/entity/Q50419343</td>\n",
       "      <td>omrA</td>\n",
       "      <td>Therefore the first 10 nt of both OmrA and Omr...</td>\n",
       "      <td>b0565</td>\n",
       "      <td>ECK0557, ompT</td>\n",
       "      <td>OmrA</td>\n",
       "      <td>ompT</td>\n",
       "    </tr>\n",
       "  </tbody>\n",
       "</table>\n",
       "</div>"
      ],
      "text/plain": [
       "                   srna                                      srna_synonyms  \\\n",
       "0  sRNA encoded by omrB   t59, b4445, ECK2834, JWR0249, omrB, PAIR2b, rygB   \n",
       "1  sRNA encoded by omrA  b4444, ECK2833, JWR0248, omrA, PAIR2a, psrA12,...   \n",
       "\n",
       "       type_of_regulation                                        target_gene  \\\n",
       "0  antisense inhibitor of  ferric dihyroxybenzoylserine outer membrane tr...   \n",
       "1  antisense inhibitor of  outer membrane protease VII (outer membrane pr...   \n",
       "\n",
       "                                               quote  \\\n",
       "0  Therefore, the first 10 nt of both OmrA and Om...   \n",
       "1  Therefore, the first 10 nt of both OmrA and Om...   \n",
       "\n",
       "                                          quote_from    pmcid  \\\n",
       "0  /Article_Viewer%2Ehtml?pmcid=PMC2588501&quote=...  2588501   \n",
       "1  /Article_Viewer%2Ehtml?pmcid=PMC2588501&quote=...  2588501   \n",
       "\n",
       "                                   wikidata srna_name  \\\n",
       "0  http://www.wikidata.org/entity/Q50419398      omrB   \n",
       "1  http://www.wikidata.org/entity/Q50419343      omrA   \n",
       "\n",
       "                                           text_prep target_gene_id  \\\n",
       "0  Therefore the first 10 nt of both OmrA and Omr...          b2155   \n",
       "1  Therefore the first 10 nt of both OmrA and Omr...          b0565   \n",
       "\n",
       "              gene_synonyms srna_name_mentioned gene_name_mentioned  \n",
       "0  cir, ECK2148, feuA, cirA                OmrB           cir, cirA  \n",
       "1             ECK0557, ompT                OmrA                ompT  "
      ]
     },
     "execution_count": 249,
     "metadata": {},
     "output_type": "execute_result"
    }
   ],
   "source": [
    "print(test_df.shape)\n",
    "print(test_df.type_of_regulation.value_counts())\n",
    "test_df.head(2)"
   ]
  },
  {
   "cell_type": "markdown",
   "id": "7aa9fc1f-2363-47f4-a682-e04ba6a5b721",
   "metadata": {},
   "source": [
    "## Generate negative examples using GPT-4:\n",
    "**Prompt used:**\n",
    "> *\"Generate 500 sentences that are structured and phrased as if extracted from scientific research articles or academic discussions in the fields of microbiology and molecular biology. These sentences should encompass a broad range of topics including but not limited to gene expression analysis, protein function and interaction, cellular processes, bacterial genetics, and responses to environmental stressors. Each sentence must be unique and present a specific scientific fact, hypothesis, observation, or methodological approach relevant to the aforementioned fields. Ensure the sentences reflect the precision, terminology, and tone typical of scholarly articles, including references to experimental techniques, genetic components, and theoretical frameworks without simulating references or citations. The objective is to create a dataset of negative examples that are contextually similar to discussions about bacterial sRNA regulation but are clearly distinguishable by their lack of specific references to sRNA-mediated regulatory mechanisms.\"*"
   ]
  },
  {
   "cell_type": "code",
   "execution_count": 250,
   "id": "97c74b90-1b72-48cb-a6f3-df94adf42370",
   "metadata": {},
   "outputs": [
    {
     "data": {
      "text/plain": [
       "500"
      ]
     },
     "execution_count": 250,
     "metadata": {},
     "output_type": "execute_result"
    }
   ],
   "source": [
    "from negative_examples import negative_examples\n",
    "negative_examples = [preprocess_texts(ex) for ex in negative_examples]\n",
    "len(negative_examples)"
   ]
  },
  {
   "cell_type": "code",
   "execution_count": 251,
   "id": "3f787bfc-3ec4-4d45-ade0-6b2220deb3e8",
   "metadata": {},
   "outputs": [
    {
     "name": "stdout",
     "output_type": "stream",
     "text": [
      "(500, 2)\n"
     ]
    },
    {
     "data": {
      "text/html": [
       "<div>\n",
       "<style scoped>\n",
       "    .dataframe tbody tr th:only-of-type {\n",
       "        vertical-align: middle;\n",
       "    }\n",
       "\n",
       "    .dataframe tbody tr th {\n",
       "        vertical-align: top;\n",
       "    }\n",
       "\n",
       "    .dataframe thead th {\n",
       "        text-align: right;\n",
       "    }\n",
       "</style>\n",
       "<table border=\"1\" class=\"dataframe\">\n",
       "  <thead>\n",
       "    <tr style=\"text-align: right;\">\n",
       "      <th></th>\n",
       "      <th>text_prep</th>\n",
       "      <th>type_of_regulation</th>\n",
       "    </tr>\n",
       "  </thead>\n",
       "  <tbody>\n",
       "    <tr>\n",
       "      <th>0</th>\n",
       "      <td>The role of ATP synthase in mitochondrial ener...</td>\n",
       "      <td>none</td>\n",
       "    </tr>\n",
       "    <tr>\n",
       "      <th>1</th>\n",
       "      <td>Through chromatin immunoprecipitation assays t...</td>\n",
       "      <td>none</td>\n",
       "    </tr>\n",
       "    <tr>\n",
       "      <th>2</th>\n",
       "      <td>The study of bacterial conjugation reveals a h...</td>\n",
       "      <td>none</td>\n",
       "    </tr>\n",
       "  </tbody>\n",
       "</table>\n",
       "</div>"
      ],
      "text/plain": [
       "                                           text_prep type_of_regulation\n",
       "0  The role of ATP synthase in mitochondrial ener...               none\n",
       "1  Through chromatin immunoprecipitation assays t...               none\n",
       "2  The study of bacterial conjugation reveals a h...               none"
      ]
     },
     "execution_count": 251,
     "metadata": {},
     "output_type": "execute_result"
    }
   ],
   "source": [
    "negative_examples_df = pd.DataFrame(negative_examples, columns=['text_prep'])\n",
    "negative_examples_df['type_of_regulation'] = 'none'\n",
    "print(negative_examples_df.shape)\n",
    "negative_examples_df.head(3)"
   ]
  },
  {
   "cell_type": "markdown",
   "id": "1314dc14-b600-4992-a8fc-2366c4487556",
   "metadata": {},
   "source": [
    "### Add negative examples to datasets"
   ]
  },
  {
   "cell_type": "code",
   "execution_count": 252,
   "id": "b2b71772-b6d1-48b5-abb5-73d37ae8a0b8",
   "metadata": {},
   "outputs": [],
   "source": [
    "train_negative_df, test_negative_df =  train_test_split(negative_examples_df, test_size=0.3, random_state=42)"
   ]
  },
  {
   "cell_type": "code",
   "execution_count": 253,
   "id": "6250415f-b366-44b6-bfe0-80b7e1e457f3",
   "metadata": {},
   "outputs": [
    {
     "name": "stdout",
     "output_type": "stream",
     "text": [
      "(374, 2)\n",
      "\n",
      "type_of_regulation\n",
      "none                             350\n",
      "antisense inhibitor of            14\n",
      "regulates (molecular biology)      7\n",
      "activator of                       3\n",
      "Name: count, dtype: int64\n"
     ]
    },
    {
     "data": {
      "text/html": [
       "<div>\n",
       "<style scoped>\n",
       "    .dataframe tbody tr th:only-of-type {\n",
       "        vertical-align: middle;\n",
       "    }\n",
       "\n",
       "    .dataframe tbody tr th {\n",
       "        vertical-align: top;\n",
       "    }\n",
       "\n",
       "    .dataframe thead th {\n",
       "        text-align: right;\n",
       "    }\n",
       "</style>\n",
       "<table border=\"1\" class=\"dataframe\">\n",
       "  <thead>\n",
       "    <tr style=\"text-align: right;\">\n",
       "      <th></th>\n",
       "      <th>text_prep</th>\n",
       "      <th>type_of_regulation</th>\n",
       "    </tr>\n",
       "  </thead>\n",
       "  <tbody>\n",
       "    <tr>\n",
       "      <th>0</th>\n",
       "      <td>The study of plant microbe interactions provid...</td>\n",
       "      <td>none</td>\n",
       "    </tr>\n",
       "    <tr>\n",
       "      <th>1</th>\n",
       "      <td>Understanding the molecular basis of muscle co...</td>\n",
       "      <td>none</td>\n",
       "    </tr>\n",
       "  </tbody>\n",
       "</table>\n",
       "</div>"
      ],
      "text/plain": [
       "                                           text_prep type_of_regulation\n",
       "0  The study of plant microbe interactions provid...               none\n",
       "1  Understanding the molecular basis of muscle co...               none"
      ]
     },
     "execution_count": 253,
     "metadata": {},
     "output_type": "execute_result"
    }
   ],
   "source": [
    "train_df = pd.concat([train_df, train_negative_df])[['text_prep', 'type_of_regulation']].drop_duplicates()\n",
    "train_df = train_df.sample(frac=1).reset_index(drop=True)\n",
    "print(train_df.shape, end='\\n\\n')\n",
    "print(train_df.type_of_regulation.value_counts())\n",
    "train_df.head(2)"
   ]
  },
  {
   "cell_type": "code",
   "execution_count": 254,
   "id": "ec5da3f3-6d15-46aa-ae2b-fe105c637897",
   "metadata": {},
   "outputs": [
    {
     "name": "stdout",
     "output_type": "stream",
     "text": [
      "(161, 2)\n",
      "\n",
      "type_of_regulation\n",
      "none                             150\n",
      "antisense inhibitor of             7\n",
      "regulates (molecular biology)      3\n",
      "activator of                       1\n",
      "Name: count, dtype: int64\n"
     ]
    },
    {
     "data": {
      "text/html": [
       "<div>\n",
       "<style scoped>\n",
       "    .dataframe tbody tr th:only-of-type {\n",
       "        vertical-align: middle;\n",
       "    }\n",
       "\n",
       "    .dataframe tbody tr th {\n",
       "        vertical-align: top;\n",
       "    }\n",
       "\n",
       "    .dataframe thead th {\n",
       "        text-align: right;\n",
       "    }\n",
       "</style>\n",
       "<table border=\"1\" class=\"dataframe\">\n",
       "  <thead>\n",
       "    <tr style=\"text-align: right;\">\n",
       "      <th></th>\n",
       "      <th>text_prep</th>\n",
       "      <th>type_of_regulation</th>\n",
       "    </tr>\n",
       "  </thead>\n",
       "  <tbody>\n",
       "    <tr>\n",
       "      <th>0</th>\n",
       "      <td>The pvdS gene regulating pyoverdine synthesis ...</td>\n",
       "      <td>none</td>\n",
       "    </tr>\n",
       "    <tr>\n",
       "      <th>1</th>\n",
       "      <td>Finally the csgDEFG transcript is also subject...</td>\n",
       "      <td>antisense inhibitor of</td>\n",
       "    </tr>\n",
       "  </tbody>\n",
       "</table>\n",
       "</div>"
      ],
      "text/plain": [
       "                                           text_prep      type_of_regulation\n",
       "0  The pvdS gene regulating pyoverdine synthesis ...                    none\n",
       "1  Finally the csgDEFG transcript is also subject...  antisense inhibitor of"
      ]
     },
     "execution_count": 254,
     "metadata": {},
     "output_type": "execute_result"
    }
   ],
   "source": [
    "test_df = pd.concat([test_df, test_negative_df])[['text_prep', 'type_of_regulation']].drop_duplicates()\n",
    "test_df = test_df.sample(frac=1).reset_index(drop=True)\n",
    "print(test_df.shape, end='\\n\\n')\n",
    "print(test_df.type_of_regulation.value_counts())\n",
    "test_df.head(2)"
   ]
  },
  {
   "cell_type": "markdown",
   "id": "0aac5ecc-d367-46e7-825b-ceadc86ea3dd",
   "metadata": {},
   "source": [
    "## Encode Labels"
   ]
  },
  {
   "cell_type": "code",
   "execution_count": 255,
   "id": "5e2fabfe-9b57-4438-97d4-5a7fef818e5b",
   "metadata": {},
   "outputs": [],
   "source": [
    "label_encoder = LabelEncoder()\n",
    "train_df['labels'] = label_encoder.fit_transform(train_df['type_of_regulation'])\n",
    "test_df['labels'] = label_encoder.fit_transform(test_df['type_of_regulation'])"
   ]
  },
  {
   "cell_type": "markdown",
   "id": "23aacc9c-a2a5-4b60-aa58-c16d5d451afb",
   "metadata": {},
   "source": [
    "## Prepare Model Training"
   ]
  },
  {
   "cell_type": "code",
   "execution_count": null,
   "id": "f3f21a7a-9114-49ad-80a7-9f407d9ea7f0",
   "metadata": {},
   "outputs": [],
   "source": [
    "tokenizer = BertTokenizer.from_pretrained(\"dmis-lab/biobert-base-cased-v1.2\")"
   ]
  },
  {
   "cell_type": "code",
   "execution_count": null,
   "id": "92caadda-1d5e-48ba-9b4d-275110f92083",
   "metadata": {},
   "outputs": [],
   "source": [
    "from torch.utils.data import Dataset\n",
    "import pandas as pd\n",
    "import torch\n",
    "\n",
    "class TextDataset(Dataset):\n",
    "    def __init__(self, dataframe, tokenizer, max_len=256):\n",
    "        self.dataframe = dataframe\n",
    "        self.tokenizer = tokenizer\n",
    "        self.max_len = max_len\n",
    "\n",
    "    def __len__(self):\n",
    "        return len(self.dataframe)\n",
    "\n",
    "    def __getitem__(self, idx):\n",
    "        row = self.dataframe.iloc[idx]\n",
    "        encoding = self.tokenizer.encode_plus(\n",
    "            row['text_prep'],\n",
    "            add_special_tokens=True,\n",
    "            max_length=self.max_len,\n",
    "            padding='max_length',\n",
    "            truncation=True,\n",
    "            return_attention_mask=True,\n",
    "            return_tensors='pt',\n",
    "        )\n",
    "        return {\n",
    "            'input_ids': encoding['input_ids'].squeeze(),  # Remove batch dimension\n",
    "            'attention_mask': encoding['attention_mask'].squeeze(),  # Remove batch dimension\n",
    "            'labels': torch.tensor(row['labels'])\n",
    "        }"
   ]
  },
  {
   "cell_type": "code",
   "execution_count": null,
   "id": "562085d5-cfd1-4d30-8856-fec2b57d1617",
   "metadata": {},
   "outputs": [],
   "source": [
    "train_dataset = TextDataset(train_df, tokenizer)\n",
    "test_dataset = TextDataset(test_df, tokenizer)"
   ]
  },
  {
   "cell_type": "code",
   "execution_count": null,
   "id": "8c7f0202-c0ad-484b-a173-efd6830cd0cf",
   "metadata": {},
   "outputs": [],
   "source": []
  },
  {
   "cell_type": "markdown",
   "id": "b2738373-f9c0-4370-9aa0-7464ee6f85cd",
   "metadata": {},
   "source": [
    "### Load Model"
   ]
  },
  {
   "cell_type": "code",
   "execution_count": null,
   "id": "59882f0b-3433-47ba-984d-fc94d4e27af8",
   "metadata": {},
   "outputs": [],
   "source": [
    "num_labels = len(set(train_df[\"type_of_regulation\"]))\n",
    "model = BertForSequenceClassification.from_pretrained(\"dmis-lab/biobert-base-cased-v1.2\", num_labels=num_labels) "
   ]
  },
  {
   "cell_type": "code",
   "execution_count": null,
   "id": "419faa70-41b3-4cc7-b675-80af6efd4c66",
   "metadata": {},
   "outputs": [],
   "source": [
    "device = torch.device('cuda' if torch.cuda.is_available() else 'cpu')\n",
    "model.to(device)"
   ]
  },
  {
   "cell_type": "markdown",
   "id": "22dc70e6-e6c9-414e-b803-17633072fce5",
   "metadata": {},
   "source": [
    "## Train Model"
   ]
  },
  {
   "cell_type": "code",
   "execution_count": 195,
   "id": "9b53d1d2-1932-4647-a827-45a8f864756d",
   "metadata": {},
   "outputs": [
    {
     "data": {
      "text/html": [
       "\n",
       "    <div>\n",
       "      \n",
       "      <progress value='60' max='60' style='width:300px; height:20px; vertical-align: middle;'></progress>\n",
       "      [60/60 01:13, Epoch 5/5]\n",
       "    </div>\n",
       "    <table border=\"1\" class=\"dataframe\">\n",
       "  <thead>\n",
       " <tr style=\"text-align: left;\">\n",
       "      <th>Step</th>\n",
       "      <th>Training Loss</th>\n",
       "    </tr>\n",
       "  </thead>\n",
       "  <tbody>\n",
       "    <tr>\n",
       "      <td>50</td>\n",
       "      <td>0.018300</td>\n",
       "    </tr>\n",
       "  </tbody>\n",
       "</table><p>"
      ],
      "text/plain": [
       "<IPython.core.display.HTML object>"
      ]
     },
     "metadata": {},
     "output_type": "display_data"
    },
    {
     "data": {
      "text/plain": [
       "TrainOutput(global_step=60, training_loss=0.018116316944360732, metrics={'train_runtime': 74.5578, 'train_samples_per_second': 25.081, 'train_steps_per_second': 0.805, 'total_flos': 246013254389760.0, 'train_loss': 0.018116316944360732, 'epoch': 5.0})"
      ]
     },
     "execution_count": 195,
     "metadata": {},
     "output_type": "execute_result"
    }
   ],
   "source": [
    "from transformers import Trainer, TrainingArguments\n",
    "\n",
    "# Assuming your dataset is already transformed into a Hugging Face Dataset object named `dataset`\n",
    "# and split into `train_dataset` and `eval_dataset`\n",
    "\n",
    "training_args = TrainingArguments(\n",
    "    output_dir='./results',          # Output directory\n",
    "    num_train_epochs=5,             # Total number of training epochs\n",
    "    per_device_train_batch_size=32,   # Batch size per device during training\n",
    "    warmup_steps=50,                # Number of warmup steps for learning rate scheduler\n",
    "    weight_decay=0.01,               # Strength of weight decay\n",
    "    logging_dir='./logs',            # Directory for storing logs\n",
    "    logging_steps=50,\n",
    "    learning_rate=2e-5,\n",
    ")\n",
    "\n",
    "trainer = Trainer(\n",
    "    model=model,                         # The instantiated 🤗 Transformers model to be trained\n",
    "    args=training_args,                  # Training arguments, defined above\n",
    "    train_dataset=train_dataset,         # Training dataset\n",
    ")\n",
    "\n",
    "# Start the training\n",
    "trainer.train()\n"
   ]
  },
  {
   "cell_type": "markdown",
   "id": "04abbec9-6b26-41bd-8894-6495e80ab843",
   "metadata": {},
   "source": [
    "## Evaluate Model on Testset"
   ]
  },
  {
   "cell_type": "code",
   "execution_count": 196,
   "id": "7d6b47ea-62ca-424f-baa3-e0d879ab2a90",
   "metadata": {},
   "outputs": [
    {
     "data": {
      "text/html": [],
      "text/plain": [
       "<IPython.core.display.HTML object>"
      ]
     },
     "metadata": {},
     "output_type": "display_data"
    },
    {
     "name": "stdout",
     "output_type": "stream",
     "text": [
      "                               precision    recall  f1-score   support\n",
      "\n",
      "                 activator of       1.00      0.00      0.00         1\n",
      "       antisense inhibitor of       1.00      0.86      0.92         7\n",
      "                         none       0.99      1.00      1.00       150\n",
      "regulates (molecular biology)       0.75      1.00      0.86         3\n",
      "\n",
      "                     accuracy                           0.99       161\n",
      "                    macro avg       0.94      0.71      0.69       161\n",
      "                 weighted avg       0.99      0.99      0.98       161\n",
      "\n"
     ]
    }
   ],
   "source": [
    "test_result = trainer.predict(test_dataset)\n",
    "\n",
    "# Extract the logits\n",
    "logits = test_result.predictions\n",
    "\n",
    "# Convert logits to probabilities\n",
    "probabilities = F.softmax(torch.from_numpy(logits), dim=1)\n",
    "max_probs, predictions = torch.max(probabilities, dim=1)\n",
    "\n",
    "# You might need to adapt this part based on how your labels are represented\n",
    "true_labels = [example['labels'].item() for example in test_dataset]\n",
    "\n",
    "# Convert tensors to numpy arrays for easier handling\n",
    "predictions_np = predictions.numpy()\n",
    "max_probs_np = max_probs.numpy()\n",
    "\n",
    "\n",
    "# Assuming you have a label_encoder or a similar mechanism to convert ids to label names\n",
    "true_labels_names = label_encoder.inverse_transform(true_labels)\n",
    "predicted_labels_names = label_encoder.inverse_transform(predictions_np)\n",
    "\n",
    "# Generate and print the classification report\n",
    "report = classification_report(true_labels_names, predicted_labels_names, zero_division=1)\n",
    "print(report)"
   ]
  },
  {
   "cell_type": "code",
   "execution_count": 197,
   "id": "968f53e2-5008-4a42-9890-101d659fcf17",
   "metadata": {},
   "outputs": [
    {
     "data": {
      "text/plain": [
       "<Figure size 1000x1000 with 0 Axes>"
      ]
     },
     "metadata": {},
     "output_type": "display_data"
    },
    {
     "data": {
      "image/png": "[encoded data removed]",
      "text/plain": [
       "<Figure size 640x480 with 2 Axes>"
      ]
     },
     "metadata": {},
     "output_type": "display_data"
    }
   ],
   "source": [
    "cm = confusion_matrix(true_labels_names, predicted_labels_names, labels=label_encoder.classes_)\n",
    "# Initialize the ConfusionMatrixDisplay instance with the computed confusion matrix\n",
    "disp = ConfusionMatrixDisplay(confusion_matrix=cm, display_labels=[c.split(' ')[0] for c in label_encoder.classes_])\n",
    "\n",
    "# Plot the confusion matrix as a heatmap\n",
    "plt.figure(figsize=(10, 10))\n",
    "disp.plot(cmap=plt.cm.Blues, xticks_rotation='vertical')\n",
    "plt.title('BioBERT Relation Classification Confusion Matrix')\n",
    "plt.show()"
   ]
  },
  {
   "cell_type": "markdown",
   "id": "a374f9d2-ed26-4637-8aa3-bc6b53f281ac",
   "metadata": {},
   "source": [
    "## RegEx Feature Extraction\n",
    "### Analyze Term Frequencies"
   ]
  },
  {
   "cell_type": "code",
   "execution_count": 200,
   "id": "f658aaa3-c177-41e1-9cdf-41971a43e4f2",
   "metadata": {},
   "outputs": [],
   "source": [
    "nltk_stop_words = stopwords.words('english')\n",
    "tfidf_vectorizer = TfidfVectorizer(stop_words=nltk_stop_words)"
   ]
  },
  {
   "cell_type": "markdown",
   "id": "61c84c10-591b-4c0b-8d08-7a1321d86349",
   "metadata": {},
   "source": [
    "#### Identify top 30 TFIDF Terms per class"
   ]
  },
  {
   "cell_type": "code",
   "execution_count": 201,
   "id": "9da825df-684d-49d7-84e6-1086373ead93",
   "metadata": {},
   "outputs": [
    {
     "name": "stdout",
     "output_type": "stream",
     "text": [
      "Top 20 terms for none:\n",
      "['bacterial', 'gene', 'mechanisms', 'bacteria', 'microbial', 'role', 'potential', 'environmental', 'study', 'insights', 'understanding', 'production', 'strategies', 'including', 'processes', 'provides', 'application', 'cell', 'resistance', 'synthesis', 'regulation', 'stress', 'response', 'adaptation', 'roles', 'health', 'biosynthesis', 'exploration', 'protein', 'nutrient', 'development', 'energy', 'cycling', 'cellular', 'interactions', 'systems', 'offers', 'crucial', 'compounds', 'environments', 'degradation', 'investigation', 'survival', 'metabolic', 'highlights', 'nitrogen', 'metabolism', 'organic', 'involved', 'informs']\n",
      "\n",
      "Top 20 terms for antisense inhibitor of:\n",
      "['rna', 'gcvb', 'expression', 'genes', 'suggest', 'fur', 'targets', 'mrna', 'ryhb', 'srna', 'repressed', 'proteins', 'mutant', 'could', 'mrnas', 'results', 'regulation', 'rela', 'additional', 'omra', 'region', 'repression', 'previously', 'shown', 'regulate', 'also', 'regulated', 'reduced', 'soda', 'analysis', 'dppa', 'gfp', 'oppa', 'interactions', 'encoding', 'transport', '124', '161', 'cyca', 'pairing', 'required', 'respiration', 'cueo', 'weakly', 'act', 'anaerobically', 'antisense', 'clpb', 'end', 'fnrs']\n",
      "\n",
      "Top 20 terms for regulates (molecular biology):\n",
      "['expression', 'regulation', 'sara', 'gcvb', 'transcriptional', 'operon', 'nusg', 'oxys', 'represses', 'role', 'fusion', 'lacz', 'genes', 'existed', 'level', 'likely', 'oxyr', 'post', 'result', '01172', 'although', 'described', 'previously', 'pyrimidine', 'saouhsc_01165', '11', 'mrna', 'ms2', 'spry', 'supplementary', 'compared', 'candidate', 'control', 'family', 'known', 'likeliest', 'made', 'members', 'rna', 'small', 'yifk', '3005', 'also', 'biofilm', 'capa1', 'ica', 'involved', 'like', 'regulates', 'repressed']\n",
      "\n",
      "Top 20 terms for activator of:\n",
      "['results', 'identified', 'activator', 'ompr', 'omra', 'previous', 'transcription', 'activation', 'acts', 'demonstrate', 'glms', 'glmy', 'glmz', 'mrna', 'upstream', 'activating', 'although', 'arcz', 'coli', 'dsra', 'rpos', 'rpra', 'srnas', 'three']\n",
      "\n"
     ]
    }
   ],
   "source": [
    "unique_terms_per_class = {}\n",
    "\n",
    "for label in train_df.type_of_regulation.unique():\n",
    "    # Vectorize the current class texts\n",
    "    tfidf_matrix = tfidf_vectorizer.fit_transform(train_df[train_df.type_of_regulation==label].text_prep.to_list())\n",
    "    feature_names = tfidf_vectorizer.get_feature_names_out()\n",
    "    \n",
    "    # Sum tfidf scores for each term across all documents in the class\n",
    "    sum_tfidf = tfidf_matrix.sum(axis=0)\n",
    "    tfidf_scores = [(feature_names[col], sum_tfidf[0, col]) for col in range(sum_tfidf.shape[1])]\n",
    "    \n",
    "    # Sort the terms by their score and select the top 20\n",
    "    sorted_tfidf_scores = sorted(tfidf_scores, key=lambda x: x[1], reverse=True)[:50]\n",
    "    \n",
    "    # At this point, you have the top 20 terms for the current class\n",
    "    # but they are not yet filtered for uniqueness across classes\n",
    "    unique_terms_per_class[label] = [term for term, score in sorted_tfidf_scores]\n",
    "\n",
    "    print(f'Top 20 terms for {label}:')\n",
    "    print(unique_terms_per_class[label])\n",
    "    print()"
   ]
  },
  {
   "cell_type": "markdown",
   "id": "c2b06cc9-b5ae-4c0b-af69-33fb003e6c86",
   "metadata": {},
   "source": [
    "#### Identify Terms within the top 30 TFIDF Terms per class, that are not in other classes"
   ]
  },
  {
   "cell_type": "code",
   "execution_count": 202,
   "id": "77b5abab-6143-4c1d-b7f7-0c19acfaf259",
   "metadata": {},
   "outputs": [
    {
     "name": "stdout",
     "output_type": "stream",
     "text": [
      "Top terms for none that are not in the other classes:\n",
      "['bacterial', 'gene', 'mechanisms', 'bacteria', 'microbial', 'potential', 'environmental', 'study', 'insights', 'understanding', 'production', 'strategies', 'including', 'processes', 'provides', 'application', 'cell', 'resistance', 'synthesis', 'stress', 'response', 'adaptation', 'roles', 'health', 'biosynthesis', 'exploration', 'protein', 'nutrient', 'development', 'energy', 'cycling', 'cellular', 'systems', 'offers', 'crucial', 'compounds', 'environments', 'degradation', 'investigation', 'survival', 'metabolic', 'highlights', 'nitrogen', 'metabolism', 'organic', 'informs']\n",
      "\n",
      "Top terms for antisense inhibitor of that are not in the other classes:\n",
      "['suggest', 'fur', 'targets', 'ryhb', 'srna', 'proteins', 'mutant', 'could', 'mrnas', 'rela', 'additional', 'region', 'repression', 'shown', 'regulate', 'regulated', 'reduced', 'soda', 'analysis', 'dppa', 'gfp', 'oppa', 'encoding', 'transport', '124', '161', 'cyca', 'pairing', 'required', 'respiration', 'cueo', 'weakly', 'act', 'anaerobically', 'antisense', 'clpb', 'end', 'fnrs']\n",
      "\n",
      "Top terms for regulates (molecular biology) that are not in the other classes:\n",
      "['sara', 'transcriptional', 'operon', 'nusg', 'oxys', 'represses', 'fusion', 'lacz', 'existed', 'level', 'likely', 'oxyr', 'post', 'result', '01172', 'described', 'pyrimidine', 'saouhsc_01165', '11', 'ms2', 'spry', 'supplementary', 'compared', 'candidate', 'control', 'family', 'known', 'likeliest', 'made', 'members', 'small', 'yifk', '3005', 'biofilm', 'capa1', 'ica', 'like', 'regulates']\n",
      "\n",
      "Top terms for activator of that are not in the other classes:\n",
      "['identified', 'activator', 'ompr', 'previous', 'transcription', 'activation', 'acts', 'demonstrate', 'glms', 'glmy', 'glmz', 'upstream', 'activating', 'arcz', 'coli', 'dsra', 'rpos', 'rpra', 'srnas', 'three']\n",
      "\n"
     ]
    }
   ],
   "source": [
    "final_unique_terms_per_class = {}\n",
    "\n",
    "for label, terms in unique_terms_per_class.items():\n",
    "    other_classes_terms = set()\n",
    "    for other_class, other_terms in unique_terms_per_class.items():\n",
    "        if other_class != label:\n",
    "            other_classes_terms.update(other_terms)\n",
    "    \n",
    "    # Filter terms that are not in any other class's top 20 list\n",
    "    unique_terms = [term for term in terms if term not in other_classes_terms]\n",
    "    final_unique_terms_per_class[label] = unique_terms\n",
    "    \n",
    "    print(f'Top terms for {label} that are not in the other classes:')\n",
    "    print(final_unique_terms_per_class[label])\n",
    "    print()"
   ]
  },
  {
   "cell_type": "markdown",
   "id": "87d14eee-54e5-4ef0-8969-5cc610b63d7b",
   "metadata": {},
   "source": [
    "### Adjust Predictions based on a RegEx Filter for the 'activator of' class"
   ]
  },
  {
   "cell_type": "code",
   "execution_count": 203,
   "id": "d7ca9dc8-6ca0-40a1-af75-31f8d3452060",
   "metadata": {},
   "outputs": [],
   "source": [
    "ner_adjusted_predictions = []\n",
    "regex_pattern = r\"activat(es?|ion|or|ing)\"\n",
    "for i, pred in enumerate(predicted_labels_names):\n",
    "    if re.search(regex_pattern, test_df['text_prep'].iloc[i]):\n",
    "        ner_adjusted_predictions.append('activator of')\n",
    "    else:\n",
    "        ner_adjusted_predictions.append(pred)"
   ]
  },
  {
   "cell_type": "markdown",
   "id": "dbca46d0-ef92-4130-a10a-57cf61566115",
   "metadata": {},
   "source": [
    "### Adjust Predictions based on a confidence threshold"
   ]
  },
  {
   "cell_type": "code",
   "execution_count": 266,
   "id": "99dc7c20-4bcb-4eb4-af66-8d324551f659",
   "metadata": {},
   "outputs": [],
   "source": [
    "# Define a confidence threshold\n",
    "confidence_threshold = 0.6\n",
    "\n",
    "# Initialize list for predictions adjusted by confidence threshold\n",
    "confidence_adjusted_predictions = []\n",
    "\n",
    "for i, (pred, conf) in enumerate(zip(predictions, max_probs)):\n",
    "    if conf >= confidence_threshold:\n",
    "        # High confidence: Keep the original prediction\n",
    "        confidence_adjusted_pred = pred\n",
    "    else:\n",
    "        # Low confidence: Assign 'none' class\n",
    "        confidence_adjusted_pred = 2\n",
    "    \n",
    "    confidence_adjusted_predictions.append(confidence_adjusted_pred)\n",
    "    \n",
    "confidence_adjusted_predictions_labels_names = label_encoder.inverse_transform(confidence_adjusted_predictions)"
   ]
  },
  {
   "cell_type": "markdown",
   "id": "c70c4bad-5a70-4eaf-87d2-b1cc3b156c09",
   "metadata": {},
   "source": [
    "## Compare Results"
   ]
  },
  {
   "cell_type": "code",
   "execution_count": 267,
   "id": "6ca097a8-69b5-405c-914d-d9f3346e8b6d",
   "metadata": {},
   "outputs": [
    {
     "name": "stdout",
     "output_type": "stream",
     "text": [
      "Original Prediction Performance:\n",
      "                               precision    recall  f1-score   support\n",
      "\n",
      "                 activator of       1.00      0.00      0.00         1\n",
      "       antisense inhibitor of       1.00      0.86      0.92         7\n",
      "                         none       0.99      1.00      1.00       150\n",
      "regulates (molecular biology)       0.75      1.00      0.86         3\n",
      "\n",
      "                     accuracy                           0.99       161\n",
      "                    macro avg       0.94      0.71      0.69       161\n",
      "                 weighted avg       0.99      0.99      0.98       161\n",
      "\n",
      "\n",
      "RegEx Adjusted Prediction Performance:\n",
      "                               precision    recall  f1-score   support\n",
      "\n",
      "                 activator of       1.00      1.00      1.00         1\n",
      "       antisense inhibitor of       1.00      0.86      0.92         7\n",
      "                         none       0.99      1.00      1.00       150\n",
      "regulates (molecular biology)       1.00      1.00      1.00         3\n",
      "\n",
      "                     accuracy                           0.99       161\n",
      "                    macro avg       1.00      0.96      0.98       161\n",
      "                 weighted avg       0.99      0.99      0.99       161\n",
      "\n",
      "Prediction Performance with Confidence Threshold of 0.6:\n",
      "                               precision    recall  f1-score   support\n",
      "\n",
      "                 activator of       1.00      0.00      0.00         1\n",
      "       antisense inhibitor of       1.00      0.71      0.83         7\n",
      "                         none       0.99      1.00      0.99       150\n",
      "regulates (molecular biology)       0.75      1.00      0.86         3\n",
      "\n",
      "                     accuracy                           0.98       161\n",
      "                    macro avg       0.93      0.68      0.67       161\n",
      "                 weighted avg       0.98      0.98      0.98       161\n",
      "\n"
     ]
    }
   ],
   "source": [
    "original_report = classification_report(true_labels_names, predicted_labels_names, target_names=label_encoder.classes_, zero_division=True)\n",
    "regex_report = classification_report(true_labels_names, regex_predicted_labels_names, target_names=label_encoder.classes_, zero_division=True)\n",
    "threshold_report = classification_report(true_labels_names, confidence_adjusted_predictions_labels_names, target_names=label_encoder.classes_, zero_division=True)\n",
    "\n",
    "print(\"Original Prediction Performance:\")\n",
    "print(original_report)\n",
    "print(\"\\nRegEx Adjusted Prediction Performance:\")\n",
    "print(regex_report)\n",
    "print(\"Prediction Performance with Confidence Threshold of 0.6:\")\n",
    "print(threshold_report)"
   ]
  },
  {
   "cell_type": "markdown",
   "id": "f9d32c5e-0de4-499f-92c8-e51748eed813",
   "metadata": {},
   "source": [
    "### Save the finetuned model, tokenizer and labelencoder"
   ]
  },
  {
   "cell_type": "code",
   "execution_count": null,
   "id": "86843c4e-ec29-4b23-a6b2-9ea69caf8744",
   "metadata": {},
   "outputs": [],
   "source": [
    "trainer.save_model(MODEL_OUT_PATH)\n",
    "tokenizer.save_pretrained(MODEL_OUT_PATH)"
   ]
  },
  {
   "cell_type": "code",
   "execution_count": null,
   "id": "c14b774e-184b-4278-b925-0fc25bbc4635",
   "metadata": {},
   "outputs": [],
   "source": [
    "joblib.dump(label_encoder, os.path.join(MODEL_OUT_PATH, 'label_encoder.joblib'))"
   ]
  }
 ],
 "metadata": {
  "kernelspec": {
   "display_name": "Python 3 (ipykernel)",
   "language": "python",
   "name": "python3"
  },
  "language_info": {
   "codemirror_mode": {
    "name": "ipython",
    "version": 3
   },
   "file_extension": ".py",
   "mimetype": "text/x-python",
   "name": "python",
   "nbconvert_exporter": "python",
   "pygments_lexer": "ipython3",
   "version": "3.10.12"
  }
 },
 "nbformat": 4,
 "nbformat_minor": 5
}
