{
 "cells": [
  {
   "cell_type": "markdown",
   "id": "b9aacf05-9c7f-469d-b6fe-e83d9cfa93ce",
   "metadata": {},
   "source": [
    "## Imports\n",
    "### General and Data Processing Imports"
   ]
  },
  {
   "cell_type": "code",
   "execution_count": 1,
   "id": "e119af9b-3ad4-4e95-8548-d17bd8189b86",
   "metadata": {},
   "outputs": [],
   "source": [
    "import os\n",
    "import json \n",
    "import pickle\n",
    "\n",
    "from tqdm import tqdm\n",
    "import pandas as pd\n",
    "\n",
    "tqdm.pandas()"
   ]
  },
  {
   "cell_type": "markdown",
   "id": "7cce76d5-b56f-4ad8-83b6-067bfb53893e",
   "metadata": {},
   "source": [
    "### Web Scraping and XML Processing Imports"
   ]
  },
  {
   "cell_type": "code",
   "execution_count": 2,
   "id": "550e5107-44c8-4281-9a73-ac07fcd90538",
   "metadata": {},
   "outputs": [
    {
     "name": "stderr",
     "output_type": "stream",
     "text": [
      "2024-03-16 13:26:33 rhodes-f6eac metapub.config[257775] WARNING NCBI_API_KEY was not set.\n"
     ]
    }
   ],
   "source": [
    "import requests\n",
    "from lxml import etree\n",
    "import xml.etree.ElementTree as ET\n",
    "from bs4 import BeautifulSoup\n",
    "import metapub\n",
    "from urllib.request import urlretrieve\n",
    "\n",
    "from matplotlib import pyplot as plt\n",
    "\n",
    "from sklearn.model_selection import train_test_split"
   ]
  },
  {
   "cell_type": "markdown",
   "id": "3cfd0d38-0fe4-4413-ac66-76704291f78c",
   "metadata": {},
   "source": [
    "### NLP Imports"
   ]
  },
  {
   "cell_type": "code",
   "execution_count": 3,
   "id": "a7a44410-3fb2-4954-a85e-73d8df442135",
   "metadata": {},
   "outputs": [
    {
     "name": "stderr",
     "output_type": "stream",
     "text": [
      "2024-03-16 13:26:35.744793: E external/local_xla/xla/stream_executor/cuda/cuda_dnn.cc:9261] Unable to register cuDNN factory: Attempting to register factory for plugin cuDNN when one has already been registered\n",
      "2024-03-16 13:26:35.744843: E external/local_xla/xla/stream_executor/cuda/cuda_fft.cc:607] Unable to register cuFFT factory: Attempting to register factory for plugin cuFFT when one has already been registered\n",
      "2024-03-16 13:26:35.745682: E external/local_xla/xla/stream_executor/cuda/cuda_blas.cc:1515] Unable to register cuBLAS factory: Attempting to register factory for plugin cuBLAS when one has already been registered\n",
      "2024-03-16 13:26:35.752161: I tensorflow/core/platform/cpu_feature_guard.cc:182] This TensorFlow binary is optimized to use available CPU instructions in performance-critical operations.\n",
      "To enable the following instructions: AVX2 FMA, in other operations, rebuild TensorFlow with the appropriate compiler flags.\n",
      "2024-03-16 13:26:36.637690: W tensorflow/compiler/tf2tensorrt/utils/py_utils.cc:38] TF-TRT Warning: Could not find TensorRT\n",
      "2024-03-16 13:26:37.197988: I external/local_xla/xla/stream_executor/cuda/cuda_executor.cc:901] successful NUMA node read from SysFS had negative value (-1), but there must be at least one NUMA node, so returning NUMA node zero. See more at https://github.com/torvalds/linux/blob/v6.0/Documentation/ABI/testing/sysfs-bus-pci#L344-L355\n",
      "2024-03-16 13:26:37.232055: I external/local_xla/xla/stream_executor/cuda/cuda_executor.cc:901] successful NUMA node read from SysFS had negative value (-1), but there must be at least one NUMA node, so returning NUMA node zero. See more at https://github.com/torvalds/linux/blob/v6.0/Documentation/ABI/testing/sysfs-bus-pci#L344-L355\n",
      "2024-03-16 13:26:37.235718: I external/local_xla/xla/stream_executor/cuda/cuda_executor.cc:901] successful NUMA node read from SysFS had negative value (-1), but there must be at least one NUMA node, so returning NUMA node zero. See more at https://github.com/torvalds/linux/blob/v6.0/Documentation/ABI/testing/sysfs-bus-pci#L344-L355\n"
     ]
    }
   ],
   "source": [
    "import re\n",
    "import spacy"
   ]
  },
  {
   "cell_type": "code",
   "execution_count": 4,
   "id": "a9f48412-2d19-45d8-b451-3d0530e2c84d",
   "metadata": {},
   "outputs": [],
   "source": [
    "RAW_DATA_PATH = '/data/01_raw_data/labels_with_references.csv'\n",
    "OUTPUT_PATH = '/data/02_training_data/'"
   ]
  },
  {
   "cell_type": "markdown",
   "id": "138ececc-af53-4994-9484-fba412697d7a",
   "metadata": {},
   "source": [
    "### Dataset Preparation imports"
   ]
  },
  {
   "cell_type": "code",
   "execution_count": 5,
   "id": "14dc2022-249f-42fb-9c57-65e46254c704",
   "metadata": {},
   "outputs": [],
   "source": [
    "from preprocessing_utils import *"
   ]
  },
  {
   "cell_type": "markdown",
   "id": "0f8e4167-8b70-4eae-8d50-e8646d3bd781",
   "metadata": {},
   "source": [
    "## Data Preparation\n",
    "### Load Data\n",
    "#### Convert column names to lowercase for consistency"
   ]
  },
  {
   "cell_type": "code",
   "execution_count": 6,
   "id": "80df84db-c804-4d66-8d99-b75f21449501",
   "metadata": {},
   "outputs": [
    {
     "name": "stdout",
     "output_type": "stream",
     "text": [
      "(97, 8)\n"
     ]
    },
    {
     "data": {
      "text/html": [
       "<div>\n",
       "<style scoped>\n",
       "    .dataframe tbody tr th:only-of-type {\n",
       "        vertical-align: middle;\n",
       "    }\n",
       "\n",
       "    .dataframe tbody tr th {\n",
       "        vertical-align: top;\n",
       "    }\n",
       "\n",
       "    .dataframe thead th {\n",
       "        text-align: right;\n",
       "    }\n",
       "</style>\n",
       "<table border=\"1\" class=\"dataframe\">\n",
       "  <thead>\n",
       "    <tr style=\"text-align: right;\">\n",
       "      <th></th>\n",
       "      <th>srna</th>\n",
       "      <th>srna synonyms</th>\n",
       "      <th>type of regulation</th>\n",
       "      <th>target gene</th>\n",
       "      <th>quote</th>\n",
       "      <th>quote from</th>\n",
       "      <th>pmcid</th>\n",
       "      <th>wikidata</th>\n",
       "    </tr>\n",
       "  </thead>\n",
       "  <tbody>\n",
       "    <tr>\n",
       "      <th>0</th>\n",
       "      <td>sRNA encoded by micF</td>\n",
       "      <td>stc, b4439, ECK2208, IS113, JWR0043, micF</td>\n",
       "      <td>antisense inhibitor of</td>\n",
       "      <td>outer membrane porin F b0929</td>\n",
       "      <td>we suggest that an increased expression of the...</td>\n",
       "      <td>/Article_Viewer%2Ehtml?pmcid=PMC213846&amp;quote=w...</td>\n",
       "      <td>213846</td>\n",
       "      <td>http://www.wikidata.org/entity/Q50418533</td>\n",
       "    </tr>\n",
       "    <tr>\n",
       "      <th>1</th>\n",
       "      <td>sRNA encoded by ryhB</td>\n",
       "      <td>b4451, ECK3426, IS176, JWR0219, psrA18, ryhB, ...</td>\n",
       "      <td>antisense inhibitor of</td>\n",
       "      <td>aconitate hydratase 1 b1276</td>\n",
       "      <td>The genes regulated by RyhB include some encod...</td>\n",
       "      <td>/Article_Viewer%2Ehtml?pmcid=PMC1251601&amp;quote=...</td>\n",
       "      <td>1251601</td>\n",
       "      <td>http://www.wikidata.org/entity/Q50419794</td>\n",
       "    </tr>\n",
       "  </tbody>\n",
       "</table>\n",
       "</div>"
      ],
      "text/plain": [
       "                   srna                                      srna synonyms  \\\n",
       "0  sRNA encoded by micF          stc, b4439, ECK2208, IS113, JWR0043, micF   \n",
       "1  sRNA encoded by ryhB  b4451, ECK3426, IS176, JWR0219, psrA18, ryhB, ...   \n",
       "\n",
       "       type of regulation                   target gene  \\\n",
       "0  antisense inhibitor of  outer membrane porin F b0929   \n",
       "1  antisense inhibitor of   aconitate hydratase 1 b1276   \n",
       "\n",
       "                                               quote  \\\n",
       "0  we suggest that an increased expression of the...   \n",
       "1  The genes regulated by RyhB include some encod...   \n",
       "\n",
       "                                          quote from    pmcid  \\\n",
       "0  /Article_Viewer%2Ehtml?pmcid=PMC213846&quote=w...   213846   \n",
       "1  /Article_Viewer%2Ehtml?pmcid=PMC1251601&quote=...  1251601   \n",
       "\n",
       "                                   wikidata  \n",
       "0  http://www.wikidata.org/entity/Q50418533  \n",
       "1  http://www.wikidata.org/entity/Q50419794  "
      ]
     },
     "execution_count": 6,
     "metadata": {},
     "output_type": "execute_result"
    }
   ],
   "source": [
    "data_df = pd.read_csv(RAW_DATA_PATH)\n",
    "data_df.columns = [col.lower() for col in data_df.columns]\n",
    "data_df = data_df.drop_duplicates()\n",
    "del data_df['#'] # Remove identifier column\n",
    "print(data_df.shape)\n",
    "data_df.head(2)"
   ]
  },
  {
   "cell_type": "markdown",
   "id": "4f4c6ad3-8d81-42f0-91da-9f12fea38540",
   "metadata": {},
   "source": [
    "## Data Exploration"
   ]
  },
  {
   "cell_type": "code",
   "execution_count": 7,
   "id": "b7defba2-9aea-4441-bf56-16bd9d72e47c",
   "metadata": {},
   "outputs": [
    {
     "name": "stdout",
     "output_type": "stream",
     "text": [
      "<class 'pandas.core.frame.DataFrame'>\n",
      "RangeIndex: 97 entries, 0 to 96\n",
      "Data columns (total 8 columns):\n",
      " #   Column              Non-Null Count  Dtype \n",
      "---  ------              --------------  ----- \n",
      " 0   srna                97 non-null     object\n",
      " 1   srna synonyms       64 non-null     object\n",
      " 2   type of regulation  97 non-null     object\n",
      " 3   target gene         97 non-null     object\n",
      " 4   quote               97 non-null     object\n",
      " 5   quote from          97 non-null     object\n",
      " 6   pmcid               97 non-null     int64 \n",
      " 7   wikidata            97 non-null     object\n",
      "dtypes: int64(1), object(7)\n",
      "memory usage: 6.2+ KB\n"
     ]
    }
   ],
   "source": [
    "data_df.info()"
   ]
  },
  {
   "cell_type": "code",
   "execution_count": 8,
   "id": "3944f5a6-67ac-45b2-a8e5-4e32f9132d60",
   "metadata": {},
   "outputs": [
    {
     "data": {
      "text/html": [
       "<div>\n",
       "<style scoped>\n",
       "    .dataframe tbody tr th:only-of-type {\n",
       "        vertical-align: middle;\n",
       "    }\n",
       "\n",
       "    .dataframe tbody tr th {\n",
       "        vertical-align: top;\n",
       "    }\n",
       "\n",
       "    .dataframe thead th {\n",
       "        text-align: right;\n",
       "    }\n",
       "</style>\n",
       "<table border=\"1\" class=\"dataframe\">\n",
       "  <thead>\n",
       "    <tr style=\"text-align: right;\">\n",
       "      <th></th>\n",
       "      <th>Column</th>\n",
       "      <th>Unique Values</th>\n",
       "    </tr>\n",
       "  </thead>\n",
       "  <tbody>\n",
       "    <tr>\n",
       "      <th>2</th>\n",
       "      <td>type of regulation</td>\n",
       "      <td>3</td>\n",
       "    </tr>\n",
       "    <tr>\n",
       "      <th>1</th>\n",
       "      <td>srna synonyms</td>\n",
       "      <td>18</td>\n",
       "    </tr>\n",
       "    <tr>\n",
       "      <th>0</th>\n",
       "      <td>srna</td>\n",
       "      <td>21</td>\n",
       "    </tr>\n",
       "    <tr>\n",
       "      <th>7</th>\n",
       "      <td>wikidata</td>\n",
       "      <td>21</td>\n",
       "    </tr>\n",
       "    <tr>\n",
       "      <th>6</th>\n",
       "      <td>pmcid</td>\n",
       "      <td>30</td>\n",
       "    </tr>\n",
       "    <tr>\n",
       "      <th>4</th>\n",
       "      <td>quote</td>\n",
       "      <td>43</td>\n",
       "    </tr>\n",
       "    <tr>\n",
       "      <th>5</th>\n",
       "      <td>quote from</td>\n",
       "      <td>44</td>\n",
       "    </tr>\n",
       "    <tr>\n",
       "      <th>3</th>\n",
       "      <td>target gene</td>\n",
       "      <td>87</td>\n",
       "    </tr>\n",
       "  </tbody>\n",
       "</table>\n",
       "</div>"
      ],
      "text/plain": [
       "               Column  Unique Values\n",
       "2  type of regulation              3\n",
       "1       srna synonyms             18\n",
       "0                srna             21\n",
       "7            wikidata             21\n",
       "6               pmcid             30\n",
       "4               quote             43\n",
       "5          quote from             44\n",
       "3         target gene             87"
      ]
     },
     "execution_count": 8,
     "metadata": {},
     "output_type": "execute_result"
    }
   ],
   "source": [
    "unique_counts_df = pd.DataFrame(list({col: data_df[col].nunique() for col in data_df.columns}.items()), columns=['Column', 'Unique Values']).sort_values(by='Unique Values', ascending=True)\n",
    "unique_counts_df"
   ]
  },
  {
   "cell_type": "code",
   "execution_count": 9,
   "id": "37e050be-63a7-451b-ad53-f2727285e2fa",
   "metadata": {},
   "outputs": [
    {
     "data": {
      "image/png": "[encoded data removed]",
      "text/plain": [
       "<Figure size 800x300 with 1 Axes>"
      ]
     },
     "metadata": {},
     "output_type": "display_data"
    }
   ],
   "source": [
    "plt.figure(figsize=(8, 3))\n",
    "plt.barh(unique_counts_df['Column'], unique_counts_df['Unique Values'], color='steelblue')\n",
    "plt.xlabel('Number of Unique Values')\n",
    "plt.ylabel('Columns')\n",
    "plt.title('Number of Unique Values per Column')\n",
    "plt.tight_layout()\n",
    "plt.show()"
   ]
  },
  {
   "cell_type": "code",
   "execution_count": 10,
   "id": "51d63dba-f255-4b90-93f2-86cf3e572fb4",
   "metadata": {},
   "outputs": [
    {
     "name": "stdout",
     "output_type": "stream",
     "text": [
      "Missing Values:\n",
      "srna                   0\n",
      "srna synonyms         33\n",
      "type of regulation     0\n",
      "target gene            0\n",
      "quote                  0\n",
      "quote from             0\n",
      "pmcid                  0\n",
      "wikidata               0\n",
      "dtype: int64\n",
      "\n",
      "\n"
     ]
    }
   ],
   "source": [
    "print(\"Missing Values:\")\n",
    "print(data_df.isnull().sum())\n",
    "print(\"\\n\")"
   ]
  },
  {
   "cell_type": "markdown",
   "id": "84b79c3d-1620-4e45-9e8c-53b29b5734a8",
   "metadata": {},
   "source": [
    "# Data Preparation\n",
    "## Clean column names\n",
    "*Replace whitespace with underscores*"
   ]
  },
  {
   "cell_type": "code",
   "execution_count": 11,
   "id": "cfeaa7d6-1650-40e8-baae-a4b2c849b75f",
   "metadata": {},
   "outputs": [
    {
     "data": {
      "text/html": [
       "<div>\n",
       "<style scoped>\n",
       "    .dataframe tbody tr th:only-of-type {\n",
       "        vertical-align: middle;\n",
       "    }\n",
       "\n",
       "    .dataframe tbody tr th {\n",
       "        vertical-align: top;\n",
       "    }\n",
       "\n",
       "    .dataframe thead th {\n",
       "        text-align: right;\n",
       "    }\n",
       "</style>\n",
       "<table border=\"1\" class=\"dataframe\">\n",
       "  <thead>\n",
       "    <tr style=\"text-align: right;\">\n",
       "      <th></th>\n",
       "      <th>srna</th>\n",
       "      <th>srna_synonyms</th>\n",
       "      <th>type_of_regulation</th>\n",
       "      <th>target_gene</th>\n",
       "      <th>quote</th>\n",
       "      <th>quote_from</th>\n",
       "      <th>pmcid</th>\n",
       "      <th>wikidata</th>\n",
       "    </tr>\n",
       "  </thead>\n",
       "  <tbody>\n",
       "    <tr>\n",
       "      <th>0</th>\n",
       "      <td>sRNA encoded by micF</td>\n",
       "      <td>stc, b4439, ECK2208, IS113, JWR0043, micF</td>\n",
       "      <td>antisense inhibitor of</td>\n",
       "      <td>outer membrane porin F b0929</td>\n",
       "      <td>we suggest that an increased expression of the...</td>\n",
       "      <td>/Article_Viewer%2Ehtml?pmcid=PMC213846&amp;quote=w...</td>\n",
       "      <td>213846</td>\n",
       "      <td>http://www.wikidata.org/entity/Q50418533</td>\n",
       "    </tr>\n",
       "    <tr>\n",
       "      <th>1</th>\n",
       "      <td>sRNA encoded by ryhB</td>\n",
       "      <td>b4451, ECK3426, IS176, JWR0219, psrA18, ryhB, ...</td>\n",
       "      <td>antisense inhibitor of</td>\n",
       "      <td>aconitate hydratase 1 b1276</td>\n",
       "      <td>The genes regulated by RyhB include some encod...</td>\n",
       "      <td>/Article_Viewer%2Ehtml?pmcid=PMC1251601&amp;quote=...</td>\n",
       "      <td>1251601</td>\n",
       "      <td>http://www.wikidata.org/entity/Q50419794</td>\n",
       "    </tr>\n",
       "  </tbody>\n",
       "</table>\n",
       "</div>"
      ],
      "text/plain": [
       "                   srna                                      srna_synonyms  \\\n",
       "0  sRNA encoded by micF          stc, b4439, ECK2208, IS113, JWR0043, micF   \n",
       "1  sRNA encoded by ryhB  b4451, ECK3426, IS176, JWR0219, psrA18, ryhB, ...   \n",
       "\n",
       "       type_of_regulation                   target_gene  \\\n",
       "0  antisense inhibitor of  outer membrane porin F b0929   \n",
       "1  antisense inhibitor of   aconitate hydratase 1 b1276   \n",
       "\n",
       "                                               quote  \\\n",
       "0  we suggest that an increased expression of the...   \n",
       "1  The genes regulated by RyhB include some encod...   \n",
       "\n",
       "                                          quote_from    pmcid  \\\n",
       "0  /Article_Viewer%2Ehtml?pmcid=PMC213846&quote=w...   213846   \n",
       "1  /Article_Viewer%2Ehtml?pmcid=PMC1251601&quote=...  1251601   \n",
       "\n",
       "                                   wikidata  \n",
       "0  http://www.wikidata.org/entity/Q50418533  \n",
       "1  http://www.wikidata.org/entity/Q50419794  "
      ]
     },
     "execution_count": 11,
     "metadata": {},
     "output_type": "execute_result"
    }
   ],
   "source": [
    "data_df.columns = ['_'.join(col.split()) for col in data_df.columns]\n",
    "data_df.head(2)"
   ]
  },
  {
   "cell_type": "markdown",
   "id": "c54213ed-42bf-4595-9ce4-b9a3d6ba3347",
   "metadata": {},
   "source": [
    "## Extract sRNA name from column sRNA"
   ]
  },
  {
   "cell_type": "code",
   "execution_count": 12,
   "id": "9bc29d4c-18b6-4840-9b51-79b33a07e811",
   "metadata": {},
   "outputs": [
    {
     "name": "stderr",
     "output_type": "stream",
     "text": [
      "100%|███████████████████████████████████████| 97/97 [00:00<00:00, 307984.47it/s]\n"
     ]
    },
    {
     "data": {
      "text/html": [
       "<div>\n",
       "<style scoped>\n",
       "    .dataframe tbody tr th:only-of-type {\n",
       "        vertical-align: middle;\n",
       "    }\n",
       "\n",
       "    .dataframe tbody tr th {\n",
       "        vertical-align: top;\n",
       "    }\n",
       "\n",
       "    .dataframe thead th {\n",
       "        text-align: right;\n",
       "    }\n",
       "</style>\n",
       "<table border=\"1\" class=\"dataframe\">\n",
       "  <thead>\n",
       "    <tr style=\"text-align: right;\">\n",
       "      <th></th>\n",
       "      <th>srna</th>\n",
       "      <th>srna_synonyms</th>\n",
       "      <th>type_of_regulation</th>\n",
       "      <th>target_gene</th>\n",
       "      <th>quote</th>\n",
       "      <th>quote_from</th>\n",
       "      <th>pmcid</th>\n",
       "      <th>wikidata</th>\n",
       "      <th>srna_name</th>\n",
       "    </tr>\n",
       "  </thead>\n",
       "  <tbody>\n",
       "    <tr>\n",
       "      <th>0</th>\n",
       "      <td>sRNA encoded by micF</td>\n",
       "      <td>stc, b4439, ECK2208, IS113, JWR0043, micF</td>\n",
       "      <td>antisense inhibitor of</td>\n",
       "      <td>outer membrane porin F b0929</td>\n",
       "      <td>we suggest that an increased expression of the...</td>\n",
       "      <td>/Article_Viewer%2Ehtml?pmcid=PMC213846&amp;quote=w...</td>\n",
       "      <td>213846</td>\n",
       "      <td>http://www.wikidata.org/entity/Q50418533</td>\n",
       "      <td>micF</td>\n",
       "    </tr>\n",
       "    <tr>\n",
       "      <th>1</th>\n",
       "      <td>sRNA encoded by ryhB</td>\n",
       "      <td>b4451, ECK3426, IS176, JWR0219, psrA18, ryhB, ...</td>\n",
       "      <td>antisense inhibitor of</td>\n",
       "      <td>aconitate hydratase 1 b1276</td>\n",
       "      <td>The genes regulated by RyhB include some encod...</td>\n",
       "      <td>/Article_Viewer%2Ehtml?pmcid=PMC1251601&amp;quote=...</td>\n",
       "      <td>1251601</td>\n",
       "      <td>http://www.wikidata.org/entity/Q50419794</td>\n",
       "      <td>ryhB</td>\n",
       "    </tr>\n",
       "  </tbody>\n",
       "</table>\n",
       "</div>"
      ],
      "text/plain": [
       "                   srna                                      srna_synonyms  \\\n",
       "0  sRNA encoded by micF          stc, b4439, ECK2208, IS113, JWR0043, micF   \n",
       "1  sRNA encoded by ryhB  b4451, ECK3426, IS176, JWR0219, psrA18, ryhB, ...   \n",
       "\n",
       "       type_of_regulation                   target_gene  \\\n",
       "0  antisense inhibitor of  outer membrane porin F b0929   \n",
       "1  antisense inhibitor of   aconitate hydratase 1 b1276   \n",
       "\n",
       "                                               quote  \\\n",
       "0  we suggest that an increased expression of the...   \n",
       "1  The genes regulated by RyhB include some encod...   \n",
       "\n",
       "                                          quote_from    pmcid  \\\n",
       "0  /Article_Viewer%2Ehtml?pmcid=PMC213846&quote=w...   213846   \n",
       "1  /Article_Viewer%2Ehtml?pmcid=PMC1251601&quote=...  1251601   \n",
       "\n",
       "                                   wikidata srna_name  \n",
       "0  http://www.wikidata.org/entity/Q50418533      micF  \n",
       "1  http://www.wikidata.org/entity/Q50419794      ryhB  "
      ]
     },
     "execution_count": 12,
     "metadata": {},
     "output_type": "execute_result"
    }
   ],
   "source": [
    "data_df['srna_name'] = data_df.srna.progress_apply(lambda x: x.split('sRNA encoded by ')[-1])\n",
    "data_df.head(2)"
   ]
  },
  {
   "cell_type": "markdown",
   "id": "64b97ab6-9d3f-4a9c-90f8-cab86f7591bf",
   "metadata": {},
   "source": [
    "## Transform PMCID to String format"
   ]
  },
  {
   "cell_type": "code",
   "execution_count": 13,
   "id": "8bfe602b-be4e-4c9b-be6a-2f94024e73ec",
   "metadata": {},
   "outputs": [
    {
     "name": "stderr",
     "output_type": "stream",
     "text": [
      "100%|███████████████████████████████████████| 97/97 [00:00<00:00, 314897.44it/s]\n"
     ]
    }
   ],
   "source": [
    "data_df['pmcid'] = data_df.pmcid.progress_apply(lambda x: str(x))"
   ]
  },
  {
   "cell_type": "markdown",
   "id": "b36c46a6-b566-4734-9b0c-3f3bafbae139",
   "metadata": {},
   "source": [
    "## Replace None with empty string for column srna_synonyms"
   ]
  },
  {
   "cell_type": "code",
   "execution_count": 14,
   "id": "255a7c52-11db-4527-aa12-c769fd38ad2d",
   "metadata": {},
   "outputs": [
    {
     "data": {
      "text/html": [
       "<div>\n",
       "<style scoped>\n",
       "    .dataframe tbody tr th:only-of-type {\n",
       "        vertical-align: middle;\n",
       "    }\n",
       "\n",
       "    .dataframe tbody tr th {\n",
       "        vertical-align: top;\n",
       "    }\n",
       "\n",
       "    .dataframe thead th {\n",
       "        text-align: right;\n",
       "    }\n",
       "</style>\n",
       "<table border=\"1\" class=\"dataframe\">\n",
       "  <thead>\n",
       "    <tr style=\"text-align: right;\">\n",
       "      <th></th>\n",
       "      <th>srna</th>\n",
       "      <th>srna_synonyms</th>\n",
       "      <th>type_of_regulation</th>\n",
       "      <th>target_gene</th>\n",
       "      <th>quote</th>\n",
       "      <th>quote_from</th>\n",
       "      <th>pmcid</th>\n",
       "      <th>wikidata</th>\n",
       "      <th>srna_name</th>\n",
       "    </tr>\n",
       "  </thead>\n",
       "  <tbody>\n",
       "  </tbody>\n",
       "</table>\n",
       "</div>"
      ],
      "text/plain": [
       "Empty DataFrame\n",
       "Columns: [srna, srna_synonyms, type_of_regulation, target_gene, quote, quote_from, pmcid, wikidata, srna_name]\n",
       "Index: []"
      ]
     },
     "execution_count": 14,
     "metadata": {},
     "output_type": "execute_result"
    }
   ],
   "source": [
    "data_df.loc[data_df.srna_synonyms.isnull(), 'srna_synonyms'] = ''\n",
    "data_df[data_df.srna_synonyms.isnull()]"
   ]
  },
  {
   "cell_type": "markdown",
   "id": "d5dd1cd3-2b4e-4375-8e11-4aad83e865f3",
   "metadata": {},
   "source": [
    "## Preprocess the text data\n",
    "* *remove punctuation*\n",
    "* *remove extra spaces*\n",
    "* *convert to lowercase*"
   ]
  },
  {
   "cell_type": "code",
   "execution_count": 15,
   "id": "2672346b-24d7-4140-8493-072cfcddbdf3",
   "metadata": {},
   "outputs": [
    {
     "data": {
      "text/html": [
       "<div>\n",
       "<style scoped>\n",
       "    .dataframe tbody tr th:only-of-type {\n",
       "        vertical-align: middle;\n",
       "    }\n",
       "\n",
       "    .dataframe tbody tr th {\n",
       "        vertical-align: top;\n",
       "    }\n",
       "\n",
       "    .dataframe thead th {\n",
       "        text-align: right;\n",
       "    }\n",
       "</style>\n",
       "<table border=\"1\" class=\"dataframe\">\n",
       "  <thead>\n",
       "    <tr style=\"text-align: right;\">\n",
       "      <th></th>\n",
       "      <th>srna</th>\n",
       "      <th>srna_synonyms</th>\n",
       "      <th>type_of_regulation</th>\n",
       "      <th>target_gene</th>\n",
       "      <th>quote</th>\n",
       "      <th>quote_from</th>\n",
       "      <th>pmcid</th>\n",
       "      <th>wikidata</th>\n",
       "      <th>srna_name</th>\n",
       "      <th>text_prep</th>\n",
       "    </tr>\n",
       "  </thead>\n",
       "  <tbody>\n",
       "    <tr>\n",
       "      <th>0</th>\n",
       "      <td>sRNA encoded by micF</td>\n",
       "      <td>stc, b4439, ECK2208, IS113, JWR0043, micF</td>\n",
       "      <td>antisense inhibitor of</td>\n",
       "      <td>outer membrane porin F b0929</td>\n",
       "      <td>we suggest that an increased expression of the...</td>\n",
       "      <td>/Article_Viewer%2Ehtml?pmcid=PMC213846&amp;quote=w...</td>\n",
       "      <td>213846</td>\n",
       "      <td>http://www.wikidata.org/entity/Q50418533</td>\n",
       "      <td>micF</td>\n",
       "      <td>we suggest that an increased expression of the...</td>\n",
       "    </tr>\n",
       "    <tr>\n",
       "      <th>1</th>\n",
       "      <td>sRNA encoded by ryhB</td>\n",
       "      <td>b4451, ECK3426, IS176, JWR0219, psrA18, ryhB, ...</td>\n",
       "      <td>antisense inhibitor of</td>\n",
       "      <td>aconitate hydratase 1 b1276</td>\n",
       "      <td>The genes regulated by RyhB include some encod...</td>\n",
       "      <td>/Article_Viewer%2Ehtml?pmcid=PMC1251601&amp;quote=...</td>\n",
       "      <td>1251601</td>\n",
       "      <td>http://www.wikidata.org/entity/Q50419794</td>\n",
       "      <td>ryhB</td>\n",
       "      <td>The genes regulated by RyhB include some encod...</td>\n",
       "    </tr>\n",
       "  </tbody>\n",
       "</table>\n",
       "</div>"
      ],
      "text/plain": [
       "                   srna                                      srna_synonyms  \\\n",
       "0  sRNA encoded by micF          stc, b4439, ECK2208, IS113, JWR0043, micF   \n",
       "1  sRNA encoded by ryhB  b4451, ECK3426, IS176, JWR0219, psrA18, ryhB, ...   \n",
       "\n",
       "       type_of_regulation                   target_gene  \\\n",
       "0  antisense inhibitor of  outer membrane porin F b0929   \n",
       "1  antisense inhibitor of   aconitate hydratase 1 b1276   \n",
       "\n",
       "                                               quote  \\\n",
       "0  we suggest that an increased expression of the...   \n",
       "1  The genes regulated by RyhB include some encod...   \n",
       "\n",
       "                                          quote_from    pmcid  \\\n",
       "0  /Article_Viewer%2Ehtml?pmcid=PMC213846&quote=w...   213846   \n",
       "1  /Article_Viewer%2Ehtml?pmcid=PMC1251601&quote=...  1251601   \n",
       "\n",
       "                                   wikidata srna_name  \\\n",
       "0  http://www.wikidata.org/entity/Q50418533      micF   \n",
       "1  http://www.wikidata.org/entity/Q50419794      ryhB   \n",
       "\n",
       "                                           text_prep  \n",
       "0  we suggest that an increased expression of the...  \n",
       "1  The genes regulated by RyhB include some encod...  "
      ]
     },
     "execution_count": 15,
     "metadata": {},
     "output_type": "execute_result"
    }
   ],
   "source": [
    "data_df['text_prep'] = data_df['quote'].apply(preprocess_texts)\n",
    "data_df.head(2)"
   ]
  },
  {
   "cell_type": "markdown",
   "id": "2d6ea5c8-7102-455f-9b47-60e680e127e1",
   "metadata": {},
   "source": [
    "## Gather additional data"
   ]
  },
  {
   "cell_type": "markdown",
   "id": "f1472832-4e6d-4bc2-b137-203cd87393d1",
   "metadata": {},
   "source": [
    "### Get synonyms for target genes"
   ]
  },
  {
   "cell_type": "code",
   "execution_count": 16,
   "id": "b2bffd9e-3f81-4c1f-a4f8-29edd5cd3fcd",
   "metadata": {},
   "outputs": [
    {
     "data": {
      "text/html": [
       "<div>\n",
       "<style scoped>\n",
       "    .dataframe tbody tr th:only-of-type {\n",
       "        vertical-align: middle;\n",
       "    }\n",
       "\n",
       "    .dataframe tbody tr th {\n",
       "        vertical-align: top;\n",
       "    }\n",
       "\n",
       "    .dataframe thead th {\n",
       "        text-align: right;\n",
       "    }\n",
       "</style>\n",
       "<table border=\"1\" class=\"dataframe\">\n",
       "  <thead>\n",
       "    <tr style=\"text-align: right;\">\n",
       "      <th></th>\n",
       "      <th>srna</th>\n",
       "      <th>srna_synonyms</th>\n",
       "      <th>type_of_regulation</th>\n",
       "      <th>target_gene</th>\n",
       "      <th>quote</th>\n",
       "      <th>quote_from</th>\n",
       "      <th>pmcid</th>\n",
       "      <th>wikidata</th>\n",
       "      <th>srna_name</th>\n",
       "      <th>text_prep</th>\n",
       "      <th>target_gene_id</th>\n",
       "    </tr>\n",
       "  </thead>\n",
       "  <tbody>\n",
       "    <tr>\n",
       "      <th>0</th>\n",
       "      <td>sRNA encoded by micF</td>\n",
       "      <td>stc, b4439, ECK2208, IS113, JWR0043, micF</td>\n",
       "      <td>antisense inhibitor of</td>\n",
       "      <td>outer membrane porin F b0929</td>\n",
       "      <td>we suggest that an increased expression of the...</td>\n",
       "      <td>/Article_Viewer%2Ehtml?pmcid=PMC213846&amp;quote=w...</td>\n",
       "      <td>213846</td>\n",
       "      <td>http://www.wikidata.org/entity/Q50418533</td>\n",
       "      <td>micF</td>\n",
       "      <td>we suggest that an increased expression of the...</td>\n",
       "      <td>b0929</td>\n",
       "    </tr>\n",
       "    <tr>\n",
       "      <th>1</th>\n",
       "      <td>sRNA encoded by ryhB</td>\n",
       "      <td>b4451, ECK3426, IS176, JWR0219, psrA18, ryhB, ...</td>\n",
       "      <td>antisense inhibitor of</td>\n",
       "      <td>aconitate hydratase 1 b1276</td>\n",
       "      <td>The genes regulated by RyhB include some encod...</td>\n",
       "      <td>/Article_Viewer%2Ehtml?pmcid=PMC1251601&amp;quote=...</td>\n",
       "      <td>1251601</td>\n",
       "      <td>http://www.wikidata.org/entity/Q50419794</td>\n",
       "      <td>ryhB</td>\n",
       "      <td>The genes regulated by RyhB include some encod...</td>\n",
       "      <td>b1276</td>\n",
       "    </tr>\n",
       "  </tbody>\n",
       "</table>\n",
       "</div>"
      ],
      "text/plain": [
       "                   srna                                      srna_synonyms  \\\n",
       "0  sRNA encoded by micF          stc, b4439, ECK2208, IS113, JWR0043, micF   \n",
       "1  sRNA encoded by ryhB  b4451, ECK3426, IS176, JWR0219, psrA18, ryhB, ...   \n",
       "\n",
       "       type_of_regulation                   target_gene  \\\n",
       "0  antisense inhibitor of  outer membrane porin F b0929   \n",
       "1  antisense inhibitor of   aconitate hydratase 1 b1276   \n",
       "\n",
       "                                               quote  \\\n",
       "0  we suggest that an increased expression of the...   \n",
       "1  The genes regulated by RyhB include some encod...   \n",
       "\n",
       "                                          quote_from    pmcid  \\\n",
       "0  /Article_Viewer%2Ehtml?pmcid=PMC213846&quote=w...   213846   \n",
       "1  /Article_Viewer%2Ehtml?pmcid=PMC1251601&quote=...  1251601   \n",
       "\n",
       "                                   wikidata srna_name  \\\n",
       "0  http://www.wikidata.org/entity/Q50418533      micF   \n",
       "1  http://www.wikidata.org/entity/Q50419794      ryhB   \n",
       "\n",
       "                                           text_prep target_gene_id  \n",
       "0  we suggest that an increased expression of the...          b0929  \n",
       "1  The genes regulated by RyhB include some encod...          b1276  "
      ]
     },
     "execution_count": 16,
     "metadata": {},
     "output_type": "execute_result"
    }
   ],
   "source": [
    "# Vectorized operation to extract gene IDs using regex\n",
    "gene_id_pattern = r'(b\\d{4}|SAOUHSC_\\d{4}\\w)'\n",
    "data_df['target_gene_id'] = data_df.target_gene.str.extract(gene_id_pattern)[0].fillna('')\n",
    "data_df.head(2)"
   ]
  },
  {
   "cell_type": "code",
   "execution_count": 17,
   "id": "e07334c4-f846-48ce-ab13-e6df2bb133f3",
   "metadata": {
    "scrolled": true
   },
   "outputs": [
    {
     "name": "stderr",
     "output_type": "stream",
     "text": [
      "100%|███████████████████████████████████████████| 73/73 [03:25<00:00,  2.81s/it]\n"
     ]
    }
   ],
   "source": [
    "gene_synonyms_dict = {}\n",
    "for gene_id in tqdm(list(set(data_df.target_gene_id.to_list()))):\n",
    "    if gene_id:\n",
    "        gene_synonyms_dict[gene_id] = get_additional_gene_synonyms(gene_id)"
   ]
  },
  {
   "cell_type": "code",
   "execution_count": 18,
   "id": "412df66a-d5b5-421c-83e6-cfdce72401c3",
   "metadata": {},
   "outputs": [
    {
     "data": {
      "text/html": [
       "<div>\n",
       "<style scoped>\n",
       "    .dataframe tbody tr th:only-of-type {\n",
       "        vertical-align: middle;\n",
       "    }\n",
       "\n",
       "    .dataframe tbody tr th {\n",
       "        vertical-align: top;\n",
       "    }\n",
       "\n",
       "    .dataframe thead th {\n",
       "        text-align: right;\n",
       "    }\n",
       "</style>\n",
       "<table border=\"1\" class=\"dataframe\">\n",
       "  <thead>\n",
       "    <tr style=\"text-align: right;\">\n",
       "      <th></th>\n",
       "      <th>srna</th>\n",
       "      <th>srna_synonyms</th>\n",
       "      <th>type_of_regulation</th>\n",
       "      <th>target_gene</th>\n",
       "      <th>quote</th>\n",
       "      <th>quote_from</th>\n",
       "      <th>pmcid</th>\n",
       "      <th>wikidata</th>\n",
       "      <th>srna_name</th>\n",
       "      <th>text_prep</th>\n",
       "      <th>target_gene_id</th>\n",
       "      <th>gene_synonyms</th>\n",
       "    </tr>\n",
       "  </thead>\n",
       "  <tbody>\n",
       "    <tr>\n",
       "      <th>0</th>\n",
       "      <td>sRNA encoded by micF</td>\n",
       "      <td>stc, b4439, ECK2208, IS113, JWR0043, micF</td>\n",
       "      <td>antisense inhibitor of</td>\n",
       "      <td>outer membrane porin F b0929</td>\n",
       "      <td>we suggest that an increased expression of the...</td>\n",
       "      <td>/Article_Viewer%2Ehtml?pmcid=PMC213846&amp;quote=w...</td>\n",
       "      <td>213846</td>\n",
       "      <td>http://www.wikidata.org/entity/Q50418533</td>\n",
       "      <td>micF</td>\n",
       "      <td>we suggest that an increased expression of the...</td>\n",
       "      <td>b0929</td>\n",
       "      <td>cmlB, cry, ECK0920, nfxB, tolF, ompF</td>\n",
       "    </tr>\n",
       "    <tr>\n",
       "      <th>1</th>\n",
       "      <td>sRNA encoded by ryhB</td>\n",
       "      <td>b4451, ECK3426, IS176, JWR0219, psrA18, ryhB, ...</td>\n",
       "      <td>antisense inhibitor of</td>\n",
       "      <td>aconitate hydratase 1 b1276</td>\n",
       "      <td>The genes regulated by RyhB include some encod...</td>\n",
       "      <td>/Article_Viewer%2Ehtml?pmcid=PMC1251601&amp;quote=...</td>\n",
       "      <td>1251601</td>\n",
       "      <td>http://www.wikidata.org/entity/Q50419794</td>\n",
       "      <td>ryhB</td>\n",
       "      <td>The genes regulated by RyhB include some encod...</td>\n",
       "      <td>b1276</td>\n",
       "      <td>acn, ECK1271, acnA</td>\n",
       "    </tr>\n",
       "    <tr>\n",
       "      <th>2</th>\n",
       "      <td>sRNA encoded by ryhB</td>\n",
       "      <td>b4451, ECK3426, IS176, JWR0219, psrA18, ryhB, ...</td>\n",
       "      <td>antisense inhibitor of</td>\n",
       "      <td>fumarase A b1612</td>\n",
       "      <td>The genes regulated by RyhB include some encod...</td>\n",
       "      <td>/Article_Viewer%2Ehtml?pmcid=PMC1251601&amp;quote=...</td>\n",
       "      <td>1251601</td>\n",
       "      <td>http://www.wikidata.org/entity/Q50419794</td>\n",
       "      <td>ryhB</td>\n",
       "      <td>The genes regulated by RyhB include some encod...</td>\n",
       "      <td>b1612</td>\n",
       "      <td>ECK1607, fumA</td>\n",
       "    </tr>\n",
       "  </tbody>\n",
       "</table>\n",
       "</div>"
      ],
      "text/plain": [
       "                   srna                                      srna_synonyms  \\\n",
       "0  sRNA encoded by micF          stc, b4439, ECK2208, IS113, JWR0043, micF   \n",
       "1  sRNA encoded by ryhB  b4451, ECK3426, IS176, JWR0219, psrA18, ryhB, ...   \n",
       "2  sRNA encoded by ryhB  b4451, ECK3426, IS176, JWR0219, psrA18, ryhB, ...   \n",
       "\n",
       "       type_of_regulation                   target_gene  \\\n",
       "0  antisense inhibitor of  outer membrane porin F b0929   \n",
       "1  antisense inhibitor of   aconitate hydratase 1 b1276   \n",
       "2  antisense inhibitor of              fumarase A b1612   \n",
       "\n",
       "                                               quote  \\\n",
       "0  we suggest that an increased expression of the...   \n",
       "1  The genes regulated by RyhB include some encod...   \n",
       "2  The genes regulated by RyhB include some encod...   \n",
       "\n",
       "                                          quote_from    pmcid  \\\n",
       "0  /Article_Viewer%2Ehtml?pmcid=PMC213846&quote=w...   213846   \n",
       "1  /Article_Viewer%2Ehtml?pmcid=PMC1251601&quote=...  1251601   \n",
       "2  /Article_Viewer%2Ehtml?pmcid=PMC1251601&quote=...  1251601   \n",
       "\n",
       "                                   wikidata srna_name  \\\n",
       "0  http://www.wikidata.org/entity/Q50418533      micF   \n",
       "1  http://www.wikidata.org/entity/Q50419794      ryhB   \n",
       "2  http://www.wikidata.org/entity/Q50419794      ryhB   \n",
       "\n",
       "                                           text_prep target_gene_id  \\\n",
       "0  we suggest that an increased expression of the...          b0929   \n",
       "1  The genes regulated by RyhB include some encod...          b1276   \n",
       "2  The genes regulated by RyhB include some encod...          b1612   \n",
       "\n",
       "                          gene_synonyms  \n",
       "0  cmlB, cry, ECK0920, nfxB, tolF, ompF  \n",
       "1                    acn, ECK1271, acnA  \n",
       "2                         ECK1607, fumA  "
      ]
     },
     "execution_count": 18,
     "metadata": {},
     "output_type": "execute_result"
    }
   ],
   "source": [
    "data_df['gene_synonyms'] = data_df.target_gene_id.map(gene_synonyms_dict).fillna('')\n",
    "data_df.head(3)"
   ]
  },
  {
   "cell_type": "code",
   "execution_count": 19,
   "id": "0e84df29-95c9-4a64-9c65-856b6c7f15c6",
   "metadata": {},
   "outputs": [
    {
     "data": {
      "text/plain": [
       "(97, 12)"
      ]
     },
     "execution_count": 19,
     "metadata": {},
     "output_type": "execute_result"
    }
   ],
   "source": [
    "data_df.shape"
   ]
  },
  {
   "cell_type": "markdown",
   "id": "fe3d2a55-7276-46d1-bc9e-2af0cbe9f70f",
   "metadata": {},
   "source": [
    "## Quality check annotations"
   ]
  },
  {
   "cell_type": "code",
   "execution_count": 20,
   "id": "fb0ba84d-25a5-4865-b2fd-c2992f0ee45a",
   "metadata": {},
   "outputs": [
    {
     "name": "stderr",
     "output_type": "stream",
     "text": [
      "100%|█████████████████████████████████████████| 41/41 [00:00<00:00, 1481.89it/s]\n"
     ]
    }
   ],
   "source": [
    "rows_to_add = []\n",
    "# Get a list of all quotes\n",
    "quotes = data_df.text_prep.unique()\n",
    "for quote in tqdm(quotes):\n",
    "    matched_rows = data_df[data_df.text_prep == quote]\n",
    "    for _, row in matched_rows.iterrows():\n",
    "        srna_name = find_name_in_quote(quote, row['srna_name'], row['srna_synonyms'].split(', '))\n",
    "        gene_name = find_name_in_quote(quote, row['target_gene'], row['gene_synonyms'].split(', '), row['target_gene_id'])\n",
    "        row_dict = row.to_dict()\n",
    "        row_dict['srna_name_mentioned'] = srna_name \n",
    "        row_dict['gene_name_mentioned'] = gene_name\n",
    "        rows_to_add.append(row_dict)\n",
    "\n",
    "# Create the DataFrame from the list of dictionaries\n",
    "temp_df = pd.DataFrame(rows_to_add)"
   ]
  },
  {
   "cell_type": "code",
   "execution_count": 21,
   "id": "20c58705-e730-4e3e-88b2-a45f142e07d3",
   "metadata": {},
   "outputs": [
    {
     "name": "stdout",
     "output_type": "stream",
     "text": [
      "(97, 14)\n"
     ]
    },
    {
     "data": {
      "text/html": [
       "<div>\n",
       "<style scoped>\n",
       "    .dataframe tbody tr th:only-of-type {\n",
       "        vertical-align: middle;\n",
       "    }\n",
       "\n",
       "    .dataframe tbody tr th {\n",
       "        vertical-align: top;\n",
       "    }\n",
       "\n",
       "    .dataframe thead th {\n",
       "        text-align: right;\n",
       "    }\n",
       "</style>\n",
       "<table border=\"1\" class=\"dataframe\">\n",
       "  <thead>\n",
       "    <tr style=\"text-align: right;\">\n",
       "      <th></th>\n",
       "      <th>srna</th>\n",
       "      <th>srna_synonyms</th>\n",
       "      <th>type_of_regulation</th>\n",
       "      <th>target_gene</th>\n",
       "      <th>quote</th>\n",
       "      <th>quote_from</th>\n",
       "      <th>pmcid</th>\n",
       "      <th>wikidata</th>\n",
       "      <th>srna_name</th>\n",
       "      <th>text_prep</th>\n",
       "      <th>target_gene_id</th>\n",
       "      <th>gene_synonyms</th>\n",
       "      <th>srna_name_mentioned</th>\n",
       "      <th>gene_name_mentioned</th>\n",
       "    </tr>\n",
       "  </thead>\n",
       "  <tbody>\n",
       "    <tr>\n",
       "      <th>0</th>\n",
       "      <td>sRNA encoded by micF</td>\n",
       "      <td>stc, b4439, ECK2208, IS113, JWR0043, micF</td>\n",
       "      <td>antisense inhibitor of</td>\n",
       "      <td>outer membrane porin F b0929</td>\n",
       "      <td>we suggest that an increased expression of the...</td>\n",
       "      <td>/Article_Viewer%2Ehtml?pmcid=PMC213846&amp;quote=w...</td>\n",
       "      <td>213846</td>\n",
       "      <td>http://www.wikidata.org/entity/Q50418533</td>\n",
       "      <td>micF</td>\n",
       "      <td>we suggest that an increased expression of the...</td>\n",
       "      <td>b0929</td>\n",
       "      <td>cmlB, cry, ECK0920, nfxB, tolF, ompF</td>\n",
       "      <td>micF</td>\n",
       "      <td>ompF</td>\n",
       "    </tr>\n",
       "    <tr>\n",
       "      <th>1</th>\n",
       "      <td>sRNA encoded by ryhB</td>\n",
       "      <td>b4451, ECK3426, IS176, JWR0219, psrA18, ryhB, ...</td>\n",
       "      <td>antisense inhibitor of</td>\n",
       "      <td>aconitate hydratase 1 b1276</td>\n",
       "      <td>The genes regulated by RyhB include some encod...</td>\n",
       "      <td>/Article_Viewer%2Ehtml?pmcid=PMC1251601&amp;quote=...</td>\n",
       "      <td>1251601</td>\n",
       "      <td>http://www.wikidata.org/entity/Q50419794</td>\n",
       "      <td>ryhB</td>\n",
       "      <td>The genes regulated by RyhB include some encod...</td>\n",
       "      <td>b1276</td>\n",
       "      <td>acn, ECK1271, acnA</td>\n",
       "      <td>RyhB</td>\n",
       "      <td>[acnA, acn]</td>\n",
       "    </tr>\n",
       "  </tbody>\n",
       "</table>\n",
       "</div>"
      ],
      "text/plain": [
       "                   srna                                      srna_synonyms  \\\n",
       "0  sRNA encoded by micF          stc, b4439, ECK2208, IS113, JWR0043, micF   \n",
       "1  sRNA encoded by ryhB  b4451, ECK3426, IS176, JWR0219, psrA18, ryhB, ...   \n",
       "\n",
       "       type_of_regulation                   target_gene  \\\n",
       "0  antisense inhibitor of  outer membrane porin F b0929   \n",
       "1  antisense inhibitor of   aconitate hydratase 1 b1276   \n",
       "\n",
       "                                               quote  \\\n",
       "0  we suggest that an increased expression of the...   \n",
       "1  The genes regulated by RyhB include some encod...   \n",
       "\n",
       "                                          quote_from    pmcid  \\\n",
       "0  /Article_Viewer%2Ehtml?pmcid=PMC213846&quote=w...   213846   \n",
       "1  /Article_Viewer%2Ehtml?pmcid=PMC1251601&quote=...  1251601   \n",
       "\n",
       "                                   wikidata srna_name  \\\n",
       "0  http://www.wikidata.org/entity/Q50418533      micF   \n",
       "1  http://www.wikidata.org/entity/Q50419794      ryhB   \n",
       "\n",
       "                                           text_prep target_gene_id  \\\n",
       "0  we suggest that an increased expression of the...          b0929   \n",
       "1  The genes regulated by RyhB include some encod...          b1276   \n",
       "\n",
       "                          gene_synonyms srna_name_mentioned  \\\n",
       "0  cmlB, cry, ECK0920, nfxB, tolF, ompF                micF   \n",
       "1                    acn, ECK1271, acnA                RyhB   \n",
       "\n",
       "  gene_name_mentioned  \n",
       "0                ompF  \n",
       "1         [acnA, acn]  "
      ]
     },
     "execution_count": 21,
     "metadata": {},
     "output_type": "execute_result"
    }
   ],
   "source": [
    "print(temp_df.shape)\n",
    "temp_df.head(2)"
   ]
  },
  {
   "cell_type": "markdown",
   "id": "fedc5f3e-6826-4834-a525-e54484bbda48",
   "metadata": {},
   "source": [
    "## Manual Quality Control on Dataset\n",
    "### Manually check labels:"
   ]
  },
  {
   "cell_type": "code",
   "execution_count": 22,
   "id": "cf147ddf-9539-4126-82ad-596222d06c85",
   "metadata": {
    "scrolled": true
   },
   "outputs": [
    {
     "name": "stdout",
     "output_type": "stream",
     "text": [
      "we suggest that an increased expression of the micF gene in a tolC mutant results in the reduced expression of ompF\n",
      "\n",
      "PMCID: 213846\n",
      "sRNA: micF; mentioned: micF\n",
      "Regulation: antisense inhibitor of\n",
      "Gene: outer membrane porin F b0929 /ID: b0929 /Symbol: cmlB, cry, ECK0920, nfxB, tolF, ompF; mentioned: ompF\n",
      "\n"
     ]
    }
   ],
   "source": [
    "i = 0\n",
    "\n",
    "print(quotes[i] + '\\n')\n",
    "for _, row in temp_df[temp_df.text_prep==quotes[i]].iterrows():\n",
    "    print(f'PMCID: {row[\"pmcid\"]}')\n",
    "    print(f'sRNA: {row[\"srna_name\"]}; mentioned: {row[\"srna_name_mentioned\"]}')\n",
    "    print(f'Regulation: {row[\"type_of_regulation\"]}')\n",
    "    print(f'Gene: {row[\"target_gene\"]} /ID: {row[\"target_gene_id\"]} /Symbol: {row[\"gene_synonyms\"]}; mentioned: {row[\"gene_name_mentioned\"]}')\n",
    "    print()"
   ]
  },
  {
   "cell_type": "code",
   "execution_count": 23,
   "id": "23929b06-0bc3-408e-af18-f624dd847d10",
   "metadata": {},
   "outputs": [
    {
     "name": "stdout",
     "output_type": "stream",
     "text": [
      "(8, 14)\n"
     ]
    },
    {
     "data": {
      "text/plain": [
       "(38, 14)"
      ]
     },
     "execution_count": 23,
     "metadata": {},
     "output_type": "execute_result"
    }
   ],
   "source": [
    "print(temp_df[temp_df.srna_name_mentioned==\"unknown\"].shape)\n",
    "temp_df[temp_df.gene_name_mentioned==\"unknown\"].shape"
   ]
  },
  {
   "cell_type": "markdown",
   "id": "733533ea-5085-4919-b690-44d3011ba326",
   "metadata": {},
   "source": [
    "### Manually fill in sRNA and gene names that were not found by the function (if possible)"
   ]
  },
  {
   "cell_type": "code",
   "execution_count": 24,
   "id": "90719913-9c9e-420b-8d97-70e635863d68",
   "metadata": {},
   "outputs": [],
   "source": [
    "# For the statement of Spot 42 sRNA, encoded by spf regulating galK (from PMCID: 186370): \n",
    "rows_to_add = append_gene_data(df=temp_df, quote=temp_df[temp_df.pmcid==\"186370\"].text_prep.iloc[0], genes=[\"gal\"],  rows_to_add=rows_to_add, srna_names=['Spot 42'])\n"
   ]
  },
  {
   "cell_type": "markdown",
   "id": "344bad86-0192-44c7-b46d-84691a57cfb0",
   "metadata": {},
   "source": [
    "### Add manual adjustments to the labels\n",
    "#### Add additional gene / sRNAs that were mentioned in the quote but are not listed in the dataset"
   ]
  },
  {
   "cell_type": "code",
   "execution_count": 25,
   "id": "0d056d1e-e33c-495c-91fd-846af4e71feb",
   "metadata": {},
   "outputs": [],
   "source": [
    "# For the statement of RyhB regulating sdhCDAB (from PMCID: 1251601): \n",
    "rows_to_add = append_gene_data(df=temp_df, quote=temp_df[temp_df.pmcid==\"1251601\"].text_prep.iloc[0], genes=[\"sdhCDAB\", \"isc\", \"nuo\", \"fdo\", \"hyb\", \"frd\"],  rows_to_add=rows_to_add)\n",
    "\n",
    "# For the statement of DsrA regulating ilvIH (from PMCID: 22852): \n",
    "rows_to_add = append_gene_data(df=temp_df, quote=temp_df[temp_df.pmcid==\"22852\"].text_prep.iloc[0], genes=[\"ilvIH\"],  rows_to_add=rows_to_add)\n",
    "\n",
    "# For the statement of GcvB regulating gltI livJ livK ytfT aroP and argT (from PMCID: 1464411): ytfT and aroP are missing:\n",
    "rows_to_add = append_gene_data(df=temp_df, quote=temp_df[temp_df.pmcid==\"1464411\"].text_prep.iloc[0], genes=[\"ytfT\", \"aroP\"],  rows_to_add=rows_to_add)\n",
    "\n",
    "# For the statement of FnrS regulating mqo sodA yebZ and yobA (from PMCID: 3072601): mqo and yebZ are missing\n",
    "rows_to_add = append_gene_data(df=temp_df, quote=temp_df[temp_df.pmcid==\"3072601\"].text_prep.iloc[0], genes=[\"mqo\", \"yebZ\"],  rows_to_add=rows_to_add)"
   ]
  },
  {
   "cell_type": "code",
   "execution_count": 26,
   "id": "473db6ba-0c52-4db0-bc90-a786d7da6fd6",
   "metadata": {},
   "outputs": [],
   "source": [
    "# For the statement of both OmrA and OmrB regulating cirA and ompT (from PMCID: 2588501): the statements were only listed for OmrA -> ompT and omrB -> cirA\n",
    "row = temp_df[(temp_df.pmcid==\"2588501\")&(temp_df.text_prep.str.startswith('Therefore'))].iloc[-1]\n",
    "row_dict = row.to_dict()\n",
    "row_dict['srna_name_mentioned'] = \"OmrA\"\n",
    "row_dict['gene_name_mentioned'] = \"cirA\"\n",
    "rows_to_add.append(row_dict)\n",
    "\n",
    "row = temp_df[(temp_df.pmcid==\"2588501\")&(temp_df.text_prep.str.startswith('Therefore'))].iloc[-2]\n",
    "row_dict = row.to_dict()\n",
    "row_dict['srna_name_mentioned'] = \"OmrB\"\n",
    "row_dict['gene_name_mentioned'] = \"ompT\"\n",
    "rows_to_add.append(row_dict)"
   ]
  },
  {
   "cell_type": "code",
   "execution_count": 27,
   "id": "1ffba1b1-95a3-4f51-8844-3a78ce33dfd0",
   "metadata": {},
   "outputs": [],
   "source": [
    "# For the statement of cyaR regulating ompX, yqaE, nadE, luxS and yobF (from PMCID: 5861431): yobF is missing\n",
    "rows_to_add = append_gene_data(temp_df, temp_df[temp_df.pmcid==\"5861431\"].text_prep.iloc[0], [\"yobF\"], rows_to_add)\n",
    "\n",
    "# For the statement of rydC regulating csgD and yejABEF (from PMCID: 3985669): yejABEF is missing\n",
    "rows_to_add = append_gene_data(temp_df, temp_df[temp_df.pmcid==\"3985669\"].text_prep.iloc[0], [\"yejABEF\"], rows_to_add)\n",
    "\n",
    "# For the statement of SprY regulating RNAIII, rpmg1 and SAOUHSC_1342a  (from PMCID: 8501977): rpmG1 is missing\n",
    "rows_to_add = append_gene_data(temp_df, temp_df[temp_df.pmcid==\"8501977\"].text_prep.iloc[0], [\"rpmG1\"], rows_to_add)"
   ]
  },
  {
   "cell_type": "code",
   "execution_count": 28,
   "id": "0afb4cb9-f28b-420d-a7ea-f407aae04c6b",
   "metadata": {},
   "outputs": [],
   "source": [
    "# For the statement of OmrA OmrB McaS GcvB and RprA regulating csgDEFG (from PMCID: 4243835): McaS is missing\n",
    "row = temp_df[temp_df.pmcid==\"4243835\"].iloc[-1]\n",
    "gene = \"csgDEFG\"\n",
    "for srna in [\"OmrA\", \"OmrB\", \"McaS\", \"GcvB\", \"RprA\"]:\n",
    "    row_dict = row.to_dict()\n",
    "    row_dict['srna_name_mentioned'] = srna\n",
    "    row_dict['gene_name_mentioned'] = gene\n",
    "    rows_to_add.append(row_dict)"
   ]
  },
  {
   "cell_type": "code",
   "execution_count": 29,
   "id": "75e2f47b-473f-4ea5-b0e6-6bebf36a2285",
   "metadata": {},
   "outputs": [],
   "source": [
    "# # For the statement of dsrA regulating argR, ilvIH and rbsD (from PMCID: 22852): rbsD is missing\n",
    "rows_to_add = append_gene_data(temp_df, temp_df[temp_df.pmcid==\"22852\"].text_prep.iloc[0], [\"rbsD\"], rows_to_add)\n",
    "\n",
    "# For the statement of rhyB regulating nuoA, fdoG and sodA (from PMCID: 3311362): nuoA and sodA are missing\n",
    "rows_to_add = append_gene_data(temp_df, temp_df[(temp_df.pmcid==\"3311362\")&(temp_df.text_prep.str.startswith(\"Analysis of the levels of\"))].text_prep.iloc[0], [\"nuoA\", \"sodA\", \"sdhC\"], rows_to_add)"
   ]
  },
  {
   "cell_type": "code",
   "execution_count": 30,
   "id": "a99bf3e9-e20a-4b69-9a71-aee8b2da2d87",
   "metadata": {},
   "outputs": [
    {
     "data": {
      "text/plain": [
       "'Altogether these results suggest that OmrA/B could base pair with the leader of yjcH or ompR and thereby regulate the expression of the corresponding operons'"
      ]
     },
     "execution_count": 30,
     "metadata": {},
     "output_type": "execute_result"
    }
   ],
   "source": [
    "data_df[(data_df.pmcid==\"2588501\")&(data_df.text_prep.str.startswith('Altogether'))].text_prep.iloc[0]"
   ]
  },
  {
   "cell_type": "code",
   "execution_count": 31,
   "id": "5bb7bfb3-2cf2-4ca9-8e7f-ef00fc9ea258",
   "metadata": {},
   "outputs": [],
   "source": [
    "# For the statement of OmrA/B regulating yjcH, ompR (from PMCID: 2588501): OmrA/B is only listed as OmrA\n",
    "row = temp_df[(temp_df.pmcid==\"2588501\")&(temp_df.text_prep.str.startswith(\"Altogether these results suggest\"))].iloc[-1]\n",
    "row_dict = row.to_dict()\n",
    "row_dict['gene_name_mentioned'] = \"ompR\"\n",
    "rows_to_add.append(row_dict)\n",
    "    \n",
    "for gene in [\"yjcH\", \"ompR\"]:\n",
    "    row_dict = row.to_dict()\n",
    "    row_dict['srna_name_mentioned'] = 'omrA/B'\n",
    "    row_dict['gene_name_mentioned'] = gene\n",
    "    rows_to_add.append(row_dict)"
   ]
  },
  {
   "cell_type": "code",
   "execution_count": 32,
   "id": "56f5b2d0-41c2-4e64-96b7-ac0a9eabde8d",
   "metadata": {},
   "outputs": [],
   "source": [
    "# For the statement of OmrA and OmrB regulating fecA and fepA (from PMCID: 2588501): nuoA and sodA are missing\n",
    "row = temp_df[(temp_df.pmcid==\"2588501\")&(temp_df.text_prep.str.startswith(\"We have previously shown that OmrA an\"))].iloc[0]\n",
    "for gene in [\"fecA\", \"fepA\"]:\n",
    "    row_dict = row.to_dict()\n",
    "    row_dict['srna_name_mentioned'] = 'OmrB'\n",
    "    row_dict['gene_name_mentioned'] = gene\n",
    "    rows_to_add.append(row_dict)"
   ]
  },
  {
   "cell_type": "code",
   "execution_count": 33,
   "id": "d7712137-1759-4c47-9807-79f010eb5b11",
   "metadata": {},
   "outputs": [],
   "source": [
    "# For the statement of GcvA, GcvB and Hfq regulating hdeB and hdeA (from PMCID: 3658693): GvcA and Hfq are missing completely while gcvB -> hdeA is also missing\n",
    "# GcvA, SRNA GcvB, and Hfq\n",
    "row = temp_df[temp_df.pmcid==\"3658693\"].iloc[-1]\n",
    "row_dict = row.to_dict()\n",
    "row_dict['gene_name_mentioned'] = \"hdeA\"\n",
    "rows_to_add.append(row_dict)\n",
    "\n",
    "for srna in [\"GcvA\", \"Hfq\"]:    \n",
    "    for gene in [\"λhdeB\", \"hdeA\"]:\n",
    "        row_dict = row.to_dict()\n",
    "        row_dict['srna_name_mentioned'] = srna\n",
    "        row_dict['gene_name_mentioned'] = gene\n",
    "        rows_to_add.append(row_dict)"
   ]
  },
  {
   "cell_type": "code",
   "execution_count": 34,
   "id": "c1be0b33-e7d7-4c7b-bcc6-22d9e568e324",
   "metadata": {},
   "outputs": [],
   "source": [
    "# For the statement of DsrA RprA and ArcZ regulating rpoS (from PMCID: 3937726): DsrA is missing\n",
    "rows_to_add = append_gene_data(temp_df, temp_df[temp_df.pmcid==\"3937726\"].text_prep.iloc[-1], [\"rpoS\"], rows_to_add, [\"DsrA\"])\n"
   ]
  },
  {
   "cell_type": "code",
   "execution_count": 35,
   "id": "6eb8e483-1739-4ed8-a627-12d8cd2df9cf",
   "metadata": {},
   "outputs": [],
   "source": [
    "# For the statement of sibS and ohsC repressing ibs and shoB (from PMCID: 2597788): sibS and ibs are missing\n",
    "row = temp_df[temp_df.pmcid==\"2597788\"].iloc[-1]\n",
    "for gene in [\"ibs\", \"shoB\"]:\n",
    "    row_dict = row.to_dict()\n",
    "    row_dict['srna_name_mentioned'] = 'SibS'\n",
    "    row_dict['gene_name_mentioned'] = gene\n",
    "    rows_to_add.append(row_dict)\n",
    "\n",
    "row_dict = row.to_dict()\n",
    "row_dict['gene_name_mentioned'] = \"ibs\""
   ]
  },
  {
   "cell_type": "code",
   "execution_count": 36,
   "id": "20442188-d2ea-4561-b29a-4215fa30502e",
   "metadata": {},
   "outputs": [],
   "source": [
    "# For the statement of OmpR activating omrA and omrB (from PMCID: 5175337) sRNA and target gene were swapped and omrA/B is only listed as omrA. \n",
    "# (The line (index 54 in data_df) with the incorrect annotation will be removed at a later stage)\n",
    "row = temp_df[temp_df.pmcid==\"5175337\"].iloc[-1]\n",
    "row_dict = row.to_dict()\n",
    "row_dict['srna_name_mentioned'] = \"OmpR\"\n",
    "row_dict['gene_name_mentioned'] = 'ompA/B'\n",
    "# Remove wrong annotation:\n",
    "rows_to_add.remove(next(item for item in rows_to_add if item[\"pmcid\"] == \"5175337\" and item[\"gene_name_mentioned\"] == \"OmpR\"))\n",
    "rows_to_add.append(row_dict)"
   ]
  },
  {
   "cell_type": "code",
   "execution_count": 37,
   "id": "9ae8e29c-c113-43fb-8f84-9882c7279f68",
   "metadata": {},
   "outputs": [],
   "source": [
    "# For the statement of SarA repressing  sspA sspB, sspC and aur (from PMCID: 8510525) sspA sspB, sspC do not match the gene name extracted on a semantic level. aur is missing  \n",
    "rows_to_add = append_gene_data(temp_df, temp_df[(temp_df.pmcid==\"8510525\")&(temp_df.text_prep.str.startswith(\"The data confirm that among\"))].text_prep.iloc[0], [\"sspA\", \"sspB\", \"sspC\", \"aur\"], rows_to_add)\n",
    "\n",
    "# For the statement of SarA repressing  nuc (from PMCID: 8510525) nuc does not match the gene name extracted on a semantic level.\n",
    "rows_to_add = append_gene_data(temp_df, temp_df[(temp_df.pmcid==\"8510525\")&(temp_df.text_prep.str.startswith(\"The expression of the thermonuclease\"))].text_prep.iloc[0], [\"nuc\"], rows_to_add)"
   ]
  },
  {
   "cell_type": "code",
   "execution_count": 38,
   "id": "c5532dbf-7a1d-4797-917d-6e7b033f0a45",
   "metadata": {},
   "outputs": [
    {
     "data": {
      "text/plain": [
       "(97, 14)"
      ]
     },
     "execution_count": 38,
     "metadata": {},
     "output_type": "execute_result"
    }
   ],
   "source": [
    "temp_df.shape"
   ]
  },
  {
   "cell_type": "markdown",
   "id": "2310a5ee-d988-4f33-a81c-1508a33c0be5",
   "metadata": {},
   "source": [
    "## Consolidate manipulated data to DataFrame"
   ]
  },
  {
   "cell_type": "code",
   "execution_count": 39,
   "id": "6848965c-f432-4284-ac34-84869d24e1fb",
   "metadata": {},
   "outputs": [],
   "source": [
    "# Create the DataFrame from the list of dictionaries\n",
    "temp_df = pd.DataFrame(rows_to_add)"
   ]
  },
  {
   "cell_type": "markdown",
   "id": "31e4154c-1bcb-4022-864b-0a77e617fd14",
   "metadata": {},
   "source": [
    "*Update quotes (index 79 and 80) to new string ranges to include the entities that were extracted:*"
   ]
  },
  {
   "cell_type": "markdown",
   "id": "6e112cac-00e5-40fd-a43d-4ca68324f470",
   "metadata": {},
   "source": [
    "### Filter out rows with unknown or NoneType sRNA and Target Gene names"
   ]
  },
  {
   "cell_type": "code",
   "execution_count": 40,
   "id": "779e7c2c-903d-49f7-8fa1-b79d408abbaf",
   "metadata": {},
   "outputs": [],
   "source": [
    "temp_df = temp_df[(temp_df.srna_name_mentioned!=\"unknown\")&(~temp_df.srna_name_mentioned.isnull())]\n",
    "temp_df = temp_df[(temp_df.gene_name_mentioned!=\"unknown\")&(~temp_df.gene_name_mentioned.isnull())]"
   ]
  },
  {
   "cell_type": "markdown",
   "id": "3a7d3f7d-5658-46f7-a884-43eca176b6f6",
   "metadata": {},
   "source": [
    "#### Assign modified temp_df back to data_df"
   ]
  },
  {
   "cell_type": "code",
   "execution_count": 41,
   "id": "1f0e9253-8661-47d6-a536-bfa35edbc038",
   "metadata": {},
   "outputs": [
    {
     "name": "stdout",
     "output_type": "stream",
     "text": [
      "(100, 14)\n"
     ]
    },
    {
     "data": {
      "text/html": [
       "<div>\n",
       "<style scoped>\n",
       "    .dataframe tbody tr th:only-of-type {\n",
       "        vertical-align: middle;\n",
       "    }\n",
       "\n",
       "    .dataframe tbody tr th {\n",
       "        vertical-align: top;\n",
       "    }\n",
       "\n",
       "    .dataframe thead th {\n",
       "        text-align: right;\n",
       "    }\n",
       "</style>\n",
       "<table border=\"1\" class=\"dataframe\">\n",
       "  <thead>\n",
       "    <tr style=\"text-align: right;\">\n",
       "      <th></th>\n",
       "      <th>srna</th>\n",
       "      <th>srna_synonyms</th>\n",
       "      <th>type_of_regulation</th>\n",
       "      <th>target_gene</th>\n",
       "      <th>quote</th>\n",
       "      <th>quote_from</th>\n",
       "      <th>pmcid</th>\n",
       "      <th>wikidata</th>\n",
       "      <th>srna_name</th>\n",
       "      <th>text_prep</th>\n",
       "      <th>target_gene_id</th>\n",
       "      <th>gene_synonyms</th>\n",
       "      <th>srna_name_mentioned</th>\n",
       "      <th>gene_name_mentioned</th>\n",
       "    </tr>\n",
       "  </thead>\n",
       "  <tbody>\n",
       "    <tr>\n",
       "      <th>0</th>\n",
       "      <td>sRNA encoded by micF</td>\n",
       "      <td>stc, b4439, ECK2208, IS113, JWR0043, micF</td>\n",
       "      <td>antisense inhibitor of</td>\n",
       "      <td>outer membrane porin F b0929</td>\n",
       "      <td>we suggest that an increased expression of the...</td>\n",
       "      <td>/Article_Viewer%2Ehtml?pmcid=PMC213846&amp;quote=w...</td>\n",
       "      <td>213846</td>\n",
       "      <td>http://www.wikidata.org/entity/Q50418533</td>\n",
       "      <td>micF</td>\n",
       "      <td>we suggest that an increased expression of the...</td>\n",
       "      <td>b0929</td>\n",
       "      <td>cmlB, cry, ECK0920, nfxB, tolF, ompF</td>\n",
       "      <td>micF</td>\n",
       "      <td>ompF</td>\n",
       "    </tr>\n",
       "    <tr>\n",
       "      <th>1</th>\n",
       "      <td>sRNA encoded by ryhB</td>\n",
       "      <td>b4451, ECK3426, IS176, JWR0219, psrA18, ryhB, ...</td>\n",
       "      <td>antisense inhibitor of</td>\n",
       "      <td>aconitate hydratase 1 b1276</td>\n",
       "      <td>The genes regulated by RyhB include some encod...</td>\n",
       "      <td>/Article_Viewer%2Ehtml?pmcid=PMC1251601&amp;quote=...</td>\n",
       "      <td>1251601</td>\n",
       "      <td>http://www.wikidata.org/entity/Q50419794</td>\n",
       "      <td>ryhB</td>\n",
       "      <td>The genes regulated by RyhB include some encod...</td>\n",
       "      <td>b1276</td>\n",
       "      <td>acn, ECK1271, acnA</td>\n",
       "      <td>RyhB</td>\n",
       "      <td>[acnA, acn]</td>\n",
       "    </tr>\n",
       "  </tbody>\n",
       "</table>\n",
       "</div>"
      ],
      "text/plain": [
       "                   srna                                      srna_synonyms  \\\n",
       "0  sRNA encoded by micF          stc, b4439, ECK2208, IS113, JWR0043, micF   \n",
       "1  sRNA encoded by ryhB  b4451, ECK3426, IS176, JWR0219, psrA18, ryhB, ...   \n",
       "\n",
       "       type_of_regulation                   target_gene  \\\n",
       "0  antisense inhibitor of  outer membrane porin F b0929   \n",
       "1  antisense inhibitor of   aconitate hydratase 1 b1276   \n",
       "\n",
       "                                               quote  \\\n",
       "0  we suggest that an increased expression of the...   \n",
       "1  The genes regulated by RyhB include some encod...   \n",
       "\n",
       "                                          quote_from    pmcid  \\\n",
       "0  /Article_Viewer%2Ehtml?pmcid=PMC213846&quote=w...   213846   \n",
       "1  /Article_Viewer%2Ehtml?pmcid=PMC1251601&quote=...  1251601   \n",
       "\n",
       "                                   wikidata srna_name  \\\n",
       "0  http://www.wikidata.org/entity/Q50418533      micF   \n",
       "1  http://www.wikidata.org/entity/Q50419794      ryhB   \n",
       "\n",
       "                                           text_prep target_gene_id  \\\n",
       "0  we suggest that an increased expression of the...          b0929   \n",
       "1  The genes regulated by RyhB include some encod...          b1276   \n",
       "\n",
       "                          gene_synonyms srna_name_mentioned  \\\n",
       "0  cmlB, cry, ECK0920, nfxB, tolF, ompF                micF   \n",
       "1                    acn, ECK1271, acnA                RyhB   \n",
       "\n",
       "  gene_name_mentioned  \n",
       "0                ompF  \n",
       "1         [acnA, acn]  "
      ]
     },
     "execution_count": 41,
     "metadata": {},
     "output_type": "execute_result"
    }
   ],
   "source": [
    "data_df = temp_df\n",
    "print(data_df.shape)\n",
    "data_df.head(2)"
   ]
  },
  {
   "cell_type": "code",
   "execution_count": 42,
   "id": "76ef2712-4129-4045-bf93-1ca075e35161",
   "metadata": {},
   "outputs": [],
   "source": [
    "data_df['srna_name_mentioned'] = data_df['srna_name_mentioned'].apply(lambda x: ', '.join(x) if type(x)==list else x)\n",
    "data_df['gene_name_mentioned'] = data_df['gene_name_mentioned'].apply(lambda x: ', '.join(x) if type(x)==list else x)"
   ]
  },
  {
   "cell_type": "code",
   "execution_count": 43,
   "id": "d02845a7-91a2-4cf8-a4cf-115c7cdb0e27",
   "metadata": {},
   "outputs": [
    {
     "data": {
      "text/plain": [
       "(99, 14)"
      ]
     },
     "execution_count": 43,
     "metadata": {},
     "output_type": "execute_result"
    }
   ],
   "source": [
    "data_df = data_df.drop_duplicates()\n",
    "data_df.shape"
   ]
  },
  {
   "cell_type": "markdown",
   "id": "d6b51c3c-739f-4fdf-b5b2-ab47df87b7df",
   "metadata": {},
   "source": [
    "## Correct Regulation Type Labels\n",
    "### \"Activator of\"\n",
    "\n",
    "*Some sentences clearly state an activation process but are not labeled with the regulation type \"activator of\"*\n",
    ">This is corrected by checking for sentences that contain \"activat\" (activation, activate, etc.) but not \"regul\" (regulation, regulated, etc.)"
   ]
  },
  {
   "cell_type": "code",
   "execution_count": 44,
   "id": "af6a18a8-93d9-4fcb-8d17-07c821fb5989",
   "metadata": {},
   "outputs": [],
   "source": [
    "data_df.loc[(data_df.text_prep.str.contains('activat'))&(~data_df.text_prep.str.contains('regul'))&(data_df.type_of_regulation!='activator of'), 'type_of_regulation'] = 'activator of'"
   ]
  },
  {
   "cell_type": "code",
   "execution_count": 108,
   "id": "85bff481-24b0-424e-bb5c-b4d06f448b29",
   "metadata": {},
   "outputs": [
    {
     "data": {
      "text/plain": [
       "type_of_regulation\n",
       "antisense inhibitor of           68\n",
       "regulates (molecular biology)    24\n",
       "activator of                      7\n",
       "Name: count, dtype: int64"
      ]
     },
     "execution_count": 108,
     "metadata": {},
     "output_type": "execute_result"
    }
   ],
   "source": [
    "data_df.type_of_regulation.value_counts()"
   ]
  },
  {
   "cell_type": "markdown",
   "id": "799c14dd-e1ee-4f11-aac2-62785ea6e898",
   "metadata": {},
   "source": [
    "## Split the dataset into train and test sets\n",
    "*Split the dataset into training and test sets using the `train_test_split` function from scikit-learn.*"
   ]
  },
  {
   "cell_type": "code",
   "execution_count": 96,
   "id": "70dfdc65-7d4d-463e-953f-63ffb034b8b9",
   "metadata": {},
   "outputs": [],
   "source": [
    "train_texts, test_texts = train_test_split(data_df[['text_prep', 'type_of_regulation']].drop_duplicates(), test_size=0.3, random_state=42, stratify=data_df[['text_prep', 'type_of_regulation']].drop_duplicates()['type_of_regulation'])"
   ]
  },
  {
   "cell_type": "code",
   "execution_count": 110,
   "id": "e801190c-0d88-4619-a3b8-e1e9b6fcbc89",
   "metadata": {},
   "outputs": [
    {
     "name": "stdout",
     "output_type": "stream",
     "text": [
      "(72, 14)\n"
     ]
    },
    {
     "data": {
      "text/plain": [
       "(27, 14)"
      ]
     },
     "execution_count": 110,
     "metadata": {},
     "output_type": "execute_result"
    }
   ],
   "source": [
    "train_df = data_df[data_df.text_prep.isin(train_texts.text_prep)]\n",
    "test_df = data_df[data_df.text_prep.isin(test_texts.text_prep)]\n",
    "\n",
    "print(train_df.shape)\n",
    "test_df.shape"
   ]
  },
  {
   "cell_type": "code",
   "execution_count": 111,
   "id": "6b577746-cc3f-488d-90d4-b62146485041",
   "metadata": {},
   "outputs": [
    {
     "data": {
      "text/plain": [
       "0.7272727272727273"
      ]
     },
     "execution_count": 111,
     "metadata": {},
     "output_type": "execute_result"
    }
   ],
   "source": [
    "train_df.shape[0]/(train_df.shape[0]+test_df.shape[0])"
   ]
  },
  {
   "cell_type": "code",
   "execution_count": 112,
   "id": "5ea2a202-d2f3-48a0-bbdc-c8dd3c393852",
   "metadata": {},
   "outputs": [
    {
     "data": {
      "text/plain": [
       "type_of_regulation\n",
       "antisense inhibitor of           51\n",
       "regulates (molecular biology)    15\n",
       "activator of                      6\n",
       "Name: count, dtype: int64"
      ]
     },
     "execution_count": 112,
     "metadata": {},
     "output_type": "execute_result"
    }
   ],
   "source": [
    "train_df.type_of_regulation.value_counts()"
   ]
  },
  {
   "cell_type": "code",
   "execution_count": 113,
   "id": "8b238930-6c45-428d-af01-243bf41413ce",
   "metadata": {},
   "outputs": [
    {
     "data": {
      "text/plain": [
       "type_of_regulation\n",
       "antisense inhibitor of           17\n",
       "regulates (molecular biology)     9\n",
       "activator of                      1\n",
       "Name: count, dtype: int64"
      ]
     },
     "execution_count": 113,
     "metadata": {},
     "output_type": "execute_result"
    }
   ],
   "source": [
    "test_df.type_of_regulation.value_counts()"
   ]
  },
  {
   "cell_type": "markdown",
   "id": "b0cf2d65-94f4-4ac9-b551-c054e3261bb4",
   "metadata": {},
   "source": [
    "## Create NER Datasets in form of spacy Docs\n",
    "*Spacy Docs contain the text enriched by annotations; in this case the entities*"
   ]
  },
  {
   "cell_type": "code",
   "execution_count": 101,
   "id": "5ef55221-b72b-4ddd-bc3d-7c509031c719",
   "metadata": {},
   "outputs": [
    {
     "name": "stderr",
     "output_type": "stream",
     "text": [
      "/home/bernards/sRNA_extraction/srna_venv/lib/python3.10/site-packages/spacy/language.py:2141: FutureWarning: Possible set union at position 6328\n",
      "  deserializers[\"tokenizer\"] = lambda p: self.tokenizer.from_disk(  # type: ignore[union-attr]\n"
     ]
    }
   ],
   "source": [
    "# Load the spaCy model\n",
    "nlp = spacy.load(\"en_core_sci_sm\")"
   ]
  },
  {
   "cell_type": "code",
   "execution_count": 103,
   "id": "835fd361-cd74-4906-8c44-272f233757a7",
   "metadata": {},
   "outputs": [],
   "source": [
    "train_dataset = create_dataset([combine_text_and_entities(quote, \n",
    "                                                       train_df[train_df.text_prep==quote].srna_name_mentioned.unique(), \n",
    "                                                       train_df[train_df.text_prep==quote].gene_name_mentioned.unique()) \n",
    "                             for quote in train_df.text_prep.unique()], nlp)\n",
    "test_dataset = create_dataset([combine_text_and_entities(quote, \n",
    "                                                       test_df[test_df.text_prep==quote].srna_name_mentioned.unique(), \n",
    "                                                       test_df[test_df.text_prep==quote].gene_name_mentioned.unique()) \n",
    "                             for quote in test_df.text_prep.unique()], nlp)"
   ]
  },
  {
   "cell_type": "code",
   "execution_count": 104,
   "id": "8719a7ad-d5aa-405c-9b3c-52eb14fdf9a7",
   "metadata": {},
   "outputs": [
    {
     "name": "stdout",
     "output_type": "stream",
     "text": [
      "{'O': 0, 'B-SRNA': 1, 'I-SRNA': 2, 'B-TARGETGENE': 3, 'I-TARGETGENE': 4}\n",
      "{0: 'O', 1: 'B-SRNA', 2: 'I-SRNA', 3: 'B-TARGETGENE', 4: 'I-TARGETGENE'}\n"
     ]
    }
   ],
   "source": [
    "entity_types = [\"SRNA\", \"TARGETGENE\"]\n",
    "# 'O' label assigned to 0\n",
    "label_to_id = {\"O\": 0}\n",
    "\n",
    "# Add labels for each entity type\n",
    "for entity_type in entity_types:\n",
    "    label_to_id[f\"B-{entity_type}\"] = len(label_to_id)\n",
    "    label_to_id[f\"I-{entity_type}\"] = len(label_to_id)\n",
    "    \n",
    "# Convert it to id_to_label\n",
    "id_to_label = {id: label for label, id in label_to_id.items()}\n",
    "\n",
    "print(label_to_id)\n",
    "print(id_to_label)"
   ]
  },
  {
   "cell_type": "code",
   "execution_count": 105,
   "id": "f3f6d210-fca1-4661-bf99-b22a15542641",
   "metadata": {},
   "outputs": [],
   "source": [
    "# Writing label_to_id to a JSON file\n",
    "with open(os.path.join(OUTPUT_PATH, 'label_to_id.json'), 'w') as file:\n",
    "    json.dump(label_to_id, file)\n",
    "\n",
    "# Writing id_to_label to a JSON file\n",
    "with open(os.path.join(OUTPUT_PATH, 'id_to_label.json'), 'w') as file:\n",
    "    json.dump(id_to_label, file)"
   ]
  },
  {
   "cell_type": "markdown",
   "id": "0a9ef1e2-e105-4739-a042-98b54f3f360b",
   "metadata": {},
   "source": [
    "## Write Output to Disk\n",
    "\n",
    "### Save NER Datasets"
   ]
  },
  {
   "cell_type": "code",
   "execution_count": 106,
   "id": "67e4c7c9-fc82-42b1-975c-03c7ea716f46",
   "metadata": {},
   "outputs": [],
   "source": [
    "# Save the datasets\n",
    "pickle.dump(train_dataset, open(os.path.join(OUTPUT_PATH, 'train_NER.pickle'), \"wb\"))\n",
    "pickle.dump(test_dataset, open(os.path.join(OUTPUT_PATH, 'test_NER.pickle'), \"wb\"))"
   ]
  },
  {
   "cell_type": "markdown",
   "id": "b72d9caf-539c-4df7-9522-6a1020d4107b",
   "metadata": {},
   "source": [
    "### Save DataFrames"
   ]
  },
  {
   "cell_type": "code",
   "execution_count": 107,
   "id": "c318a1a9-2bbb-4c59-8448-cedb4be89878",
   "metadata": {},
   "outputs": [],
   "source": [
    "# \n",
    "train_df.to_parquet(os.path.join(OUTPUT_PATH, 'train_df.pq'), engine='pyarrow', index=False)\n",
    "test_df.to_parquet(os.path.join(OUTPUT_PATH, 'test_df.pq'), engine='pyarrow', index=False)"
   ]
  },
  {
   "cell_type": "code",
   "execution_count": null,
   "id": "f9f555c8-01ec-4151-a69c-1c4cc9722b9d",
   "metadata": {},
   "outputs": [],
   "source": []
  }
 ],
 "metadata": {
  "kernelspec": {
   "display_name": "Python 3 (ipykernel)",
   "language": "python",
   "name": "python3"
  },
  "language_info": {
   "codemirror_mode": {
    "name": "ipython",
    "version": 3
   },
   "file_extension": ".py",
   "mimetype": "text/x-python",
   "name": "python",
   "nbconvert_exporter": "python",
   "pygments_lexer": "ipython3",
   "version": "3.10.12"
  }
 },
 "nbformat": 4,
 "nbformat_minor": 5
}