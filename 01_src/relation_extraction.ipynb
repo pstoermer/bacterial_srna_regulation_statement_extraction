{
 "cells": [
  {
   "cell_type": "code",
   "execution_count": 1,
   "id": "54e688a8-1330-4f66-93cd-aeee24fc8866",
   "metadata": {},
   "outputs": [],
   "source": [
    "import os\n",
    "import string\n",
    "import re\n",
    "\n",
    "import numpy as np\n",
    "\n",
    "import joblib\n",
    "\n",
    "from datetime import datetime as dt\n",
    "import pandas as pd\n",
    "\n",
    "import nltk\n",
    "# nltk.download('stopwords')\n",
    "from nltk.corpus import stopwords\n",
    "\n",
    "import pandas as pd\n",
    "from sklearn.base import BaseEstimator, TransformerMixin\n",
    "from sklearn.model_selection import GridSearchCV, train_test_split\n",
    "from sklearn.feature_extraction.text import TfidfVectorizer\n",
    "from sklearn.metrics import classification_report, accuracy_score, f1_score, make_scorer, confusion_matrix, ConfusionMatrixDisplay\n",
    "from sklearn.preprocessing import LabelEncoder\n",
    "from sklearn.compose import ColumnTransformer, make_column_selector\n",
    "from sklearn.pipeline import Pipeline, make_pipeline\n",
    "from sklearn.ensemble import RandomForestClassifier, GradientBoostingClassifier\n",
    "from sklearn.svm import SVC\n",
    "from sklearn.linear_model import LogisticRegression\n",
    "from sklearn.naive_bayes import MultinomialNB\n",
    "\n",
    "import matplotlib.pyplot as plt"
   ]
  },
  {
   "cell_type": "code",
   "execution_count": 2,
   "id": "7673f9b6-f745-4b74-8352-f070e729e094",
   "metadata": {},
   "outputs": [
    {
     "name": "stderr",
     "output_type": "stream",
     "text": [
      "2024-03-16 19:36:54 rhodes-f6eac metapub.config[266559] WARNING NCBI_API_KEY was not set.\n",
      "2024-03-16 19:36:55.500714: E external/local_xla/xla/stream_executor/cuda/cuda_dnn.cc:9261] Unable to register cuDNN factory: Attempting to register factory for plugin cuDNN when one has already been registered\n",
      "2024-03-16 19:36:55.500766: E external/local_xla/xla/stream_executor/cuda/cuda_fft.cc:607] Unable to register cuFFT factory: Attempting to register factory for plugin cuFFT when one has already been registered\n",
      "2024-03-16 19:36:55.501614: E external/local_xla/xla/stream_executor/cuda/cuda_blas.cc:1515] Unable to register cuBLAS factory: Attempting to register factory for plugin cuBLAS when one has already been registered\n",
      "2024-03-16 19:36:55.508191: I tensorflow/core/platform/cpu_feature_guard.cc:182] This TensorFlow binary is optimized to use available CPU instructions in performance-critical operations.\n",
      "To enable the following instructions: AVX2 FMA, in other operations, rebuild TensorFlow with the appropriate compiler flags.\n",
      "2024-03-16 19:36:56.295502: W tensorflow/compiler/tf2tensorrt/utils/py_utils.cc:38] TF-TRT Warning: Could not find TensorRT\n",
      "2024-03-16 19:36:56.864595: I external/local_xla/xla/stream_executor/cuda/cuda_executor.cc:901] successful NUMA node read from SysFS had negative value (-1), but there must be at least one NUMA node, so returning NUMA node zero. See more at https://github.com/torvalds/linux/blob/v6.0/Documentation/ABI/testing/sysfs-bus-pci#L344-L355\n",
      "2024-03-16 19:36:56.897869: I external/local_xla/xla/stream_executor/cuda/cuda_executor.cc:901] successful NUMA node read from SysFS had negative value (-1), but there must be at least one NUMA node, so returning NUMA node zero. See more at https://github.com/torvalds/linux/blob/v6.0/Documentation/ABI/testing/sysfs-bus-pci#L344-L355\n",
      "2024-03-16 19:36:56.900155: I external/local_xla/xla/stream_executor/cuda/cuda_executor.cc:901] successful NUMA node read from SysFS had negative value (-1), but there must be at least one NUMA node, so returning NUMA node zero. See more at https://github.com/torvalds/linux/blob/v6.0/Documentation/ABI/testing/sysfs-bus-pci#L344-L355\n"
     ]
    }
   ],
   "source": [
    "from preprocessing_utils import preprocess_texts"
   ]
  },
  {
   "cell_type": "code",
   "execution_count": 3,
   "id": "dc664a53-fcbe-487c-aaba-22084e8cccc1",
   "metadata": {},
   "outputs": [],
   "source": [
    "DATA_PATH = '/data/02_training_data/'\n",
    "MODEL_OUT_PATH = '/data/03_models/relation_classifier/'"
   ]
  },
  {
   "cell_type": "code",
   "execution_count": 4,
   "id": "1c28abff-4c21-4aaa-95b1-13c119f3c46c",
   "metadata": {},
   "outputs": [],
   "source": [
    "try:\n",
    "    train_df = pd.read_parquet(os.path.join(DATA_PATH,'temp_train_df.pq'))\n",
    "    test_df = pd.read_parquet(os.path.join(DATA_PATH,'temp_test_df.pq'))\n",
    "except FileNotFoundError as e:\n",
    "    print(e)"
   ]
  },
  {
   "cell_type": "code",
   "execution_count": 5,
   "id": "a44bb969-4354-4995-8a00-da9a7403ee52",
   "metadata": {},
   "outputs": [
    {
     "name": "stdout",
     "output_type": "stream",
     "text": [
      "(72, 14)\n",
      "type_of_regulation\n",
      "antisense inhibitor of           51\n",
      "regulates (molecular biology)    15\n",
      "activator of                      6\n",
      "Name: count, dtype: int64\n"
     ]
    },
    {
     "data": {
      "text/html": [
       "<div>\n",
       "<style scoped>\n",
       "    .dataframe tbody tr th:only-of-type {\n",
       "        vertical-align: middle;\n",
       "    }\n",
       "\n",
       "    .dataframe tbody tr th {\n",
       "        vertical-align: top;\n",
       "    }\n",
       "\n",
       "    .dataframe thead th {\n",
       "        text-align: right;\n",
       "    }\n",
       "</style>\n",
       "<table border=\"1\" class=\"dataframe\">\n",
       "  <thead>\n",
       "    <tr style=\"text-align: right;\">\n",
       "      <th></th>\n",
       "      <th>srna</th>\n",
       "      <th>srna_synonyms</th>\n",
       "      <th>type_of_regulation</th>\n",
       "      <th>target_gene</th>\n",
       "      <th>quote</th>\n",
       "      <th>quote_from</th>\n",
       "      <th>pmcid</th>\n",
       "      <th>wikidata</th>\n",
       "      <th>srna_name</th>\n",
       "      <th>text_prep</th>\n",
       "      <th>target_gene_id</th>\n",
       "      <th>gene_synonyms</th>\n",
       "      <th>srna_name_mentioned</th>\n",
       "      <th>gene_name_mentioned</th>\n",
       "    </tr>\n",
       "  </thead>\n",
       "  <tbody>\n",
       "    <tr>\n",
       "      <th>0</th>\n",
       "      <td>sRNA encoded by micF</td>\n",
       "      <td>stc, b4439, ECK2208, IS113, JWR0043, micF</td>\n",
       "      <td>antisense inhibitor of</td>\n",
       "      <td>outer membrane porin F b0929</td>\n",
       "      <td>we suggest that an increased expression of the...</td>\n",
       "      <td>/Article_Viewer%2Ehtml?pmcid=PMC213846&amp;quote=w...</td>\n",
       "      <td>213846</td>\n",
       "      <td>http://www.wikidata.org/entity/Q50418533</td>\n",
       "      <td>micF</td>\n",
       "      <td>we suggest that an increased expression of the...</td>\n",
       "      <td>b0929</td>\n",
       "      <td>cmlB, cry, ECK0920, nfxB, tolF, ompF</td>\n",
       "      <td>micF</td>\n",
       "      <td>ompF</td>\n",
       "    </tr>\n",
       "    <tr>\n",
       "      <th>1</th>\n",
       "      <td>sRNA encoded by ryhB</td>\n",
       "      <td>b4451, ECK3426, IS176, JWR0219, psrA18, ryhB, ...</td>\n",
       "      <td>antisense inhibitor of</td>\n",
       "      <td>aconitate hydratase 1 b1276</td>\n",
       "      <td>The genes regulated by RyhB include some encod...</td>\n",
       "      <td>/Article_Viewer%2Ehtml?pmcid=PMC1251601&amp;quote=...</td>\n",
       "      <td>1251601</td>\n",
       "      <td>http://www.wikidata.org/entity/Q50419794</td>\n",
       "      <td>ryhB</td>\n",
       "      <td>The genes regulated by RyhB include some encod...</td>\n",
       "      <td>b1276</td>\n",
       "      <td>acn, ECK1271, acnA</td>\n",
       "      <td>RyhB</td>\n",
       "      <td>acnA, acn</td>\n",
       "    </tr>\n",
       "  </tbody>\n",
       "</table>\n",
       "</div>"
      ],
      "text/plain": [
       "                   srna                                      srna_synonyms  \\\n",
       "0  sRNA encoded by micF          stc, b4439, ECK2208, IS113, JWR0043, micF   \n",
       "1  sRNA encoded by ryhB  b4451, ECK3426, IS176, JWR0219, psrA18, ryhB, ...   \n",
       "\n",
       "       type_of_regulation                   target_gene  \\\n",
       "0  antisense inhibitor of  outer membrane porin F b0929   \n",
       "1  antisense inhibitor of   aconitate hydratase 1 b1276   \n",
       "\n",
       "                                               quote  \\\n",
       "0  we suggest that an increased expression of the...   \n",
       "1  The genes regulated by RyhB include some encod...   \n",
       "\n",
       "                                          quote_from    pmcid  \\\n",
       "0  /Article_Viewer%2Ehtml?pmcid=PMC213846&quote=w...   213846   \n",
       "1  /Article_Viewer%2Ehtml?pmcid=PMC1251601&quote=...  1251601   \n",
       "\n",
       "                                   wikidata srna_name  \\\n",
       "0  http://www.wikidata.org/entity/Q50418533      micF   \n",
       "1  http://www.wikidata.org/entity/Q50419794      ryhB   \n",
       "\n",
       "                                           text_prep target_gene_id  \\\n",
       "0  we suggest that an increased expression of the...          b0929   \n",
       "1  The genes regulated by RyhB include some encod...          b1276   \n",
       "\n",
       "                          gene_synonyms srna_name_mentioned  \\\n",
       "0  cmlB, cry, ECK0920, nfxB, tolF, ompF                micF   \n",
       "1                    acn, ECK1271, acnA                RyhB   \n",
       "\n",
       "  gene_name_mentioned  \n",
       "0                ompF  \n",
       "1           acnA, acn  "
      ]
     },
     "execution_count": 5,
     "metadata": {},
     "output_type": "execute_result"
    }
   ],
   "source": [
    "print(train_df.shape)\n",
    "print(train_df.type_of_regulation.value_counts())\n",
    "train_df.head(2)"
   ]
  },
  {
   "cell_type": "code",
   "execution_count": 6,
   "id": "5225e99c-d61d-4420-9e66-d92913420902",
   "metadata": {},
   "outputs": [
    {
     "name": "stdout",
     "output_type": "stream",
     "text": [
      "(27, 14)\n",
      "type_of_regulation\n",
      "antisense inhibitor of           17\n",
      "regulates (molecular biology)     9\n",
      "activator of                      1\n",
      "Name: count, dtype: int64\n"
     ]
    },
    {
     "data": {
      "text/html": [
       "<div>\n",
       "<style scoped>\n",
       "    .dataframe tbody tr th:only-of-type {\n",
       "        vertical-align: middle;\n",
       "    }\n",
       "\n",
       "    .dataframe tbody tr th {\n",
       "        vertical-align: top;\n",
       "    }\n",
       "\n",
       "    .dataframe thead th {\n",
       "        text-align: right;\n",
       "    }\n",
       "</style>\n",
       "<table border=\"1\" class=\"dataframe\">\n",
       "  <thead>\n",
       "    <tr style=\"text-align: right;\">\n",
       "      <th></th>\n",
       "      <th>srna</th>\n",
       "      <th>srna_synonyms</th>\n",
       "      <th>type_of_regulation</th>\n",
       "      <th>target_gene</th>\n",
       "      <th>quote</th>\n",
       "      <th>quote_from</th>\n",
       "      <th>pmcid</th>\n",
       "      <th>wikidata</th>\n",
       "      <th>srna_name</th>\n",
       "      <th>text_prep</th>\n",
       "      <th>target_gene_id</th>\n",
       "      <th>gene_synonyms</th>\n",
       "      <th>srna_name_mentioned</th>\n",
       "      <th>gene_name_mentioned</th>\n",
       "    </tr>\n",
       "  </thead>\n",
       "  <tbody>\n",
       "    <tr>\n",
       "      <th>0</th>\n",
       "      <td>sRNA encoded by omrB</td>\n",
       "      <td>t59, b4445, ECK2834, JWR0249, omrB, PAIR2b, rygB</td>\n",
       "      <td>antisense inhibitor of</td>\n",
       "      <td>ferric dihyroxybenzoylserine outer membrane tr...</td>\n",
       "      <td>Therefore, the first 10 nt of both OmrA and Om...</td>\n",
       "      <td>/Article_Viewer%2Ehtml?pmcid=PMC2588501&amp;quote=...</td>\n",
       "      <td>2588501</td>\n",
       "      <td>http://www.wikidata.org/entity/Q50419398</td>\n",
       "      <td>omrB</td>\n",
       "      <td>Therefore the first 10 nt of both OmrA and Omr...</td>\n",
       "      <td>b2155</td>\n",
       "      <td>cir, ECK2148, feuA, cirA</td>\n",
       "      <td>OmrB</td>\n",
       "      <td>cir, cirA</td>\n",
       "    </tr>\n",
       "    <tr>\n",
       "      <th>1</th>\n",
       "      <td>sRNA encoded by omrA</td>\n",
       "      <td>b4444, ECK2833, JWR0248, omrA, PAIR2a, psrA12,...</td>\n",
       "      <td>antisense inhibitor of</td>\n",
       "      <td>outer membrane protease VII (outer membrane pr...</td>\n",
       "      <td>Therefore, the first 10 nt of both OmrA and Om...</td>\n",
       "      <td>/Article_Viewer%2Ehtml?pmcid=PMC2588501&amp;quote=...</td>\n",
       "      <td>2588501</td>\n",
       "      <td>http://www.wikidata.org/entity/Q50419343</td>\n",
       "      <td>omrA</td>\n",
       "      <td>Therefore the first 10 nt of both OmrA and Omr...</td>\n",
       "      <td>b0565</td>\n",
       "      <td>ECK0557, ompT</td>\n",
       "      <td>OmrA</td>\n",
       "      <td>ompT</td>\n",
       "    </tr>\n",
       "  </tbody>\n",
       "</table>\n",
       "</div>"
      ],
      "text/plain": [
       "                   srna                                      srna_synonyms  \\\n",
       "0  sRNA encoded by omrB   t59, b4445, ECK2834, JWR0249, omrB, PAIR2b, rygB   \n",
       "1  sRNA encoded by omrA  b4444, ECK2833, JWR0248, omrA, PAIR2a, psrA12,...   \n",
       "\n",
       "       type_of_regulation                                        target_gene  \\\n",
       "0  antisense inhibitor of  ferric dihyroxybenzoylserine outer membrane tr...   \n",
       "1  antisense inhibitor of  outer membrane protease VII (outer membrane pr...   \n",
       "\n",
       "                                               quote  \\\n",
       "0  Therefore, the first 10 nt of both OmrA and Om...   \n",
       "1  Therefore, the first 10 nt of both OmrA and Om...   \n",
       "\n",
       "                                          quote_from    pmcid  \\\n",
       "0  /Article_Viewer%2Ehtml?pmcid=PMC2588501&quote=...  2588501   \n",
       "1  /Article_Viewer%2Ehtml?pmcid=PMC2588501&quote=...  2588501   \n",
       "\n",
       "                                   wikidata srna_name  \\\n",
       "0  http://www.wikidata.org/entity/Q50419398      omrB   \n",
       "1  http://www.wikidata.org/entity/Q50419343      omrA   \n",
       "\n",
       "                                           text_prep target_gene_id  \\\n",
       "0  Therefore the first 10 nt of both OmrA and Omr...          b2155   \n",
       "1  Therefore the first 10 nt of both OmrA and Omr...          b0565   \n",
       "\n",
       "              gene_synonyms srna_name_mentioned gene_name_mentioned  \n",
       "0  cir, ECK2148, feuA, cirA                OmrB           cir, cirA  \n",
       "1             ECK0557, ompT                OmrA                ompT  "
      ]
     },
     "execution_count": 6,
     "metadata": {},
     "output_type": "execute_result"
    }
   ],
   "source": [
    "print(test_df.shape)\n",
    "print(test_df.type_of_regulation.value_counts())\n",
    "test_df.head(2)"
   ]
  },
  {
   "cell_type": "markdown",
   "id": "061ba278-75fd-42b2-978d-d4115946c589",
   "metadata": {},
   "source": [
    "## Generate negative examples using GPT-4:\n",
    "**Prompt used:**\n",
    "> *\"Generate 500 sentences that are structured and phrased as if extracted from scientific research articles or academic discussions in the fields of microbiology and molecular biology. These sentences should encompass a broad range of topics including but not limited to gene expression analysis, protein function and interaction, cellular processes, bacterial genetics, and responses to environmental stressors. Each sentence must be unique and present a specific scientific fact, hypothesis, observation, or methodological approach relevant to the aforementioned fields. Ensure the sentences reflect the precision, terminology, and tone typical of scholarly articles, including references to experimental techniques, genetic components, and theoretical frameworks without simulating references or citations. The objective is to create a dataset of negative examples that are contextually similar to discussions about bacterial sRNA regulation but are clearly distinguishable by their lack of specific references to sRNA-mediated regulatory mechanisms.\"*"
   ]
  },
  {
   "cell_type": "code",
   "execution_count": 7,
   "id": "6ea083d2-db1b-41bb-9daa-0aea6e4a3d73",
   "metadata": {},
   "outputs": [
    {
     "data": {
      "text/plain": [
       "500"
      ]
     },
     "execution_count": 7,
     "metadata": {},
     "output_type": "execute_result"
    }
   ],
   "source": [
    "from negative_examples import negative_examples\n",
    "negative_examples = [preprocess_texts(ex) for ex in negative_examples]\n",
    "len(negative_examples)"
   ]
  },
  {
   "cell_type": "code",
   "execution_count": 8,
   "id": "6ce14a47-df4a-4f5d-9947-206e504c6862",
   "metadata": {},
   "outputs": [
    {
     "name": "stdout",
     "output_type": "stream",
     "text": [
      "(500, 2)\n"
     ]
    },
    {
     "data": {
      "text/html": [
       "<div>\n",
       "<style scoped>\n",
       "    .dataframe tbody tr th:only-of-type {\n",
       "        vertical-align: middle;\n",
       "    }\n",
       "\n",
       "    .dataframe tbody tr th {\n",
       "        vertical-align: top;\n",
       "    }\n",
       "\n",
       "    .dataframe thead th {\n",
       "        text-align: right;\n",
       "    }\n",
       "</style>\n",
       "<table border=\"1\" class=\"dataframe\">\n",
       "  <thead>\n",
       "    <tr style=\"text-align: right;\">\n",
       "      <th></th>\n",
       "      <th>text_prep</th>\n",
       "      <th>type_of_regulation</th>\n",
       "    </tr>\n",
       "  </thead>\n",
       "  <tbody>\n",
       "    <tr>\n",
       "      <th>0</th>\n",
       "      <td>The role of ATP synthase in mitochondrial ener...</td>\n",
       "      <td>none</td>\n",
       "    </tr>\n",
       "    <tr>\n",
       "      <th>1</th>\n",
       "      <td>Through chromatin immunoprecipitation assays t...</td>\n",
       "      <td>none</td>\n",
       "    </tr>\n",
       "    <tr>\n",
       "      <th>2</th>\n",
       "      <td>The study of bacterial conjugation reveals a h...</td>\n",
       "      <td>none</td>\n",
       "    </tr>\n",
       "  </tbody>\n",
       "</table>\n",
       "</div>"
      ],
      "text/plain": [
       "                                           text_prep type_of_regulation\n",
       "0  The role of ATP synthase in mitochondrial ener...               none\n",
       "1  Through chromatin immunoprecipitation assays t...               none\n",
       "2  The study of bacterial conjugation reveals a h...               none"
      ]
     },
     "execution_count": 8,
     "metadata": {},
     "output_type": "execute_result"
    }
   ],
   "source": [
    "negative_examples_df = pd.DataFrame(negative_examples, columns=['text_prep'])\n",
    "negative_examples_df['type_of_regulation'] = 'none'\n",
    "print(negative_examples_df.shape)\n",
    "negative_examples_df.head(3)"
   ]
  },
  {
   "cell_type": "code",
   "execution_count": 9,
   "id": "33f75780-288b-4140-88b1-d50f0ea7bf5d",
   "metadata": {},
   "outputs": [],
   "source": [
    "train_negative_df, test_negative_df =  train_test_split(negative_examples_df, test_size=0.3, random_state=42)"
   ]
  },
  {
   "cell_type": "code",
   "execution_count": 10,
   "id": "cca8d0c7-7394-465e-a5a2-9ee634170a3d",
   "metadata": {},
   "outputs": [
    {
     "name": "stdout",
     "output_type": "stream",
     "text": [
      "(374, 2)\n",
      "\n",
      "type_of_regulation\n",
      "none                             350\n",
      "antisense inhibitor of            14\n",
      "regulates (molecular biology)      7\n",
      "activator of                       3\n",
      "Name: count, dtype: int64\n"
     ]
    },
    {
     "data": {
      "text/html": [
       "<div>\n",
       "<style scoped>\n",
       "    .dataframe tbody tr th:only-of-type {\n",
       "        vertical-align: middle;\n",
       "    }\n",
       "\n",
       "    .dataframe tbody tr th {\n",
       "        vertical-align: top;\n",
       "    }\n",
       "\n",
       "    .dataframe thead th {\n",
       "        text-align: right;\n",
       "    }\n",
       "</style>\n",
       "<table border=\"1\" class=\"dataframe\">\n",
       "  <thead>\n",
       "    <tr style=\"text-align: right;\">\n",
       "      <th></th>\n",
       "      <th>text_prep</th>\n",
       "      <th>type_of_regulation</th>\n",
       "    </tr>\n",
       "  </thead>\n",
       "  <tbody>\n",
       "    <tr>\n",
       "      <th>0</th>\n",
       "      <td>Bacterial symbiosis with marine organisms impa...</td>\n",
       "      <td>none</td>\n",
       "    </tr>\n",
       "    <tr>\n",
       "      <th>1</th>\n",
       "      <td>The role of bacteria in atmospheric processes ...</td>\n",
       "      <td>none</td>\n",
       "    </tr>\n",
       "  </tbody>\n",
       "</table>\n",
       "</div>"
      ],
      "text/plain": [
       "                                           text_prep type_of_regulation\n",
       "0  Bacterial symbiosis with marine organisms impa...               none\n",
       "1  The role of bacteria in atmospheric processes ...               none"
      ]
     },
     "execution_count": 10,
     "metadata": {},
     "output_type": "execute_result"
    }
   ],
   "source": [
    "train_df = pd.concat([train_df, train_negative_df])[['text_prep', 'type_of_regulation']].drop_duplicates()\n",
    "train_df = train_df.sample(frac=1).reset_index(drop=True)\n",
    "print(train_df.shape, end='\\n\\n')\n",
    "print(train_df.type_of_regulation.value_counts())\n",
    "train_df.head(2)"
   ]
  },
  {
   "cell_type": "code",
   "execution_count": 11,
   "id": "717c28d2-1362-41a4-a054-2554e5062406",
   "metadata": {},
   "outputs": [
    {
     "name": "stdout",
     "output_type": "stream",
     "text": [
      "(161, 2)\n",
      "\n",
      "type_of_regulation\n",
      "none                             150\n",
      "antisense inhibitor of             7\n",
      "regulates (molecular biology)      3\n",
      "activator of                       1\n",
      "Name: count, dtype: int64\n"
     ]
    },
    {
     "data": {
      "text/html": [
       "<div>\n",
       "<style scoped>\n",
       "    .dataframe tbody tr th:only-of-type {\n",
       "        vertical-align: middle;\n",
       "    }\n",
       "\n",
       "    .dataframe tbody tr th {\n",
       "        vertical-align: top;\n",
       "    }\n",
       "\n",
       "    .dataframe thead th {\n",
       "        text-align: right;\n",
       "    }\n",
       "</style>\n",
       "<table border=\"1\" class=\"dataframe\">\n",
       "  <thead>\n",
       "    <tr style=\"text-align: right;\">\n",
       "      <th></th>\n",
       "      <th>text_prep</th>\n",
       "      <th>type_of_regulation</th>\n",
       "    </tr>\n",
       "  </thead>\n",
       "  <tbody>\n",
       "    <tr>\n",
       "      <th>0</th>\n",
       "      <td>Bacterial strategies for the synthesis and mod...</td>\n",
       "      <td>none</td>\n",
       "    </tr>\n",
       "    <tr>\n",
       "      <th>1</th>\n",
       "      <td>The role of oxidative phosphorylation in ATP p...</td>\n",
       "      <td>none</td>\n",
       "    </tr>\n",
       "  </tbody>\n",
       "</table>\n",
       "</div>"
      ],
      "text/plain": [
       "                                           text_prep type_of_regulation\n",
       "0  Bacterial strategies for the synthesis and mod...               none\n",
       "1  The role of oxidative phosphorylation in ATP p...               none"
      ]
     },
     "execution_count": 11,
     "metadata": {},
     "output_type": "execute_result"
    }
   ],
   "source": [
    "test_df = pd.concat([test_df, test_negative_df])[['text_prep', 'type_of_regulation']].drop_duplicates()\n",
    "test_df = test_df.sample(frac=1).reset_index(drop=True)\n",
    "print(test_df.shape, end='\\n\\n')\n",
    "print(test_df.type_of_regulation.value_counts())\n",
    "test_df.head(2)"
   ]
  },
  {
   "cell_type": "markdown",
   "id": "d0b973af-a3c9-47ba-b6ca-6e7d1ed1221f",
   "metadata": {},
   "source": []
  },
  {
   "cell_type": "code",
   "execution_count": 12,
   "id": "9a344588-0a93-49dc-83a6-adba4e0812b2",
   "metadata": {},
   "outputs": [],
   "source": [
    "from sklearn.feature_extraction.text import TfidfVectorizer\n",
    "from nltk.corpus import stopwords\n",
    "\n",
    "nltk_stop_words = stopwords.words('english')"
   ]
  },
  {
   "cell_type": "code",
   "execution_count": 13,
   "id": "d62038b8-e816-4fea-9ca3-4966269bb0bc",
   "metadata": {},
   "outputs": [],
   "source": [
    "tfidf_vectorizer = TfidfVectorizer(stop_words=nltk_stop_words)\n",
    "\n",
    "# This will store the class as key and its top 20 unique terms as values\n",
    "unique_terms_per_class = {}"
   ]
  },
  {
   "cell_type": "markdown",
   "id": "65679a16-cc8e-4178-b867-d2b3612dbb59",
   "metadata": {},
   "source": []
  },
  {
   "cell_type": "code",
   "execution_count": 14,
   "id": "6c3f795f-73cf-4bc7-802f-806170f99121",
   "metadata": {},
   "outputs": [
    {
     "name": "stdout",
     "output_type": "stream",
     "text": [
      "Top 20 terms for none:\n",
      "['bacterial', 'gene', 'mechanisms', 'bacteria', 'microbial', 'role', 'potential', 'environmental', 'study', 'insights', 'understanding', 'production', 'strategies', 'including', 'processes', 'provides', 'application', 'cell', 'resistance', 'synthesis', 'regulation', 'stress', 'response', 'adaptation', 'roles', 'health', 'biosynthesis', 'exploration', 'protein', 'nutrient', 'development', 'energy', 'cycling', 'cellular', 'interactions', 'systems', 'offers', 'crucial', 'compounds', 'environments', 'degradation', 'investigation', 'survival', 'metabolic', 'highlights', 'nitrogen', 'metabolism', 'organic', 'involved', 'informs']\n",
      "\n",
      "Top 20 terms for antisense inhibitor of:\n",
      "['rna', 'gcvb', 'expression', 'genes', 'suggest', 'fur', 'targets', 'mrna', 'ryhb', 'srna', 'repressed', 'proteins', 'mutant', 'could', 'mrnas', 'results', 'regulation', 'rela', 'additional', 'omra', 'region', 'repression', 'previously', 'shown', 'regulate', 'also', 'regulated', 'reduced', 'soda', 'analysis', 'dppa', 'gfp', 'oppa', 'interactions', 'encoding', 'transport', '124', '161', 'cyca', 'pairing', 'required', 'respiration', 'cueo', 'weakly', 'act', 'anaerobically', 'antisense', 'clpb', 'end', 'fnrs']\n",
      "\n",
      "Top 20 terms for activator of:\n",
      "['results', 'identified', 'activator', 'ompr', 'omra', 'previous', 'transcription', 'activation', 'acts', 'demonstrate', 'glms', 'glmy', 'glmz', 'mrna', 'upstream', 'activating', 'although', 'arcz', 'coli', 'dsra', 'rpos', 'rpra', 'srnas', 'three']\n",
      "\n",
      "Top 20 terms for regulates (molecular biology):\n",
      "['expression', 'regulation', 'sara', 'gcvb', 'transcriptional', 'operon', 'nusg', 'oxys', 'represses', 'role', 'fusion', 'lacz', 'genes', 'existed', 'level', 'likely', 'oxyr', 'post', 'result', '01172', 'although', 'described', 'previously', 'pyrimidine', 'saouhsc_01165', '11', 'mrna', 'ms2', 'spry', 'supplementary', 'compared', 'candidate', 'control', 'family', 'known', 'likeliest', 'made', 'members', 'rna', 'small', 'yifk', '3005', 'also', 'biofilm', 'capa1', 'ica', 'involved', 'like', 'regulates', 'repressed']\n",
      "\n"
     ]
    }
   ],
   "source": [
    "for label in train_df.type_of_regulation.unique():\n",
    "    # Vectorize the current class texts\n",
    "    tfidf_matrix = tfidf_vectorizer.fit_transform(train_df[train_df.type_of_regulation==label].text_prep.to_list())\n",
    "    feature_names = tfidf_vectorizer.get_feature_names_out()\n",
    "    \n",
    "    # Sum tfidf scores for each term across all documents in the class\n",
    "    sum_tfidf = tfidf_matrix.sum(axis=0)\n",
    "    tfidf_scores = [(feature_names[col], sum_tfidf[0, col]) for col in range(sum_tfidf.shape[1])]\n",
    "    \n",
    "    # Sort the terms by their score and select the top 20\n",
    "    sorted_tfidf_scores = sorted(tfidf_scores, key=lambda x: x[1], reverse=True)[:50]\n",
    "    \n",
    "    # At this point, you have the top 20 terms for the current class\n",
    "    # but they are not yet filtered for uniqueness across classes\n",
    "    unique_terms_per_class[label] = [term for term, score in sorted_tfidf_scores]\n",
    "\n",
    "    print(f'Top 20 terms for {label}:')\n",
    "    print(unique_terms_per_class[label])\n",
    "    print()"
   ]
  },
  {
   "cell_type": "markdown",
   "id": "81ea16ca-a143-44d1-a5f8-9f62ad906898",
   "metadata": {},
   "source": [
    "#### Identify Terms within the top 30 TFIDF Terms per class, that are not in other classes"
   ]
  },
  {
   "cell_type": "code",
   "execution_count": 15,
   "id": "deade79c-b387-4a05-850b-f2dad340dab2",
   "metadata": {},
   "outputs": [
    {
     "name": "stdout",
     "output_type": "stream",
     "text": [
      "Top terms for none that are not in the other classes:\n",
      "['bacterial', 'gene', 'mechanisms', 'bacteria', 'microbial', 'potential', 'environmental', 'study', 'insights', 'understanding', 'production', 'strategies', 'including', 'processes', 'provides', 'application', 'cell', 'resistance', 'synthesis', 'stress', 'response', 'adaptation', 'roles', 'health', 'biosynthesis', 'exploration', 'protein', 'nutrient', 'development', 'energy', 'cycling', 'cellular', 'systems', 'offers', 'crucial', 'compounds', 'environments', 'degradation', 'investigation', 'survival', 'metabolic', 'highlights', 'nitrogen', 'metabolism', 'organic', 'informs']\n",
      "\n",
      "Top terms for antisense inhibitor of that are not in the other classes:\n",
      "['suggest', 'fur', 'targets', 'ryhb', 'srna', 'proteins', 'mutant', 'could', 'mrnas', 'rela', 'additional', 'region', 'repression', 'shown', 'regulate', 'regulated', 'reduced', 'soda', 'analysis', 'dppa', 'gfp', 'oppa', 'encoding', 'transport', '124', '161', 'cyca', 'pairing', 'required', 'respiration', 'cueo', 'weakly', 'act', 'anaerobically', 'antisense', 'clpb', 'end', 'fnrs']\n",
      "\n",
      "Top terms for regulates (molecular biology) that are not in the other classes:\n",
      "['sara', 'transcriptional', 'operon', 'nusg', 'oxys', 'represses', 'fusion', 'lacz', 'existed', 'level', 'likely', 'oxyr', 'post', 'result', '01172', 'described', 'pyrimidine', 'saouhsc_01165', '11', 'ms2', 'spry', 'supplementary', 'compared', 'candidate', 'control', 'family', 'known', 'likeliest', 'made', 'members', 'small', 'yifk', '3005', 'biofilm', 'capa1', 'ica', 'like', 'regulates']\n",
      "\n",
      "Top terms for activator of that are not in the other classes:\n",
      "['identified', 'activator', 'ompr', 'previous', 'transcription', 'activation', 'acts', 'demonstrate', 'glms', 'glmy', 'glmz', 'upstream', 'activating', 'arcz', 'coli', 'dsra', 'rpos', 'rpra', 'srnas', 'three']\n",
      "\n"
     ]
    }
   ],
   "source": [
    "final_unique_terms_per_class = {}\n",
    "\n",
    "for label, terms in unique_terms_per_class.items():\n",
    "    other_classes_terms = set()\n",
    "    for other_class, other_terms in unique_terms_per_class.items():\n",
    "        if other_class != label:\n",
    "            other_classes_terms.update(other_terms)\n",
    "    \n",
    "    # Filter terms that are not in any other class's top 20 list\n",
    "    unique_terms = [term for term in terms if term not in other_classes_terms]\n",
    "    final_unique_terms_per_class[label] = unique_terms\n",
    "    \n",
    "    print(f'Top terms for {label} that are not in the other classes:')\n",
    "    print(final_unique_terms_per_class[label])\n",
    "    print()"
   ]
  },
  {
   "cell_type": "code",
   "execution_count": 16,
   "id": "c8f5877b-8a8f-485c-95b5-feb8ce5f5c1c",
   "metadata": {},
   "outputs": [
    {
     "name": "stdout",
     "output_type": "stream",
     "text": [
      "Train size: (374, 2)\n",
      "Test size:(161, 2)\n"
     ]
    }
   ],
   "source": [
    "train_df = train_df[['text_prep', 'type_of_regulation',]].drop_duplicates().reset_index(drop=True)\n",
    "test_df = test_df[['text_prep', 'type_of_regulation']].drop_duplicates().reset_index(drop=True)\n",
    "\n",
    "print(f'Train size: {train_df.shape}')\n",
    "print(f'Test size:{test_df.shape}')"
   ]
  },
  {
   "cell_type": "code",
   "execution_count": 17,
   "id": "9576e148-7b91-4172-992a-ae906020895c",
   "metadata": {},
   "outputs": [
    {
     "data": {
      "text/plain": [
       "type_of_regulation\n",
       "none                             150\n",
       "antisense inhibitor of             7\n",
       "regulates (molecular biology)      3\n",
       "activator of                       1\n",
       "Name: count, dtype: int64"
      ]
     },
     "execution_count": 17,
     "metadata": {},
     "output_type": "execute_result"
    }
   ],
   "source": [
    "test_df.type_of_regulation.value_counts()"
   ]
  },
  {
   "cell_type": "markdown",
   "id": "139e902a-9ab1-4719-a261-d2c8e9a4d214",
   "metadata": {},
   "source": [
    "### Calculate POS Tags"
   ]
  },
  {
   "cell_type": "code",
   "execution_count": 18,
   "id": "7c855369-8e99-4a99-8d78-eb1886e9f02b",
   "metadata": {},
   "outputs": [
    {
     "name": "stderr",
     "output_type": "stream",
     "text": [
      "/home/bernards/sRNA_extraction/srna_venv/lib/python3.10/site-packages/spacy/language.py:2141: FutureWarning: Possible set union at position 6328\n",
      "  deserializers[\"tokenizer\"] = lambda p: self.tokenizer.from_disk(  # type: ignore[union-attr]\n"
     ]
    }
   ],
   "source": [
    "import spacy\n",
    "pos_tagger = spacy.load(\"en_core_sci_sm\")"
   ]
  },
  {
   "cell_type": "code",
   "execution_count": 249,
   "id": "dbc74f46-3ac9-4b84-9e0b-c01f2cc7a8f6",
   "metadata": {},
   "outputs": [],
   "source": [
    "class POSTagsTfidfVectorizer(BaseEstimator, TransformerMixin):\n",
    "    \"\"\"\n",
    "    A custom transformer that converts text to Part-Of-Speech (POS) tags using spaCy\n",
    "    and then applies TF-IDF vectorization to these tags.\n",
    "    \"\"\"\n",
    "    \n",
    "    def __init__(self, model_name: str = \"en_core_sci_sm\"):\n",
    "        \"\"\"\n",
    "        Initializes the transformer with a spaCy language model for POS tagging\n",
    "        and a TfidfVectorizer for vectorizing the POS tags.\n",
    "        \"\"\"\n",
    "        self.model_name = model_name\n",
    "        self.pos_tagger = spacy.load(model_name)\n",
    "        self.tfidf_vectorizer = TfidfVectorizer()\n",
    "    \n",
    "    def fit(self, X, y=None):\n",
    "        \"\"\"\n",
    "        Fits the TfidfVectorizer to the POS tags generated from the input text.\n",
    "\n",
    "        Parameters:\n",
    "            X (iterable of str): The input text data to fit.\n",
    "            y (ignored): Not used.\n",
    "\n",
    "        Returns:\n",
    "            self (POSTagsTfidfVectorizer): The fitted transformer.\n",
    "        \"\"\"\n",
    "        pos_tags = self._texts_to_pos_tags(X)\n",
    "        self.tfidf_vectorizer.fit(pos_tags)\n",
    "        return self\n",
    "    \n",
    "    def transform(self, X, y=None):\n",
    "        \"\"\"\n",
    "        Transforms the input text to a TF-IDF representation of its POS tags.\n",
    "\n",
    "        Parameters:\n",
    "            X (iterable of str): The input text data to transform.\n",
    "\n",
    "        Returns:\n",
    "            transformed (sparse matrix): The TF-IDF representation of the POS tags.\n",
    "        \"\"\"\n",
    "        pos_tags = self._texts_to_pos_tags(X)\n",
    "        transformed = self.tfidf_vectorizer.transform(pos_tags)\n",
    "        return transformed\n",
    "    \n",
    "    def _texts_to_pos_tags(self, texts):\n",
    "        \"\"\"\n",
    "        Helper method to convert a list of texts to a list of space-separated POS tags strings.\n",
    "\n",
    "        Parameters:\n",
    "            texts (iterable of str): The input text data.\n",
    "\n",
    "        Returns:\n",
    "            pos_tags_list (List[str]): A list of space-separated POS tags strings.\n",
    "        \"\"\"\n",
    "        pos_tags_list = [' '.join([token.pos_ for token in self.pos_tagger(text)]) for text in texts]\n",
    "        return pos_tags_list"
   ]
  },
  {
   "cell_type": "markdown",
   "id": "a2831f7e-ab55-4b7e-bab6-9666826dd353",
   "metadata": {},
   "source": [
    "### Create RegEx Patterns"
   ]
  },
  {
   "cell_type": "code",
   "execution_count": 250,
   "id": "0f65c946-426e-4c3f-b4f1-76ce71a47dba",
   "metadata": {
    "scrolled": true
   },
   "outputs": [],
   "source": [
    "class RegexFeatureExtractor(BaseEstimator, TransformerMixin):\n",
    "    def __init__(self):\n",
    "        self.patterns = {\n",
    "            'activator_of': r\"activat(es?|ion|or|ing)\",\n",
    "            'regulation': r\"re(gulat(e|es|ed|ing|ion)|press(ed|ing)?)\",\n",
    "            'antisense_inhibitor': r\"(antisense|inhibit(s|ed|ing|ion))\"\n",
    "            }\n",
    "    \n",
    "    def fit(self, X, y=None):\n",
    "        return self  # Nothing to fit, so just return self\n",
    "    \n",
    "    def transform(self, X, y=None):\n",
    "        # Initialize an array for the extracted features\n",
    "        features = np.zeros((len(X), len(self.patterns)), dtype=int)\n",
    "        \n",
    "        # Iterate over the rows in the input data\n",
    "        for i, text in enumerate(X):\n",
    "            for j, (label, pattern) in enumerate(self.patterns.items()):\n",
    "                if re.search(pattern, text, re.IGNORECASE):\n",
    "                    features[i, j] = 1\n",
    "        \n",
    "        return features"
   ]
  },
  {
   "cell_type": "code",
   "execution_count": 251,
   "id": "9f55917a-7d14-455b-ad81-7f1e95fa484f",
   "metadata": {},
   "outputs": [],
   "source": [
    "pos_tags_tfidf_vectorizer = POSTagsTfidfVectorizer()\n",
    "regex_feature_extractor = RegexFeatureExtractor()\n"
   ]
  },
  {
   "cell_type": "markdown",
   "id": "4465f90c-9672-4156-a080-92f7da5f9505",
   "metadata": {},
   "source": [
    "## Encode Labels"
   ]
  },
  {
   "cell_type": "code",
   "execution_count": 15,
   "id": "e1f2a91c-266b-44b9-8040-8b9baedeaa81",
   "metadata": {},
   "outputs": [],
   "source": [
    "label_encoder = LabelEncoder()\n",
    "train_df['labels'] = label_encoder.fit_transform(train_df['type_of_regulation'])\n",
    "test_df['labels'] = label_encoder.fit_transform(test_df['type_of_regulation'])\n",
    "y_train = train_df['labels']\n",
    "y_test = test_df['labels']\n"
   ]
  },
  {
   "cell_type": "code",
   "execution_count": null,
   "id": "806224c8-8b65-4d9e-a8cb-4e559bb49fb8",
   "metadata": {},
   "outputs": [],
   "source": [
    "label_encoder.classes_"
   ]
  },
  {
   "cell_type": "code",
   "execution_count": null,
   "id": "3c9e9d94-fb8d-4152-a3de-ef26f6537a00",
   "metadata": {},
   "outputs": [],
   "source": [
    "X_train = train_df[['text_prep']]\n",
    "\n",
    "X_test = test_df[['text_prep']]"
   ]
  },
  {
   "cell_type": "code",
   "execution_count": null,
   "id": "94ef93f7-acfe-4598-a864-6664c785e210",
   "metadata": {},
   "outputs": [],
   "source": [
    "train_df[(train_df.text_prep.isin(test_df.text_prep))&(train_df.type_of_regulation!=\"none\")]"
   ]
  },
  {
   "cell_type": "markdown",
   "id": "b6eab112-d9ce-41ca-a12c-386930541b37",
   "metadata": {},
   "source": [
    "# Model Exploration\n",
    "## Set up BioBERT Sentence Tokenizer"
   ]
  },
  {
   "cell_type": "markdown",
   "id": "83d228cf-90f3-43e2-ad2e-c3fcd8500f83",
   "metadata": {},
   "source": [
    "## Create Preprocesser for Pipeline"
   ]
  },
  {
   "cell_type": "code",
   "execution_count": null,
   "id": "b6349b70-911a-46ea-895b-060cdae66f47",
   "metadata": {},
   "outputs": [],
   "source": [
    "# Base transformers\n",
    "text_tfidf = TfidfVectorizer()\n",
    "text_tfidf_remove_stopwords = TfidfVectorizer(stop_words=nltk_stop_words)\n",
    "pos_tfidf = TfidfVectorizer()"
   ]
  },
  {
   "cell_type": "code",
   "execution_count": null,
   "id": "08e0e246-cb23-454d-9e4f-a2b961e38b22",
   "metadata": {},
   "outputs": [],
   "source": [
    "feature_combinations = [\n",
    "    # Only Text TFIDF\n",
    "    {'name': 'only_text_tfidf', \n",
    "     'transformers': [\n",
    "         ('text_tfidf', text_tfidf, 'text_prep')\n",
    "     ]\n",
    "    },\n",
    "    # Text TFIDF + POS Tags TFIDF\n",
    "    {'name': 'text_tfidf+pos_tfidf', \n",
    "     'transformers': [\n",
    "         ('text_tfidf', text_tfidf, 'text_prep'), \n",
    "         ('pos_tfidf', pos_tags_tfidf_vectorizer, 'text_prep')\n",
    "         ]\n",
    "    },\n",
    "    # Text TFIDF + RegEx Features\n",
    "    {'name': 'text_tf_idf+regex', \n",
    "     'transformers': [\n",
    "         ('text_tfidf', text_tfidf, 'text_prep'), \n",
    "         ('regex_features', regex_feature_extractor, 'text_prep')\n",
    "     ]\n",
    "    },\n",
    "    # Text TFIDF + POS Tags TFIDF + RegEx Features\n",
    "    {'name': 'text_tf_idf+pos_tfidf+regex', \n",
    "     'transformers': [\n",
    "         ('text_tfidf', text_tfidf, 'text_prep'), \n",
    "         ('pos_tfidf', pos_tags_tfidf_vectorizer, 'text_prep'), \n",
    "         ('regex_features', regex_feature_extractor, 'text_prep')\n",
    "     ]\n",
    "    },\n",
    "    \n",
    "    # Only Text TFIDF without stopwords\n",
    "    {'name': 'only_text_tfidf_remove_stopwords', \n",
    "     'transformers': [\n",
    "         ('text_tfidf_remove_stopwords', text_tfidf_remove_stopwords, 'text_prep')\n",
    "     ]\n",
    "    },\n",
    "    # Text TFIDF without stopwords + POS Tags TFIDF \n",
    "    {'name': 'text_tfidf_remove_stopwords+pos_tfidf', \n",
    "     'transformers': [\n",
    "         ('text_tfidf_remove_stopwords', text_tfidf_remove_stopwords, 'text_prep'), \n",
    "         ('pos_tfidf', pos_tags_tfidf_vectorizer, 'text_prep')\n",
    "     ]\n",
    "    },\n",
    "    # Text TFIDF without stopwords + RegEx Features    \n",
    "    {'name': 'text_tfidf_remove_stopwords+regex', \n",
    "     'transformers': [\n",
    "         ('text_tfidf_remove_stopwords', text_tfidf_remove_stopwords, 'text_prep'), \n",
    "         ('regex_features', regex_feature_extractor, 'text_prep')\n",
    "     ]\n",
    "    },\n",
    "    # Text TFIDF without stopwords + POS Tags TFIDF + RegEx Features    \n",
    "    {'name': 'text_tf_idf_remove_stopwords+regex+pos_tfidf', \n",
    "    'transformers': [\n",
    "        ('text_tfidf_remove_stopwords', text_tfidf_remove_stopwords, 'text_prep'),\n",
    "        ('pos_tfidf', pos_tags_tfidf_vectorizer, 'text_prep'), \n",
    "        ('regex_features', regex_feature_extractor, 'text_prep')\n",
    "        ]\n",
    "    },\n",
    "]"
   ]
  },
  {
   "cell_type": "markdown",
   "id": "a4420226-3703-4557-9503-7a452c3e0db2",
   "metadata": {},
   "source": [
    "## Define classifiers to compare"
   ]
  },
  {
   "cell_type": "code",
   "execution_count": null,
   "id": "9aee6d16-044a-44d3-8246-cf4863f99d2c",
   "metadata": {},
   "outputs": [],
   "source": [
    "classifiers = {\n",
    "    'RandomForest': RandomForestClassifier(random_state=42),\n",
    "    'SVM': SVC(kernel='linear'),\n",
    "    'SVM_sigmoid': SVC(kernel='sigmoid'),\n",
    "    'LogisticRegression': LogisticRegression(max_iter=1000),\n",
    "    'GradientBoosting': GradientBoostingClassifier(random_state=42),\n",
    "    'MultinomialNB': MultinomialNB()    \n",
    "}"
   ]
  },
  {
   "cell_type": "markdown",
   "id": "8ea2f84e-4a1e-4e44-a0e7-c9ba2da113a7",
   "metadata": {},
   "source": [
    "## Compare classifier performances\n",
    "### Run each classifier/preprocessing combination to find the optimal pipeline"
   ]
  },
  {
   "cell_type": "code",
   "execution_count": null,
   "id": "c565bdbd-9130-4422-afef-2595e8e838d4",
   "metadata": {},
   "outputs": [],
   "source": [
    "results = []\n",
    "\n",
    "for combo in feature_combinations:\n",
    "    preprocessor = ColumnTransformer(transformers=combo['transformers'])\n",
    "    for name, classifier in classifiers.items():\n",
    "        pipeline = Pipeline(steps=[('preprocessor', preprocessor),\n",
    "                                   ('classifier', classifier)])\n",
    "        \n",
    "        # Train\n",
    "        pipeline.fit(X_train, y_train)\n",
    "        \n",
    "        # Evaluate\n",
    "        y_pred = pipeline.predict(X_test)\n",
    "        f1 = f1_score(y_test, y_pred, average='weighted')  # Use 'weighted' for imbalanced classes\n",
    "        \n",
    "        results.append((name, combo['name'], f1))\n",
    "\n",
    "# Sort the results based on F1 score in descending order and select the top 3\n",
    "top_3_models = sorted(results, key=lambda x: x[2], reverse=True)[:3]\n",
    "\n",
    "print(\"\\nTop 3 Models based on F1 Score:\")\n",
    "for model in top_3_models:\n",
    "    print(f\"Model: {model[0]} with {model[1]}: F1 Score = {model[2]}\")"
   ]
  },
  {
   "cell_type": "markdown",
   "id": "485c32e0-8d49-487b-a757-131b5e9de787",
   "metadata": {},
   "source": [
    "## Parameter Tuning for Best Model\n",
    "### Select optimal feature combination from previous experiment"
   ]
  },
  {
   "cell_type": "code",
   "execution_count": null,
   "id": "224802a9-3331-48f8-97ae-cdfc221cee1a",
   "metadata": {},
   "outputs": [],
   "source": [
    "preprocessor = ColumnTransformer(\n",
    "    transformers=[\n",
    "        ('text_tfidf_remove_stopwords', TfidfVectorizer(stop_words=nltk_stop_words), 'text_prep'),\n",
    "        ('pos_tfidf', pos_tags_tfidf_vectorizer, 'text_prep'),\n",
    "        ('regex_features', regex_feature_extractor, 'text_prep')\n",
    "    ]\n",
    ")"
   ]
  },
  {
   "cell_type": "markdown",
   "id": "19c1d1e6-cf93-42c3-815d-593ff2dc8aeb",
   "metadata": {},
   "source": [
    "### Set up GridSearch for Parameter Tuning"
   ]
  },
  {
   "cell_type": "code",
   "execution_count": null,
   "id": "35592ea9-c048-4e6a-99d8-35ee1c9c4dd9",
   "metadata": {},
   "outputs": [],
   "source": [
    "param_grid = {\n",
    "    'classifier__C': [0.1, 0.5, 1.0, 1.5, 2, 2.5],\n",
    "    'classifier__kernel': ['linear', 'rbf', 'poly', 'sigmoid'],\n",
    "    'classifier__gamma': ['scale', 'auto', 0.1, 1, 10],\n",
    "    'classifier__degree': [2, 3, 4]\n",
    "}"
   ]
  },
  {
   "cell_type": "code",
   "execution_count": null,
   "id": "87d06543-fc59-4ca5-8b71-39101f1a9c65",
   "metadata": {},
   "outputs": [],
   "source": [
    "# Initialize the classifier pipeline\n",
    "pipeline = Pipeline(steps=[\n",
    "    ('preprocessor', preprocessor),\n",
    "    ('classifier', SVC())\n",
    "])\n",
    "# Define the F1 scorer\n",
    "f1_scorer = make_scorer(f1_score, average='weighted')\n",
    "\n",
    "# Setup the grid search\n",
    "grid_search = GridSearchCV(estimator=pipeline, param_grid=param_grid, scoring=f1_scorer, cv=5, verbose=2, n_jobs=8)"
   ]
  },
  {
   "cell_type": "markdown",
   "id": "a1994c68-0fb3-4e12-83ec-10e996471b8d",
   "metadata": {},
   "source": [
    "## Perform GridSearch"
   ]
  },
  {
   "cell_type": "code",
   "execution_count": null,
   "id": "8a97d5ae-24fe-42c0-a589-0d45aec63edb",
   "metadata": {
    "scrolled": true
   },
   "outputs": [],
   "source": [
    "# Assuming X_train and y_train are your features and labels for training\n",
    "grid_search.fit(X_train, y_train)\n"
   ]
  },
  {
   "cell_type": "markdown",
   "id": "e0ea928e-c074-484d-807c-279386e39855",
   "metadata": {},
   "source": [
    "### Show results for best model"
   ]
  },
  {
   "cell_type": "code",
   "execution_count": null,
   "id": "060fe64e-26e4-40fb-a17e-5d85dc652808",
   "metadata": {},
   "outputs": [],
   "source": [
    "print(\"Best parameters found: \", grid_search.best_params_)\n",
    "best_model = grid_search.best_estimator_\n",
    "\n",
    "y_pred = best_model.predict(X_test) \n",
    "print(classification_report(y_test, y_pred))\n",
    "f1 = f1_score(y_test, y_pred, average='weighted')\n",
    "print(f1)"
   ]
  },
  {
   "cell_type": "code",
   "execution_count": null,
   "id": "afe18682-c605-49b8-8eaf-4555350409c9",
   "metadata": {},
   "outputs": [],
   "source": []
  },
  {
   "cell_type": "code",
   "execution_count": null,
   "id": "02f2b28d-0116-463d-ae5b-c4a87bb769b8",
   "metadata": {},
   "outputs": [],
   "source": [
    "test_df[test_df.type_of_regulation=='activator of'].text_prep.iloc[0]"
   ]
  },
  {
   "cell_type": "markdown",
   "id": "6c0df595-7a7f-4cc3-8729-71b1b77da1e5",
   "metadata": {},
   "source": [
    "## Train the final model"
   ]
  },
  {
   "cell_type": "code",
   "execution_count": null,
   "id": "dbdc6ab5-c0d8-4951-a6e3-8b4543482f78",
   "metadata": {},
   "outputs": [],
   "source": [
    "final_model = Pipeline(steps=[\n",
    "    ('preprocessor', preprocessor),\n",
    "    ('classifier', SVC(\n",
    "        C=grid_search.best_params_['classifier__C'],\n",
    "        kernel=grid_search.best_params_['classifier__kernel'],\n",
    "        gamma=grid_search.best_params_['classifier__gamma'],\n",
    "        degree=grid_search.best_params_['classifier__degree'],\n",
    "        random_state=42))\n",
    "])"
   ]
  },
  {
   "cell_type": "code",
   "execution_count": null,
   "id": "fab32433-8f2f-4674-81f7-2d201358014f",
   "metadata": {},
   "outputs": [],
   "source": [
    "final_model.fit(X_train, y_train)"
   ]
  },
  {
   "cell_type": "code",
   "execution_count": null,
   "id": "5d9d8911-677d-443a-a507-83fe63c1e8a2",
   "metadata": {},
   "outputs": [],
   "source": [
    "y_pred = final_model.predict(X_test)\n",
    "print(classification_report(label_encoder.inverse_transform(y_test), label_encoder.inverse_transform(y_pred)))\n",
    "f1 = f1_score(y_test, y_pred, average='weighted')\n",
    "print(f1)"
   ]
  },
  {
   "cell_type": "code",
   "execution_count": null,
   "id": "84ee7633-760b-4b50-955b-52209a9f3387",
   "metadata": {},
   "outputs": [],
   "source": []
  },
  {
   "cell_type": "code",
   "execution_count": null,
   "id": "f195b217-e64f-41c9-8a09-fad871197d26",
   "metadata": {},
   "outputs": [],
   "source": [
    "label_names = [label.split()[0] for label in label_encoder.classes_]\n",
    "cm = confusion_matrix(y_test, y_pred)\n",
    "disp = ConfusionMatrixDisplay(confusion_matrix=cm, display_labels=label_names)\n",
    "\n",
    "# Display as a heatmap\n",
    "disp.plot(cmap=plt.cm.Blues, )\n",
    "plt.title('Relation Classification Confusion Matrix')\n",
    "# plt.xticks(rotation=30)\n",
    "plt.show()"
   ]
  },
  {
   "cell_type": "markdown",
   "id": "687d6d78-1cce-438f-9a52-11dd8e6dff2d",
   "metadata": {},
   "source": [
    "## Write best model to disk"
   ]
  },
  {
   "cell_type": "code",
   "execution_count": null,
   "id": "58b5b172-06bc-4787-b487-9e81b6cdb527",
   "metadata": {},
   "outputs": [],
   "source": [
    "joblib.dump(final_model, os.path.join(MODEL_OUT_PATH, 'relation_classifier.joblib'))"
   ]
  },
  {
   "cell_type": "code",
   "execution_count": null,
   "id": "0e35d64c-54c9-4528-99d1-a4c2f95184f5",
   "metadata": {},
   "outputs": [],
   "source": [
    "joblib.dump(label_encoder, os.path.join(MODEL_OUT_PATH, 'label_encoder.joblib'))"
   ]
  }
 ],
 "metadata": {
  "kernelspec": {
   "display_name": "Python 3 (ipykernel)",
   "language": "python",
   "name": "python3"
  },
  "language_info": {
   "codemirror_mode": {
    "name": "ipython",
    "version": 3
   },
   "file_extension": ".py",
   "mimetype": "text/x-python",
   "name": "python",
   "nbconvert_exporter": "python",
   "pygments_lexer": "ipython3",
   "version": "3.10.12"
  }
 },
 "nbformat": 4,
 "nbformat_minor": 5
}
